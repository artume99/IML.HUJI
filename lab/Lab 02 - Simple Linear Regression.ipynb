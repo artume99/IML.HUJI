{
 "cells": [
  {
   "cell_type": "markdown",
   "metadata": {
    "collapsed": true,
    "pycharm": {
     "name": "#%% md\n"
    }
   },
   "source": [
    "# Lab 02 - Simple Linear Regression\n",
    "\n",
    "Regressions are any learning problem that aim to describe the relation between a set of explanatory \n",
    "variables (i.e. features) and a continuous response (or a set of responses). Therefore our dataset is of the form:\n",
    "\n",
    "$$S=\\left\\{\\left(\\mathbf{x}_i, y_i\\right)\\right\\}^m_{i=1} \\quad s.t. \\quad \\mathbf{x}_i\\in\\mathbb{R^d},\\,\\,y_i\\in\\mathbb{R}$$\n",
    "\n",
    "In the case of Linear Regression the relation learned is a linear one. That is, we search for a linear function to map \n",
    "$\\mathcal{X}$ to $\\mathcal{Y}$. So the hypothesis class of linear regression is:\n",
    "\n",
    "$$ \\mathcal{H}_{reg} = \\left\\{h:h\\left(x_1,\\ldots,x_d\\right)=w_0 + \\sum w_i x_i\\right\\} $$\n",
    "\n",
    "Note that the linear function is linear in the parameters $w_0,w_1,\\ldots,w_d$. Let us simulate a dataset fitting the case of a simple linear regression: \n",
    "\n",
    "$$ y_i = w_1 x_i + w_0 \\quad i=1,\\ldots,m $$\n",
    "\n",
    "So each hypothesis in the class $\\mathcal{H}_{reg}$ is defined by two parameters $w_0,w_1$ - the intercept and slope of\n",
    "the line. Suppose the data is generated from the following line: $Y=2X+1$. So $w_0=1$ and $w_2=2$. Let us draw and plot \n",
    "samples from this function."
   ]
  },
  {
   "cell_type": "code",
   "execution_count": 8,
   "metadata": {},
   "outputs": [],
   "source": [
    "import sys\n",
    "sys.path.append(\"../\")\n",
    "from utils import *"
   ]
  },
  {
   "cell_type": "markdown",
   "metadata": {},
   "source": [
    "## Linear Regression"
   ]
  },
  {
   "cell_type": "code",
   "execution_count": 9,
   "metadata": {
    "pycharm": {
     "name": "#%%\n"
    }
   },
   "outputs": [],
   "source": [
    "w0, w1 = 1, 2    \n",
    "\n",
    "x = np.linspace(0, 100, 10)\n",
    "y = w1*x + w0"
   ]
  },
  {
   "cell_type": "code",
   "execution_count": 10,
   "metadata": {
    "pycharm": {
     "name": "#%%\n"
    }
   },
   "outputs": [
    {
     "data": {
      "application/vnd.plotly.v1+json": {
       "data": [
        {
         "line": {
          "color": "black",
          "dash": "dash",
          "width": 1
         },
         "marker": {
          "color": "black",
          "opacity": 0.7
         },
         "name": "Real Model",
         "showlegend": true,
         "x": [
          0.0,
          11.11111111111111,
          22.22222222222222,
          33.33333333333333,
          44.44444444444444,
          55.55555555555556,
          66.66666666666666,
          77.77777777777777,
          88.88888888888889,
          100.0
         ],
         "y": [
          1.0,
          23.22222222222222,
          45.44444444444444,
          67.66666666666666,
          89.88888888888889,
          112.11111111111111,
          134.33333333333331,
          156.55555555555554,
          178.77777777777777,
          201.0
         ],
         "type": "scatter"
        }
       ],
       "layout": {
        "height": 400,
        "title": {
         "text": "$\\text{(1) Simulated Data}$"
        },
        "xaxis": {
         "title": {
          "text": "x - Explanatory Variable"
         }
        },
        "yaxis": {
         "title": {
          "text": "y - Response"
         }
        },
        "template": {
         "data": {
          "barpolar": [
           {
            "marker": {
             "line": {
              "color": "white",
              "width": 0.5
             },
             "pattern": {
              "fillmode": "overlay",
              "size": 10,
              "solidity": 0.2
             }
            },
            "type": "barpolar"
           }
          ],
          "bar": [
           {
            "error_x": {
             "color": "rgb(36,36,36)"
            },
            "error_y": {
             "color": "rgb(36,36,36)"
            },
            "marker": {
             "line": {
              "color": "white",
              "width": 0.5
             },
             "pattern": {
              "fillmode": "overlay",
              "size": 10,
              "solidity": 0.2
             }
            },
            "type": "bar"
           }
          ],
          "carpet": [
           {
            "aaxis": {
             "endlinecolor": "rgb(36,36,36)",
             "gridcolor": "white",
             "linecolor": "white",
             "minorgridcolor": "white",
             "startlinecolor": "rgb(36,36,36)"
            },
            "baxis": {
             "endlinecolor": "rgb(36,36,36)",
             "gridcolor": "white",
             "linecolor": "white",
             "minorgridcolor": "white",
             "startlinecolor": "rgb(36,36,36)"
            },
            "type": "carpet"
           }
          ],
          "choropleth": [
           {
            "colorbar": {
             "outlinewidth": 1,
             "tickcolor": "rgb(36,36,36)",
             "ticks": "outside"
            },
            "type": "choropleth"
           }
          ],
          "contourcarpet": [
           {
            "colorbar": {
             "outlinewidth": 1,
             "tickcolor": "rgb(36,36,36)",
             "ticks": "outside"
            },
            "type": "contourcarpet"
           }
          ],
          "contour": [
           {
            "colorbar": {
             "outlinewidth": 1,
             "tickcolor": "rgb(36,36,36)",
             "ticks": "outside"
            },
            "colorscale": [
             [
              0.0,
              "#440154"
             ],
             [
              0.1111111111111111,
              "#482878"
             ],
             [
              0.2222222222222222,
              "#3e4989"
             ],
             [
              0.3333333333333333,
              "#31688e"
             ],
             [
              0.4444444444444444,
              "#26828e"
             ],
             [
              0.5555555555555556,
              "#1f9e89"
             ],
             [
              0.6666666666666666,
              "#35b779"
             ],
             [
              0.7777777777777778,
              "#6ece58"
             ],
             [
              0.8888888888888888,
              "#b5de2b"
             ],
             [
              1.0,
              "#fde725"
             ]
            ],
            "type": "contour"
           }
          ],
          "heatmapgl": [
           {
            "colorbar": {
             "outlinewidth": 1,
             "tickcolor": "rgb(36,36,36)",
             "ticks": "outside"
            },
            "colorscale": [
             [
              0.0,
              "#440154"
             ],
             [
              0.1111111111111111,
              "#482878"
             ],
             [
              0.2222222222222222,
              "#3e4989"
             ],
             [
              0.3333333333333333,
              "#31688e"
             ],
             [
              0.4444444444444444,
              "#26828e"
             ],
             [
              0.5555555555555556,
              "#1f9e89"
             ],
             [
              0.6666666666666666,
              "#35b779"
             ],
             [
              0.7777777777777778,
              "#6ece58"
             ],
             [
              0.8888888888888888,
              "#b5de2b"
             ],
             [
              1.0,
              "#fde725"
             ]
            ],
            "type": "heatmapgl"
           }
          ],
          "heatmap": [
           {
            "colorbar": {
             "outlinewidth": 1,
             "tickcolor": "rgb(36,36,36)",
             "ticks": "outside"
            },
            "colorscale": [
             [
              0.0,
              "#440154"
             ],
             [
              0.1111111111111111,
              "#482878"
             ],
             [
              0.2222222222222222,
              "#3e4989"
             ],
             [
              0.3333333333333333,
              "#31688e"
             ],
             [
              0.4444444444444444,
              "#26828e"
             ],
             [
              0.5555555555555556,
              "#1f9e89"
             ],
             [
              0.6666666666666666,
              "#35b779"
             ],
             [
              0.7777777777777778,
              "#6ece58"
             ],
             [
              0.8888888888888888,
              "#b5de2b"
             ],
             [
              1.0,
              "#fde725"
             ]
            ],
            "type": "heatmap"
           }
          ],
          "histogram2dcontour": [
           {
            "colorbar": {
             "outlinewidth": 1,
             "tickcolor": "rgb(36,36,36)",
             "ticks": "outside"
            },
            "colorscale": [
             [
              0.0,
              "#440154"
             ],
             [
              0.1111111111111111,
              "#482878"
             ],
             [
              0.2222222222222222,
              "#3e4989"
             ],
             [
              0.3333333333333333,
              "#31688e"
             ],
             [
              0.4444444444444444,
              "#26828e"
             ],
             [
              0.5555555555555556,
              "#1f9e89"
             ],
             [
              0.6666666666666666,
              "#35b779"
             ],
             [
              0.7777777777777778,
              "#6ece58"
             ],
             [
              0.8888888888888888,
              "#b5de2b"
             ],
             [
              1.0,
              "#fde725"
             ]
            ],
            "type": "histogram2dcontour"
           }
          ],
          "histogram2d": [
           {
            "colorbar": {
             "outlinewidth": 1,
             "tickcolor": "rgb(36,36,36)",
             "ticks": "outside"
            },
            "colorscale": [
             [
              0.0,
              "#440154"
             ],
             [
              0.1111111111111111,
              "#482878"
             ],
             [
              0.2222222222222222,
              "#3e4989"
             ],
             [
              0.3333333333333333,
              "#31688e"
             ],
             [
              0.4444444444444444,
              "#26828e"
             ],
             [
              0.5555555555555556,
              "#1f9e89"
             ],
             [
              0.6666666666666666,
              "#35b779"
             ],
             [
              0.7777777777777778,
              "#6ece58"
             ],
             [
              0.8888888888888888,
              "#b5de2b"
             ],
             [
              1.0,
              "#fde725"
             ]
            ],
            "type": "histogram2d"
           }
          ],
          "histogram": [
           {
            "marker": {
             "line": {
              "color": "white",
              "width": 0.6
             }
            },
            "type": "histogram"
           }
          ],
          "mesh3d": [
           {
            "colorbar": {
             "outlinewidth": 1,
             "tickcolor": "rgb(36,36,36)",
             "ticks": "outside"
            },
            "type": "mesh3d"
           }
          ],
          "parcoords": [
           {
            "line": {
             "colorbar": {
              "outlinewidth": 1,
              "tickcolor": "rgb(36,36,36)",
              "ticks": "outside"
             }
            },
            "type": "parcoords"
           }
          ],
          "pie": [
           {
            "automargin": true,
            "type": "pie"
           }
          ],
          "scatter3d": [
           {
            "line": {
             "colorbar": {
              "outlinewidth": 1,
              "tickcolor": "rgb(36,36,36)",
              "ticks": "outside"
             }
            },
            "marker": {
             "colorbar": {
              "outlinewidth": 1,
              "tickcolor": "rgb(36,36,36)",
              "ticks": "outside"
             }
            },
            "type": "scatter3d"
           }
          ],
          "scattercarpet": [
           {
            "marker": {
             "colorbar": {
              "outlinewidth": 1,
              "tickcolor": "rgb(36,36,36)",
              "ticks": "outside"
             }
            },
            "type": "scattercarpet"
           }
          ],
          "scattergeo": [
           {
            "marker": {
             "colorbar": {
              "outlinewidth": 1,
              "tickcolor": "rgb(36,36,36)",
              "ticks": "outside"
             }
            },
            "type": "scattergeo"
           }
          ],
          "scattergl": [
           {
            "marker": {
             "colorbar": {
              "outlinewidth": 1,
              "tickcolor": "rgb(36,36,36)",
              "ticks": "outside"
             }
            },
            "type": "scattergl"
           }
          ],
          "scattermapbox": [
           {
            "marker": {
             "colorbar": {
              "outlinewidth": 1,
              "tickcolor": "rgb(36,36,36)",
              "ticks": "outside"
             }
            },
            "type": "scattermapbox"
           }
          ],
          "scatterpolargl": [
           {
            "marker": {
             "colorbar": {
              "outlinewidth": 1,
              "tickcolor": "rgb(36,36,36)",
              "ticks": "outside"
             }
            },
            "type": "scatterpolargl"
           }
          ],
          "scatterpolar": [
           {
            "marker": {
             "colorbar": {
              "outlinewidth": 1,
              "tickcolor": "rgb(36,36,36)",
              "ticks": "outside"
             }
            },
            "type": "scatterpolar"
           }
          ],
          "scatter": [
           {
            "marker": {
             "colorbar": {
              "outlinewidth": 1,
              "tickcolor": "rgb(36,36,36)",
              "ticks": "outside"
             }
            },
            "type": "scatter"
           }
          ],
          "scatterternary": [
           {
            "marker": {
             "colorbar": {
              "outlinewidth": 1,
              "tickcolor": "rgb(36,36,36)",
              "ticks": "outside"
             }
            },
            "type": "scatterternary"
           }
          ],
          "surface": [
           {
            "colorbar": {
             "outlinewidth": 1,
             "tickcolor": "rgb(36,36,36)",
             "ticks": "outside"
            },
            "colorscale": [
             [
              0.0,
              "#440154"
             ],
             [
              0.1111111111111111,
              "#482878"
             ],
             [
              0.2222222222222222,
              "#3e4989"
             ],
             [
              0.3333333333333333,
              "#31688e"
             ],
             [
              0.4444444444444444,
              "#26828e"
             ],
             [
              0.5555555555555556,
              "#1f9e89"
             ],
             [
              0.6666666666666666,
              "#35b779"
             ],
             [
              0.7777777777777778,
              "#6ece58"
             ],
             [
              0.8888888888888888,
              "#b5de2b"
             ],
             [
              1.0,
              "#fde725"
             ]
            ],
            "type": "surface"
           }
          ],
          "table": [
           {
            "cells": {
             "fill": {
              "color": "rgb(237,237,237)"
             },
             "line": {
              "color": "white"
             }
            },
            "header": {
             "fill": {
              "color": "rgb(217,217,217)"
             },
             "line": {
              "color": "white"
             }
            },
            "type": "table"
           }
          ]
         },
         "layout": {
          "annotationdefaults": {
           "arrowhead": 0,
           "arrowwidth": 1
          },
          "autotypenumbers": "strict",
          "coloraxis": {
           "colorbar": {
            "outlinewidth": 1,
            "tickcolor": "rgb(36,36,36)",
            "ticks": "outside"
           }
          },
          "colorscale": {
           "diverging": [
            [
             0.0,
             "rgb(103,0,31)"
            ],
            [
             0.1,
             "rgb(178,24,43)"
            ],
            [
             0.2,
             "rgb(214,96,77)"
            ],
            [
             0.3,
             "rgb(244,165,130)"
            ],
            [
             0.4,
             "rgb(253,219,199)"
            ],
            [
             0.5,
             "rgb(247,247,247)"
            ],
            [
             0.6,
             "rgb(209,229,240)"
            ],
            [
             0.7,
             "rgb(146,197,222)"
            ],
            [
             0.8,
             "rgb(67,147,195)"
            ],
            [
             0.9,
             "rgb(33,102,172)"
            ],
            [
             1.0,
             "rgb(5,48,97)"
            ]
           ],
           "sequential": [
            [
             0.0,
             "#440154"
            ],
            [
             0.1111111111111111,
             "#482878"
            ],
            [
             0.2222222222222222,
             "#3e4989"
            ],
            [
             0.3333333333333333,
             "#31688e"
            ],
            [
             0.4444444444444444,
             "#26828e"
            ],
            [
             0.5555555555555556,
             "#1f9e89"
            ],
            [
             0.6666666666666666,
             "#35b779"
            ],
            [
             0.7777777777777778,
             "#6ece58"
            ],
            [
             0.8888888888888888,
             "#b5de2b"
            ],
            [
             1.0,
             "#fde725"
            ]
           ],
           "sequentialminus": [
            [
             0.0,
             "#440154"
            ],
            [
             0.1111111111111111,
             "#482878"
            ],
            [
             0.2222222222222222,
             "#3e4989"
            ],
            [
             0.3333333333333333,
             "#31688e"
            ],
            [
             0.4444444444444444,
             "#26828e"
            ],
            [
             0.5555555555555556,
             "#1f9e89"
            ],
            [
             0.6666666666666666,
             "#35b779"
            ],
            [
             0.7777777777777778,
             "#6ece58"
            ],
            [
             0.8888888888888888,
             "#b5de2b"
            ],
            [
             1.0,
             "#fde725"
            ]
           ]
          },
          "colorway": [
           "#1F77B4",
           "#FF7F0E",
           "#2CA02C",
           "#D62728",
           "#9467BD",
           "#8C564B",
           "#E377C2",
           "#7F7F7F",
           "#BCBD22",
           "#17BECF"
          ],
          "font": {
           "color": "rgb(36,36,36)"
          },
          "geo": {
           "bgcolor": "white",
           "lakecolor": "white",
           "landcolor": "white",
           "showlakes": true,
           "showland": true,
           "subunitcolor": "white"
          },
          "hoverlabel": {
           "align": "left"
          },
          "hovermode": "closest",
          "mapbox": {
           "style": "light"
          },
          "paper_bgcolor": "white",
          "plot_bgcolor": "white",
          "polar": {
           "angularaxis": {
            "gridcolor": "rgb(232,232,232)",
            "linecolor": "rgb(36,36,36)",
            "showgrid": false,
            "showline": true,
            "ticks": "outside"
           },
           "bgcolor": "white",
           "radialaxis": {
            "gridcolor": "rgb(232,232,232)",
            "linecolor": "rgb(36,36,36)",
            "showgrid": false,
            "showline": true,
            "ticks": "outside"
           }
          },
          "scene": {
           "xaxis": {
            "backgroundcolor": "white",
            "gridcolor": "rgb(232,232,232)",
            "gridwidth": 2,
            "linecolor": "rgb(36,36,36)",
            "showbackground": true,
            "showgrid": false,
            "showline": true,
            "ticks": "outside",
            "zeroline": false,
            "zerolinecolor": "rgb(36,36,36)"
           },
           "yaxis": {
            "backgroundcolor": "white",
            "gridcolor": "rgb(232,232,232)",
            "gridwidth": 2,
            "linecolor": "rgb(36,36,36)",
            "showbackground": true,
            "showgrid": false,
            "showline": true,
            "ticks": "outside",
            "zeroline": false,
            "zerolinecolor": "rgb(36,36,36)"
           },
           "zaxis": {
            "backgroundcolor": "white",
            "gridcolor": "rgb(232,232,232)",
            "gridwidth": 2,
            "linecolor": "rgb(36,36,36)",
            "showbackground": true,
            "showgrid": false,
            "showline": true,
            "ticks": "outside",
            "zeroline": false,
            "zerolinecolor": "rgb(36,36,36)"
           }
          },
          "shapedefaults": {
           "fillcolor": "black",
           "line": {
            "width": 0
           },
           "opacity": 0.3
          },
          "ternary": {
           "aaxis": {
            "gridcolor": "rgb(232,232,232)",
            "linecolor": "rgb(36,36,36)",
            "showgrid": false,
            "showline": true,
            "ticks": "outside"
           },
           "baxis": {
            "gridcolor": "rgb(232,232,232)",
            "linecolor": "rgb(36,36,36)",
            "showgrid": false,
            "showline": true,
            "ticks": "outside"
           },
           "bgcolor": "white",
           "caxis": {
            "gridcolor": "rgb(232,232,232)",
            "linecolor": "rgb(36,36,36)",
            "showgrid": false,
            "showline": true,
            "ticks": "outside"
           }
          },
          "title": {
           "x": 0.05
          },
          "xaxis": {
           "automargin": true,
           "gridcolor": "rgb(232,232,232)",
           "linecolor": "rgb(36,36,36)",
           "showgrid": false,
           "showline": true,
           "ticks": "outside",
           "title": {
            "standoff": 15
           },
           "zeroline": false,
           "zerolinecolor": "rgb(36,36,36)"
          },
          "yaxis": {
           "automargin": true,
           "gridcolor": "rgb(232,232,232)",
           "linecolor": "rgb(36,36,36)",
           "showgrid": false,
           "showline": true,
           "ticks": "outside",
           "title": {
            "standoff": 15
           },
           "zeroline": false,
           "zerolinecolor": "rgb(36,36,36)"
          },
          "margin": {
           "b": 0,
           "l": 20,
           "r": 20,
           "t": 40
          }
         }
        }
       },
       "config": {
        "plotlyServerURL": "https://plot.ly"
       }
      },
      "text/html": "<div>                            <div id=\"c867c506-b3bb-49f2-881e-5721e81f9b30\" class=\"plotly-graph-div\" style=\"height:400px; width:100%;\"></div>            <script type=\"text/javascript\">                require([\"plotly\"], function(Plotly) {                    window.PLOTLYENV=window.PLOTLYENV || {};                                    if (document.getElementById(\"c867c506-b3bb-49f2-881e-5721e81f9b30\")) {                    Plotly.newPlot(                        \"c867c506-b3bb-49f2-881e-5721e81f9b30\",                        [{\"line\":{\"color\":\"black\",\"dash\":\"dash\",\"width\":1},\"marker\":{\"color\":\"black\",\"opacity\":0.7},\"name\":\"Real Model\",\"showlegend\":true,\"x\":[0.0,11.11111111111111,22.22222222222222,33.33333333333333,44.44444444444444,55.55555555555556,66.66666666666666,77.77777777777777,88.88888888888889,100.0],\"y\":[1.0,23.22222222222222,45.44444444444444,67.66666666666666,89.88888888888889,112.11111111111111,134.33333333333331,156.55555555555554,178.77777777777777,201.0],\"type\":\"scatter\"}],                        {\"height\":400,\"title\":{\"text\":\"$\\\\text{(1) Simulated Data}$\"},\"xaxis\":{\"title\":{\"text\":\"x - Explanatory Variable\"}},\"yaxis\":{\"title\":{\"text\":\"y - Response\"}},\"template\":{\"data\":{\"barpolar\":[{\"marker\":{\"line\":{\"color\":\"white\",\"width\":0.5},\"pattern\":{\"fillmode\":\"overlay\",\"size\":10,\"solidity\":0.2}},\"type\":\"barpolar\"}],\"bar\":[{\"error_x\":{\"color\":\"rgb(36,36,36)\"},\"error_y\":{\"color\":\"rgb(36,36,36)\"},\"marker\":{\"line\":{\"color\":\"white\",\"width\":0.5},\"pattern\":{\"fillmode\":\"overlay\",\"size\":10,\"solidity\":0.2}},\"type\":\"bar\"}],\"carpet\":[{\"aaxis\":{\"endlinecolor\":\"rgb(36,36,36)\",\"gridcolor\":\"white\",\"linecolor\":\"white\",\"minorgridcolor\":\"white\",\"startlinecolor\":\"rgb(36,36,36)\"},\"baxis\":{\"endlinecolor\":\"rgb(36,36,36)\",\"gridcolor\":\"white\",\"linecolor\":\"white\",\"minorgridcolor\":\"white\",\"startlinecolor\":\"rgb(36,36,36)\"},\"type\":\"carpet\"}],\"choropleth\":[{\"colorbar\":{\"outlinewidth\":1,\"tickcolor\":\"rgb(36,36,36)\",\"ticks\":\"outside\"},\"type\":\"choropleth\"}],\"contourcarpet\":[{\"colorbar\":{\"outlinewidth\":1,\"tickcolor\":\"rgb(36,36,36)\",\"ticks\":\"outside\"},\"type\":\"contourcarpet\"}],\"contour\":[{\"colorbar\":{\"outlinewidth\":1,\"tickcolor\":\"rgb(36,36,36)\",\"ticks\":\"outside\"},\"colorscale\":[[0.0,\"#440154\"],[0.1111111111111111,\"#482878\"],[0.2222222222222222,\"#3e4989\"],[0.3333333333333333,\"#31688e\"],[0.4444444444444444,\"#26828e\"],[0.5555555555555556,\"#1f9e89\"],[0.6666666666666666,\"#35b779\"],[0.7777777777777778,\"#6ece58\"],[0.8888888888888888,\"#b5de2b\"],[1.0,\"#fde725\"]],\"type\":\"contour\"}],\"heatmapgl\":[{\"colorbar\":{\"outlinewidth\":1,\"tickcolor\":\"rgb(36,36,36)\",\"ticks\":\"outside\"},\"colorscale\":[[0.0,\"#440154\"],[0.1111111111111111,\"#482878\"],[0.2222222222222222,\"#3e4989\"],[0.3333333333333333,\"#31688e\"],[0.4444444444444444,\"#26828e\"],[0.5555555555555556,\"#1f9e89\"],[0.6666666666666666,\"#35b779\"],[0.7777777777777778,\"#6ece58\"],[0.8888888888888888,\"#b5de2b\"],[1.0,\"#fde725\"]],\"type\":\"heatmapgl\"}],\"heatmap\":[{\"colorbar\":{\"outlinewidth\":1,\"tickcolor\":\"rgb(36,36,36)\",\"ticks\":\"outside\"},\"colorscale\":[[0.0,\"#440154\"],[0.1111111111111111,\"#482878\"],[0.2222222222222222,\"#3e4989\"],[0.3333333333333333,\"#31688e\"],[0.4444444444444444,\"#26828e\"],[0.5555555555555556,\"#1f9e89\"],[0.6666666666666666,\"#35b779\"],[0.7777777777777778,\"#6ece58\"],[0.8888888888888888,\"#b5de2b\"],[1.0,\"#fde725\"]],\"type\":\"heatmap\"}],\"histogram2dcontour\":[{\"colorbar\":{\"outlinewidth\":1,\"tickcolor\":\"rgb(36,36,36)\",\"ticks\":\"outside\"},\"colorscale\":[[0.0,\"#440154\"],[0.1111111111111111,\"#482878\"],[0.2222222222222222,\"#3e4989\"],[0.3333333333333333,\"#31688e\"],[0.4444444444444444,\"#26828e\"],[0.5555555555555556,\"#1f9e89\"],[0.6666666666666666,\"#35b779\"],[0.7777777777777778,\"#6ece58\"],[0.8888888888888888,\"#b5de2b\"],[1.0,\"#fde725\"]],\"type\":\"histogram2dcontour\"}],\"histogram2d\":[{\"colorbar\":{\"outlinewidth\":1,\"tickcolor\":\"rgb(36,36,36)\",\"ticks\":\"outside\"},\"colorscale\":[[0.0,\"#440154\"],[0.1111111111111111,\"#482878\"],[0.2222222222222222,\"#3e4989\"],[0.3333333333333333,\"#31688e\"],[0.4444444444444444,\"#26828e\"],[0.5555555555555556,\"#1f9e89\"],[0.6666666666666666,\"#35b779\"],[0.7777777777777778,\"#6ece58\"],[0.8888888888888888,\"#b5de2b\"],[1.0,\"#fde725\"]],\"type\":\"histogram2d\"}],\"histogram\":[{\"marker\":{\"line\":{\"color\":\"white\",\"width\":0.6}},\"type\":\"histogram\"}],\"mesh3d\":[{\"colorbar\":{\"outlinewidth\":1,\"tickcolor\":\"rgb(36,36,36)\",\"ticks\":\"outside\"},\"type\":\"mesh3d\"}],\"parcoords\":[{\"line\":{\"colorbar\":{\"outlinewidth\":1,\"tickcolor\":\"rgb(36,36,36)\",\"ticks\":\"outside\"}},\"type\":\"parcoords\"}],\"pie\":[{\"automargin\":true,\"type\":\"pie\"}],\"scatter3d\":[{\"line\":{\"colorbar\":{\"outlinewidth\":1,\"tickcolor\":\"rgb(36,36,36)\",\"ticks\":\"outside\"}},\"marker\":{\"colorbar\":{\"outlinewidth\":1,\"tickcolor\":\"rgb(36,36,36)\",\"ticks\":\"outside\"}},\"type\":\"scatter3d\"}],\"scattercarpet\":[{\"marker\":{\"colorbar\":{\"outlinewidth\":1,\"tickcolor\":\"rgb(36,36,36)\",\"ticks\":\"outside\"}},\"type\":\"scattercarpet\"}],\"scattergeo\":[{\"marker\":{\"colorbar\":{\"outlinewidth\":1,\"tickcolor\":\"rgb(36,36,36)\",\"ticks\":\"outside\"}},\"type\":\"scattergeo\"}],\"scattergl\":[{\"marker\":{\"colorbar\":{\"outlinewidth\":1,\"tickcolor\":\"rgb(36,36,36)\",\"ticks\":\"outside\"}},\"type\":\"scattergl\"}],\"scattermapbox\":[{\"marker\":{\"colorbar\":{\"outlinewidth\":1,\"tickcolor\":\"rgb(36,36,36)\",\"ticks\":\"outside\"}},\"type\":\"scattermapbox\"}],\"scatterpolargl\":[{\"marker\":{\"colorbar\":{\"outlinewidth\":1,\"tickcolor\":\"rgb(36,36,36)\",\"ticks\":\"outside\"}},\"type\":\"scatterpolargl\"}],\"scatterpolar\":[{\"marker\":{\"colorbar\":{\"outlinewidth\":1,\"tickcolor\":\"rgb(36,36,36)\",\"ticks\":\"outside\"}},\"type\":\"scatterpolar\"}],\"scatter\":[{\"marker\":{\"colorbar\":{\"outlinewidth\":1,\"tickcolor\":\"rgb(36,36,36)\",\"ticks\":\"outside\"}},\"type\":\"scatter\"}],\"scatterternary\":[{\"marker\":{\"colorbar\":{\"outlinewidth\":1,\"tickcolor\":\"rgb(36,36,36)\",\"ticks\":\"outside\"}},\"type\":\"scatterternary\"}],\"surface\":[{\"colorbar\":{\"outlinewidth\":1,\"tickcolor\":\"rgb(36,36,36)\",\"ticks\":\"outside\"},\"colorscale\":[[0.0,\"#440154\"],[0.1111111111111111,\"#482878\"],[0.2222222222222222,\"#3e4989\"],[0.3333333333333333,\"#31688e\"],[0.4444444444444444,\"#26828e\"],[0.5555555555555556,\"#1f9e89\"],[0.6666666666666666,\"#35b779\"],[0.7777777777777778,\"#6ece58\"],[0.8888888888888888,\"#b5de2b\"],[1.0,\"#fde725\"]],\"type\":\"surface\"}],\"table\":[{\"cells\":{\"fill\":{\"color\":\"rgb(237,237,237)\"},\"line\":{\"color\":\"white\"}},\"header\":{\"fill\":{\"color\":\"rgb(217,217,217)\"},\"line\":{\"color\":\"white\"}},\"type\":\"table\"}]},\"layout\":{\"annotationdefaults\":{\"arrowhead\":0,\"arrowwidth\":1},\"autotypenumbers\":\"strict\",\"coloraxis\":{\"colorbar\":{\"outlinewidth\":1,\"tickcolor\":\"rgb(36,36,36)\",\"ticks\":\"outside\"}},\"colorscale\":{\"diverging\":[[0.0,\"rgb(103,0,31)\"],[0.1,\"rgb(178,24,43)\"],[0.2,\"rgb(214,96,77)\"],[0.3,\"rgb(244,165,130)\"],[0.4,\"rgb(253,219,199)\"],[0.5,\"rgb(247,247,247)\"],[0.6,\"rgb(209,229,240)\"],[0.7,\"rgb(146,197,222)\"],[0.8,\"rgb(67,147,195)\"],[0.9,\"rgb(33,102,172)\"],[1.0,\"rgb(5,48,97)\"]],\"sequential\":[[0.0,\"#440154\"],[0.1111111111111111,\"#482878\"],[0.2222222222222222,\"#3e4989\"],[0.3333333333333333,\"#31688e\"],[0.4444444444444444,\"#26828e\"],[0.5555555555555556,\"#1f9e89\"],[0.6666666666666666,\"#35b779\"],[0.7777777777777778,\"#6ece58\"],[0.8888888888888888,\"#b5de2b\"],[1.0,\"#fde725\"]],\"sequentialminus\":[[0.0,\"#440154\"],[0.1111111111111111,\"#482878\"],[0.2222222222222222,\"#3e4989\"],[0.3333333333333333,\"#31688e\"],[0.4444444444444444,\"#26828e\"],[0.5555555555555556,\"#1f9e89\"],[0.6666666666666666,\"#35b779\"],[0.7777777777777778,\"#6ece58\"],[0.8888888888888888,\"#b5de2b\"],[1.0,\"#fde725\"]]},\"colorway\":[\"#1F77B4\",\"#FF7F0E\",\"#2CA02C\",\"#D62728\",\"#9467BD\",\"#8C564B\",\"#E377C2\",\"#7F7F7F\",\"#BCBD22\",\"#17BECF\"],\"font\":{\"color\":\"rgb(36,36,36)\"},\"geo\":{\"bgcolor\":\"white\",\"lakecolor\":\"white\",\"landcolor\":\"white\",\"showlakes\":true,\"showland\":true,\"subunitcolor\":\"white\"},\"hoverlabel\":{\"align\":\"left\"},\"hovermode\":\"closest\",\"mapbox\":{\"style\":\"light\"},\"paper_bgcolor\":\"white\",\"plot_bgcolor\":\"white\",\"polar\":{\"angularaxis\":{\"gridcolor\":\"rgb(232,232,232)\",\"linecolor\":\"rgb(36,36,36)\",\"showgrid\":false,\"showline\":true,\"ticks\":\"outside\"},\"bgcolor\":\"white\",\"radialaxis\":{\"gridcolor\":\"rgb(232,232,232)\",\"linecolor\":\"rgb(36,36,36)\",\"showgrid\":false,\"showline\":true,\"ticks\":\"outside\"}},\"scene\":{\"xaxis\":{\"backgroundcolor\":\"white\",\"gridcolor\":\"rgb(232,232,232)\",\"gridwidth\":2,\"linecolor\":\"rgb(36,36,36)\",\"showbackground\":true,\"showgrid\":false,\"showline\":true,\"ticks\":\"outside\",\"zeroline\":false,\"zerolinecolor\":\"rgb(36,36,36)\"},\"yaxis\":{\"backgroundcolor\":\"white\",\"gridcolor\":\"rgb(232,232,232)\",\"gridwidth\":2,\"linecolor\":\"rgb(36,36,36)\",\"showbackground\":true,\"showgrid\":false,\"showline\":true,\"ticks\":\"outside\",\"zeroline\":false,\"zerolinecolor\":\"rgb(36,36,36)\"},\"zaxis\":{\"backgroundcolor\":\"white\",\"gridcolor\":\"rgb(232,232,232)\",\"gridwidth\":2,\"linecolor\":\"rgb(36,36,36)\",\"showbackground\":true,\"showgrid\":false,\"showline\":true,\"ticks\":\"outside\",\"zeroline\":false,\"zerolinecolor\":\"rgb(36,36,36)\"}},\"shapedefaults\":{\"fillcolor\":\"black\",\"line\":{\"width\":0},\"opacity\":0.3},\"ternary\":{\"aaxis\":{\"gridcolor\":\"rgb(232,232,232)\",\"linecolor\":\"rgb(36,36,36)\",\"showgrid\":false,\"showline\":true,\"ticks\":\"outside\"},\"baxis\":{\"gridcolor\":\"rgb(232,232,232)\",\"linecolor\":\"rgb(36,36,36)\",\"showgrid\":false,\"showline\":true,\"ticks\":\"outside\"},\"bgcolor\":\"white\",\"caxis\":{\"gridcolor\":\"rgb(232,232,232)\",\"linecolor\":\"rgb(36,36,36)\",\"showgrid\":false,\"showline\":true,\"ticks\":\"outside\"}},\"title\":{\"x\":0.05},\"xaxis\":{\"automargin\":true,\"gridcolor\":\"rgb(232,232,232)\",\"linecolor\":\"rgb(36,36,36)\",\"showgrid\":false,\"showline\":true,\"ticks\":\"outside\",\"title\":{\"standoff\":15},\"zeroline\":false,\"zerolinecolor\":\"rgb(36,36,36)\"},\"yaxis\":{\"automargin\":true,\"gridcolor\":\"rgb(232,232,232)\",\"linecolor\":\"rgb(36,36,36)\",\"showgrid\":false,\"showline\":true,\"ticks\":\"outside\",\"title\":{\"standoff\":15},\"zeroline\":false,\"zerolinecolor\":\"rgb(36,36,36)\"},\"margin\":{\"b\":0,\"l\":20,\"r\":20,\"t\":40}}}},                        {\"responsive\": true}                    ).then(function(){\n                            \nvar gd = document.getElementById('c867c506-b3bb-49f2-881e-5721e81f9b30');\nvar x = new MutationObserver(function (mutations, observer) {{\n        var display = window.getComputedStyle(gd).display;\n        if (!display || display === 'none') {{\n            console.log([gd, 'removed!']);\n            Plotly.purge(gd);\n            observer.disconnect();\n        }}\n}});\n\n// Listen for the removal of the full notebook cells\nvar notebookContainer = gd.closest('#notebook-container');\nif (notebookContainer) {{\n    x.observe(notebookContainer, {childList: true});\n}}\n\n// Listen for the clearing of the current output cell\nvar outputEl = gd.closest('.output');\nif (outputEl) {{\n    x.observe(outputEl, {childList: true});\n}}\n\n                        })                };                });            </script>        </div>"
     },
     "metadata": {},
     "output_type": "display_data"
    }
   ],
   "source": [
    "fig = go.Figure([go.Scatter(x=x, y=y, name=\"Real Model\", showlegend=True,\n",
    "                                 marker=dict(color=\"black\", opacity=.7), line=dict(color=\"black\", dash=\"dash\", width=1))], \n",
    "          layout=go.Layout(title=r\"$\\text{(1) Simulated Data}$\",\n",
    "                           xaxis={\"title\": \"x - Explanatory Variable\"},\n",
    "                           yaxis={\"title\": \"y - Response\"},\n",
    "                           height=400))\n",
    "fig.show()"
   ]
  },
  {
   "cell_type": "markdown",
   "metadata": {
    "pycharm": {
     "name": "#%% md\n"
    }
   },
   "source": [
    "Using this sample as a **training set**, let us compute the Ordinary Least Squares (OLS) estimators $\\hat{w_0},\\widehat{w_1}$ of the model. Then, if we are given new samples $x_j$ we can predict its response $\\hat{y}_j$:\n",
    "\n",
    "$$ \\hat{y}_j = \\hat{w_1} x_j + \\hat{w}_0 $$\n",
    "\n",
    "Over the dataset above, try and think what would you expect the output to be?"
   ]
  },
  {
   "cell_type": "code",
   "execution_count": 11,
   "metadata": {
    "pycharm": {
     "name": "#%%\n"
    }
   },
   "outputs": [
    {
     "name": "stdout",
     "output_type": "stream",
     "text": [
      "Estimated intercept: 1.0\n",
      "Estimated coefficient: 2.0\n"
     ]
    }
   ],
   "source": [
    "from sklearn.linear_model import LinearRegression\n",
    "noiseless_model = LinearRegression()\n",
    "\n",
    "noiseless_model.fit(x.reshape((-1,1)), y)\n",
    "print(\"Estimated intercept:\", noiseless_model.intercept_)\n",
    "print(\"Estimated coefficient:\", noiseless_model.coef_[0])\n"
   ]
  },
  {
   "cell_type": "markdown",
   "metadata": {
    "pycharm": {
     "name": "#%% md\n"
    }
   },
   "source": [
    "## Linear Regression With Noise\n",
    "As the dataset used to fit the model lays exactly on a straight line, the estimated coefficients are the correct \n",
    "ones (up to floating point precision). Next, let us add some Gaussian noise to the data and see how it influences our \n",
    "estimation. So: \n",
    "\n",
    "$$\\forall i \\in \\left[ m \\right]\\quad y_i=w_1\\cdot x_i + w_0 + \\varepsilon_i \\quad s.t.\\quad \n",
    "\\varepsilon\\sim\\mathcal{N}\\left(0,\\sigma^2I_m\\right)$$\n",
    "\n",
    "Namely, the noise of each sample distributes by a Gaussian with zero mean and $\\sigma^2$ variance, and is uncorrelated between samples.\n",
    "\n",
    "*Notice that from now on we mark the $y$'s generated by the noise-less model with `y_`. This is so it is clear that the \"real\"\n",
    "$y$'s observed in a given sample are noisy.*"
   ]
  },
  {
   "cell_type": "code",
   "execution_count": 12,
   "metadata": {
    "pycharm": {
     "name": "#%%\n"
    }
   },
   "outputs": [
    {
     "data": {
      "application/vnd.plotly.v1+json": {
       "data": [
        {
         "line": {
          "color": "black",
          "dash": "dash",
          "width": 1
         },
         "marker": {
          "color": "black",
          "opacity": 0.7
         },
         "name": "Real Model",
         "showlegend": true,
         "x": [
          0.0,
          11.11111111111111,
          22.22222222222222,
          33.33333333333333,
          44.44444444444444,
          55.55555555555556,
          66.66666666666666,
          77.77777777777777,
          88.88888888888889,
          100.0
         ],
         "y": [
          1.0,
          23.22222222222222,
          45.44444444444444,
          67.66666666666666,
          89.88888888888889,
          112.11111111111111,
          134.33333333333331,
          156.55555555555554,
          178.77777777777777,
          201.0
         ],
         "type": "scatter"
        },
        {
         "line": {
          "width": 1
         },
         "mode": "markers",
         "name": "Observed Points",
         "x": [
          0.0,
          11.11111111111111,
          22.22222222222222,
          33.33333333333333,
          44.44444444444444,
          55.55555555555556,
          66.66666666666666,
          77.77777777777777,
          88.88888888888889,
          100.0
         ],
         "y": [
          -21.33966042988545,
          -28.322708240428845,
          5.638134334930588,
          -123.67910525606285,
          -0.732273746742166,
          46.945939561380264,
          77.57618593706974,
          62.39109261055907,
          11.397675355948031,
          -28.73775551099364
         ],
         "type": "scatter"
        }
       ],
       "layout": {
        "height": 400,
        "title": {
         "text": "$\\text{(2) Simulated Data - With Noise}$"
        },
        "xaxis": {
         "title": {
          "text": "x - Explanatory Variable"
         }
        },
        "yaxis": {
         "title": {
          "text": "y - Response"
         }
        },
        "template": {
         "data": {
          "barpolar": [
           {
            "marker": {
             "line": {
              "color": "white",
              "width": 0.5
             },
             "pattern": {
              "fillmode": "overlay",
              "size": 10,
              "solidity": 0.2
             }
            },
            "type": "barpolar"
           }
          ],
          "bar": [
           {
            "error_x": {
             "color": "rgb(36,36,36)"
            },
            "error_y": {
             "color": "rgb(36,36,36)"
            },
            "marker": {
             "line": {
              "color": "white",
              "width": 0.5
             },
             "pattern": {
              "fillmode": "overlay",
              "size": 10,
              "solidity": 0.2
             }
            },
            "type": "bar"
           }
          ],
          "carpet": [
           {
            "aaxis": {
             "endlinecolor": "rgb(36,36,36)",
             "gridcolor": "white",
             "linecolor": "white",
             "minorgridcolor": "white",
             "startlinecolor": "rgb(36,36,36)"
            },
            "baxis": {
             "endlinecolor": "rgb(36,36,36)",
             "gridcolor": "white",
             "linecolor": "white",
             "minorgridcolor": "white",
             "startlinecolor": "rgb(36,36,36)"
            },
            "type": "carpet"
           }
          ],
          "choropleth": [
           {
            "colorbar": {
             "outlinewidth": 1,
             "tickcolor": "rgb(36,36,36)",
             "ticks": "outside"
            },
            "type": "choropleth"
           }
          ],
          "contourcarpet": [
           {
            "colorbar": {
             "outlinewidth": 1,
             "tickcolor": "rgb(36,36,36)",
             "ticks": "outside"
            },
            "type": "contourcarpet"
           }
          ],
          "contour": [
           {
            "colorbar": {
             "outlinewidth": 1,
             "tickcolor": "rgb(36,36,36)",
             "ticks": "outside"
            },
            "colorscale": [
             [
              0.0,
              "#440154"
             ],
             [
              0.1111111111111111,
              "#482878"
             ],
             [
              0.2222222222222222,
              "#3e4989"
             ],
             [
              0.3333333333333333,
              "#31688e"
             ],
             [
              0.4444444444444444,
              "#26828e"
             ],
             [
              0.5555555555555556,
              "#1f9e89"
             ],
             [
              0.6666666666666666,
              "#35b779"
             ],
             [
              0.7777777777777778,
              "#6ece58"
             ],
             [
              0.8888888888888888,
              "#b5de2b"
             ],
             [
              1.0,
              "#fde725"
             ]
            ],
            "type": "contour"
           }
          ],
          "heatmapgl": [
           {
            "colorbar": {
             "outlinewidth": 1,
             "tickcolor": "rgb(36,36,36)",
             "ticks": "outside"
            },
            "colorscale": [
             [
              0.0,
              "#440154"
             ],
             [
              0.1111111111111111,
              "#482878"
             ],
             [
              0.2222222222222222,
              "#3e4989"
             ],
             [
              0.3333333333333333,
              "#31688e"
             ],
             [
              0.4444444444444444,
              "#26828e"
             ],
             [
              0.5555555555555556,
              "#1f9e89"
             ],
             [
              0.6666666666666666,
              "#35b779"
             ],
             [
              0.7777777777777778,
              "#6ece58"
             ],
             [
              0.8888888888888888,
              "#b5de2b"
             ],
             [
              1.0,
              "#fde725"
             ]
            ],
            "type": "heatmapgl"
           }
          ],
          "heatmap": [
           {
            "colorbar": {
             "outlinewidth": 1,
             "tickcolor": "rgb(36,36,36)",
             "ticks": "outside"
            },
            "colorscale": [
             [
              0.0,
              "#440154"
             ],
             [
              0.1111111111111111,
              "#482878"
             ],
             [
              0.2222222222222222,
              "#3e4989"
             ],
             [
              0.3333333333333333,
              "#31688e"
             ],
             [
              0.4444444444444444,
              "#26828e"
             ],
             [
              0.5555555555555556,
              "#1f9e89"
             ],
             [
              0.6666666666666666,
              "#35b779"
             ],
             [
              0.7777777777777778,
              "#6ece58"
             ],
             [
              0.8888888888888888,
              "#b5de2b"
             ],
             [
              1.0,
              "#fde725"
             ]
            ],
            "type": "heatmap"
           }
          ],
          "histogram2dcontour": [
           {
            "colorbar": {
             "outlinewidth": 1,
             "tickcolor": "rgb(36,36,36)",
             "ticks": "outside"
            },
            "colorscale": [
             [
              0.0,
              "#440154"
             ],
             [
              0.1111111111111111,
              "#482878"
             ],
             [
              0.2222222222222222,
              "#3e4989"
             ],
             [
              0.3333333333333333,
              "#31688e"
             ],
             [
              0.4444444444444444,
              "#26828e"
             ],
             [
              0.5555555555555556,
              "#1f9e89"
             ],
             [
              0.6666666666666666,
              "#35b779"
             ],
             [
              0.7777777777777778,
              "#6ece58"
             ],
             [
              0.8888888888888888,
              "#b5de2b"
             ],
             [
              1.0,
              "#fde725"
             ]
            ],
            "type": "histogram2dcontour"
           }
          ],
          "histogram2d": [
           {
            "colorbar": {
             "outlinewidth": 1,
             "tickcolor": "rgb(36,36,36)",
             "ticks": "outside"
            },
            "colorscale": [
             [
              0.0,
              "#440154"
             ],
             [
              0.1111111111111111,
              "#482878"
             ],
             [
              0.2222222222222222,
              "#3e4989"
             ],
             [
              0.3333333333333333,
              "#31688e"
             ],
             [
              0.4444444444444444,
              "#26828e"
             ],
             [
              0.5555555555555556,
              "#1f9e89"
             ],
             [
              0.6666666666666666,
              "#35b779"
             ],
             [
              0.7777777777777778,
              "#6ece58"
             ],
             [
              0.8888888888888888,
              "#b5de2b"
             ],
             [
              1.0,
              "#fde725"
             ]
            ],
            "type": "histogram2d"
           }
          ],
          "histogram": [
           {
            "marker": {
             "line": {
              "color": "white",
              "width": 0.6
             }
            },
            "type": "histogram"
           }
          ],
          "mesh3d": [
           {
            "colorbar": {
             "outlinewidth": 1,
             "tickcolor": "rgb(36,36,36)",
             "ticks": "outside"
            },
            "type": "mesh3d"
           }
          ],
          "parcoords": [
           {
            "line": {
             "colorbar": {
              "outlinewidth": 1,
              "tickcolor": "rgb(36,36,36)",
              "ticks": "outside"
             }
            },
            "type": "parcoords"
           }
          ],
          "pie": [
           {
            "automargin": true,
            "type": "pie"
           }
          ],
          "scatter3d": [
           {
            "line": {
             "colorbar": {
              "outlinewidth": 1,
              "tickcolor": "rgb(36,36,36)",
              "ticks": "outside"
             }
            },
            "marker": {
             "colorbar": {
              "outlinewidth": 1,
              "tickcolor": "rgb(36,36,36)",
              "ticks": "outside"
             }
            },
            "type": "scatter3d"
           }
          ],
          "scattercarpet": [
           {
            "marker": {
             "colorbar": {
              "outlinewidth": 1,
              "tickcolor": "rgb(36,36,36)",
              "ticks": "outside"
             }
            },
            "type": "scattercarpet"
           }
          ],
          "scattergeo": [
           {
            "marker": {
             "colorbar": {
              "outlinewidth": 1,
              "tickcolor": "rgb(36,36,36)",
              "ticks": "outside"
             }
            },
            "type": "scattergeo"
           }
          ],
          "scattergl": [
           {
            "marker": {
             "colorbar": {
              "outlinewidth": 1,
              "tickcolor": "rgb(36,36,36)",
              "ticks": "outside"
             }
            },
            "type": "scattergl"
           }
          ],
          "scattermapbox": [
           {
            "marker": {
             "colorbar": {
              "outlinewidth": 1,
              "tickcolor": "rgb(36,36,36)",
              "ticks": "outside"
             }
            },
            "type": "scattermapbox"
           }
          ],
          "scatterpolargl": [
           {
            "marker": {
             "colorbar": {
              "outlinewidth": 1,
              "tickcolor": "rgb(36,36,36)",
              "ticks": "outside"
             }
            },
            "type": "scatterpolargl"
           }
          ],
          "scatterpolar": [
           {
            "marker": {
             "colorbar": {
              "outlinewidth": 1,
              "tickcolor": "rgb(36,36,36)",
              "ticks": "outside"
             }
            },
            "type": "scatterpolar"
           }
          ],
          "scatter": [
           {
            "marker": {
             "colorbar": {
              "outlinewidth": 1,
              "tickcolor": "rgb(36,36,36)",
              "ticks": "outside"
             }
            },
            "type": "scatter"
           }
          ],
          "scatterternary": [
           {
            "marker": {
             "colorbar": {
              "outlinewidth": 1,
              "tickcolor": "rgb(36,36,36)",
              "ticks": "outside"
             }
            },
            "type": "scatterternary"
           }
          ],
          "surface": [
           {
            "colorbar": {
             "outlinewidth": 1,
             "tickcolor": "rgb(36,36,36)",
             "ticks": "outside"
            },
            "colorscale": [
             [
              0.0,
              "#440154"
             ],
             [
              0.1111111111111111,
              "#482878"
             ],
             [
              0.2222222222222222,
              "#3e4989"
             ],
             [
              0.3333333333333333,
              "#31688e"
             ],
             [
              0.4444444444444444,
              "#26828e"
             ],
             [
              0.5555555555555556,
              "#1f9e89"
             ],
             [
              0.6666666666666666,
              "#35b779"
             ],
             [
              0.7777777777777778,
              "#6ece58"
             ],
             [
              0.8888888888888888,
              "#b5de2b"
             ],
             [
              1.0,
              "#fde725"
             ]
            ],
            "type": "surface"
           }
          ],
          "table": [
           {
            "cells": {
             "fill": {
              "color": "rgb(237,237,237)"
             },
             "line": {
              "color": "white"
             }
            },
            "header": {
             "fill": {
              "color": "rgb(217,217,217)"
             },
             "line": {
              "color": "white"
             }
            },
            "type": "table"
           }
          ]
         },
         "layout": {
          "annotationdefaults": {
           "arrowhead": 0,
           "arrowwidth": 1
          },
          "autotypenumbers": "strict",
          "coloraxis": {
           "colorbar": {
            "outlinewidth": 1,
            "tickcolor": "rgb(36,36,36)",
            "ticks": "outside"
           }
          },
          "colorscale": {
           "diverging": [
            [
             0.0,
             "rgb(103,0,31)"
            ],
            [
             0.1,
             "rgb(178,24,43)"
            ],
            [
             0.2,
             "rgb(214,96,77)"
            ],
            [
             0.3,
             "rgb(244,165,130)"
            ],
            [
             0.4,
             "rgb(253,219,199)"
            ],
            [
             0.5,
             "rgb(247,247,247)"
            ],
            [
             0.6,
             "rgb(209,229,240)"
            ],
            [
             0.7,
             "rgb(146,197,222)"
            ],
            [
             0.8,
             "rgb(67,147,195)"
            ],
            [
             0.9,
             "rgb(33,102,172)"
            ],
            [
             1.0,
             "rgb(5,48,97)"
            ]
           ],
           "sequential": [
            [
             0.0,
             "#440154"
            ],
            [
             0.1111111111111111,
             "#482878"
            ],
            [
             0.2222222222222222,
             "#3e4989"
            ],
            [
             0.3333333333333333,
             "#31688e"
            ],
            [
             0.4444444444444444,
             "#26828e"
            ],
            [
             0.5555555555555556,
             "#1f9e89"
            ],
            [
             0.6666666666666666,
             "#35b779"
            ],
            [
             0.7777777777777778,
             "#6ece58"
            ],
            [
             0.8888888888888888,
             "#b5de2b"
            ],
            [
             1.0,
             "#fde725"
            ]
           ],
           "sequentialminus": [
            [
             0.0,
             "#440154"
            ],
            [
             0.1111111111111111,
             "#482878"
            ],
            [
             0.2222222222222222,
             "#3e4989"
            ],
            [
             0.3333333333333333,
             "#31688e"
            ],
            [
             0.4444444444444444,
             "#26828e"
            ],
            [
             0.5555555555555556,
             "#1f9e89"
            ],
            [
             0.6666666666666666,
             "#35b779"
            ],
            [
             0.7777777777777778,
             "#6ece58"
            ],
            [
             0.8888888888888888,
             "#b5de2b"
            ],
            [
             1.0,
             "#fde725"
            ]
           ]
          },
          "colorway": [
           "#1F77B4",
           "#FF7F0E",
           "#2CA02C",
           "#D62728",
           "#9467BD",
           "#8C564B",
           "#E377C2",
           "#7F7F7F",
           "#BCBD22",
           "#17BECF"
          ],
          "font": {
           "color": "rgb(36,36,36)"
          },
          "geo": {
           "bgcolor": "white",
           "lakecolor": "white",
           "landcolor": "white",
           "showlakes": true,
           "showland": true,
           "subunitcolor": "white"
          },
          "hoverlabel": {
           "align": "left"
          },
          "hovermode": "closest",
          "mapbox": {
           "style": "light"
          },
          "paper_bgcolor": "white",
          "plot_bgcolor": "white",
          "polar": {
           "angularaxis": {
            "gridcolor": "rgb(232,232,232)",
            "linecolor": "rgb(36,36,36)",
            "showgrid": false,
            "showline": true,
            "ticks": "outside"
           },
           "bgcolor": "white",
           "radialaxis": {
            "gridcolor": "rgb(232,232,232)",
            "linecolor": "rgb(36,36,36)",
            "showgrid": false,
            "showline": true,
            "ticks": "outside"
           }
          },
          "scene": {
           "xaxis": {
            "backgroundcolor": "white",
            "gridcolor": "rgb(232,232,232)",
            "gridwidth": 2,
            "linecolor": "rgb(36,36,36)",
            "showbackground": true,
            "showgrid": false,
            "showline": true,
            "ticks": "outside",
            "zeroline": false,
            "zerolinecolor": "rgb(36,36,36)"
           },
           "yaxis": {
            "backgroundcolor": "white",
            "gridcolor": "rgb(232,232,232)",
            "gridwidth": 2,
            "linecolor": "rgb(36,36,36)",
            "showbackground": true,
            "showgrid": false,
            "showline": true,
            "ticks": "outside",
            "zeroline": false,
            "zerolinecolor": "rgb(36,36,36)"
           },
           "zaxis": {
            "backgroundcolor": "white",
            "gridcolor": "rgb(232,232,232)",
            "gridwidth": 2,
            "linecolor": "rgb(36,36,36)",
            "showbackground": true,
            "showgrid": false,
            "showline": true,
            "ticks": "outside",
            "zeroline": false,
            "zerolinecolor": "rgb(36,36,36)"
           }
          },
          "shapedefaults": {
           "fillcolor": "black",
           "line": {
            "width": 0
           },
           "opacity": 0.3
          },
          "ternary": {
           "aaxis": {
            "gridcolor": "rgb(232,232,232)",
            "linecolor": "rgb(36,36,36)",
            "showgrid": false,
            "showline": true,
            "ticks": "outside"
           },
           "baxis": {
            "gridcolor": "rgb(232,232,232)",
            "linecolor": "rgb(36,36,36)",
            "showgrid": false,
            "showline": true,
            "ticks": "outside"
           },
           "bgcolor": "white",
           "caxis": {
            "gridcolor": "rgb(232,232,232)",
            "linecolor": "rgb(36,36,36)",
            "showgrid": false,
            "showline": true,
            "ticks": "outside"
           }
          },
          "title": {
           "x": 0.05
          },
          "xaxis": {
           "automargin": true,
           "gridcolor": "rgb(232,232,232)",
           "linecolor": "rgb(36,36,36)",
           "showgrid": false,
           "showline": true,
           "ticks": "outside",
           "title": {
            "standoff": 15
           },
           "zeroline": false,
           "zerolinecolor": "rgb(36,36,36)"
          },
          "yaxis": {
           "automargin": true,
           "gridcolor": "rgb(232,232,232)",
           "linecolor": "rgb(36,36,36)",
           "showgrid": false,
           "showline": true,
           "ticks": "outside",
           "title": {
            "standoff": 15
           },
           "zeroline": false,
           "zerolinecolor": "rgb(36,36,36)"
          },
          "margin": {
           "b": 0,
           "l": 20,
           "r": 20,
           "t": 40
          }
         }
        }
       },
       "config": {
        "plotlyServerURL": "https://plot.ly"
       }
      },
      "text/html": "<div>                            <div id=\"2091269f-ca29-4dba-a5c1-d939d9999dec\" class=\"plotly-graph-div\" style=\"height:400px; width:100%;\"></div>            <script type=\"text/javascript\">                require([\"plotly\"], function(Plotly) {                    window.PLOTLYENV=window.PLOTLYENV || {};                                    if (document.getElementById(\"2091269f-ca29-4dba-a5c1-d939d9999dec\")) {                    Plotly.newPlot(                        \"2091269f-ca29-4dba-a5c1-d939d9999dec\",                        [{\"line\":{\"color\":\"black\",\"dash\":\"dash\",\"width\":1},\"marker\":{\"color\":\"black\",\"opacity\":0.7},\"name\":\"Real Model\",\"showlegend\":true,\"x\":[0.0,11.11111111111111,22.22222222222222,33.33333333333333,44.44444444444444,55.55555555555556,66.66666666666666,77.77777777777777,88.88888888888889,100.0],\"y\":[1.0,23.22222222222222,45.44444444444444,67.66666666666666,89.88888888888889,112.11111111111111,134.33333333333331,156.55555555555554,178.77777777777777,201.0],\"type\":\"scatter\"},{\"line\":{\"width\":1},\"mode\":\"markers\",\"name\":\"Observed Points\",\"x\":[0.0,11.11111111111111,22.22222222222222,33.33333333333333,44.44444444444444,55.55555555555556,66.66666666666666,77.77777777777777,88.88888888888889,100.0],\"y\":[-21.33966042988545,-28.322708240428845,5.638134334930588,-123.67910525606285,-0.732273746742166,46.945939561380264,77.57618593706974,62.39109261055907,11.397675355948031,-28.73775551099364],\"type\":\"scatter\"}],                        {\"height\":400,\"title\":{\"text\":\"$\\\\text{(2) Simulated Data - With Noise}$\"},\"xaxis\":{\"title\":{\"text\":\"x - Explanatory Variable\"}},\"yaxis\":{\"title\":{\"text\":\"y - Response\"}},\"template\":{\"data\":{\"barpolar\":[{\"marker\":{\"line\":{\"color\":\"white\",\"width\":0.5},\"pattern\":{\"fillmode\":\"overlay\",\"size\":10,\"solidity\":0.2}},\"type\":\"barpolar\"}],\"bar\":[{\"error_x\":{\"color\":\"rgb(36,36,36)\"},\"error_y\":{\"color\":\"rgb(36,36,36)\"},\"marker\":{\"line\":{\"color\":\"white\",\"width\":0.5},\"pattern\":{\"fillmode\":\"overlay\",\"size\":10,\"solidity\":0.2}},\"type\":\"bar\"}],\"carpet\":[{\"aaxis\":{\"endlinecolor\":\"rgb(36,36,36)\",\"gridcolor\":\"white\",\"linecolor\":\"white\",\"minorgridcolor\":\"white\",\"startlinecolor\":\"rgb(36,36,36)\"},\"baxis\":{\"endlinecolor\":\"rgb(36,36,36)\",\"gridcolor\":\"white\",\"linecolor\":\"white\",\"minorgridcolor\":\"white\",\"startlinecolor\":\"rgb(36,36,36)\"},\"type\":\"carpet\"}],\"choropleth\":[{\"colorbar\":{\"outlinewidth\":1,\"tickcolor\":\"rgb(36,36,36)\",\"ticks\":\"outside\"},\"type\":\"choropleth\"}],\"contourcarpet\":[{\"colorbar\":{\"outlinewidth\":1,\"tickcolor\":\"rgb(36,36,36)\",\"ticks\":\"outside\"},\"type\":\"contourcarpet\"}],\"contour\":[{\"colorbar\":{\"outlinewidth\":1,\"tickcolor\":\"rgb(36,36,36)\",\"ticks\":\"outside\"},\"colorscale\":[[0.0,\"#440154\"],[0.1111111111111111,\"#482878\"],[0.2222222222222222,\"#3e4989\"],[0.3333333333333333,\"#31688e\"],[0.4444444444444444,\"#26828e\"],[0.5555555555555556,\"#1f9e89\"],[0.6666666666666666,\"#35b779\"],[0.7777777777777778,\"#6ece58\"],[0.8888888888888888,\"#b5de2b\"],[1.0,\"#fde725\"]],\"type\":\"contour\"}],\"heatmapgl\":[{\"colorbar\":{\"outlinewidth\":1,\"tickcolor\":\"rgb(36,36,36)\",\"ticks\":\"outside\"},\"colorscale\":[[0.0,\"#440154\"],[0.1111111111111111,\"#482878\"],[0.2222222222222222,\"#3e4989\"],[0.3333333333333333,\"#31688e\"],[0.4444444444444444,\"#26828e\"],[0.5555555555555556,\"#1f9e89\"],[0.6666666666666666,\"#35b779\"],[0.7777777777777778,\"#6ece58\"],[0.8888888888888888,\"#b5de2b\"],[1.0,\"#fde725\"]],\"type\":\"heatmapgl\"}],\"heatmap\":[{\"colorbar\":{\"outlinewidth\":1,\"tickcolor\":\"rgb(36,36,36)\",\"ticks\":\"outside\"},\"colorscale\":[[0.0,\"#440154\"],[0.1111111111111111,\"#482878\"],[0.2222222222222222,\"#3e4989\"],[0.3333333333333333,\"#31688e\"],[0.4444444444444444,\"#26828e\"],[0.5555555555555556,\"#1f9e89\"],[0.6666666666666666,\"#35b779\"],[0.7777777777777778,\"#6ece58\"],[0.8888888888888888,\"#b5de2b\"],[1.0,\"#fde725\"]],\"type\":\"heatmap\"}],\"histogram2dcontour\":[{\"colorbar\":{\"outlinewidth\":1,\"tickcolor\":\"rgb(36,36,36)\",\"ticks\":\"outside\"},\"colorscale\":[[0.0,\"#440154\"],[0.1111111111111111,\"#482878\"],[0.2222222222222222,\"#3e4989\"],[0.3333333333333333,\"#31688e\"],[0.4444444444444444,\"#26828e\"],[0.5555555555555556,\"#1f9e89\"],[0.6666666666666666,\"#35b779\"],[0.7777777777777778,\"#6ece58\"],[0.8888888888888888,\"#b5de2b\"],[1.0,\"#fde725\"]],\"type\":\"histogram2dcontour\"}],\"histogram2d\":[{\"colorbar\":{\"outlinewidth\":1,\"tickcolor\":\"rgb(36,36,36)\",\"ticks\":\"outside\"},\"colorscale\":[[0.0,\"#440154\"],[0.1111111111111111,\"#482878\"],[0.2222222222222222,\"#3e4989\"],[0.3333333333333333,\"#31688e\"],[0.4444444444444444,\"#26828e\"],[0.5555555555555556,\"#1f9e89\"],[0.6666666666666666,\"#35b779\"],[0.7777777777777778,\"#6ece58\"],[0.8888888888888888,\"#b5de2b\"],[1.0,\"#fde725\"]],\"type\":\"histogram2d\"}],\"histogram\":[{\"marker\":{\"line\":{\"color\":\"white\",\"width\":0.6}},\"type\":\"histogram\"}],\"mesh3d\":[{\"colorbar\":{\"outlinewidth\":1,\"tickcolor\":\"rgb(36,36,36)\",\"ticks\":\"outside\"},\"type\":\"mesh3d\"}],\"parcoords\":[{\"line\":{\"colorbar\":{\"outlinewidth\":1,\"tickcolor\":\"rgb(36,36,36)\",\"ticks\":\"outside\"}},\"type\":\"parcoords\"}],\"pie\":[{\"automargin\":true,\"type\":\"pie\"}],\"scatter3d\":[{\"line\":{\"colorbar\":{\"outlinewidth\":1,\"tickcolor\":\"rgb(36,36,36)\",\"ticks\":\"outside\"}},\"marker\":{\"colorbar\":{\"outlinewidth\":1,\"tickcolor\":\"rgb(36,36,36)\",\"ticks\":\"outside\"}},\"type\":\"scatter3d\"}],\"scattercarpet\":[{\"marker\":{\"colorbar\":{\"outlinewidth\":1,\"tickcolor\":\"rgb(36,36,36)\",\"ticks\":\"outside\"}},\"type\":\"scattercarpet\"}],\"scattergeo\":[{\"marker\":{\"colorbar\":{\"outlinewidth\":1,\"tickcolor\":\"rgb(36,36,36)\",\"ticks\":\"outside\"}},\"type\":\"scattergeo\"}],\"scattergl\":[{\"marker\":{\"colorbar\":{\"outlinewidth\":1,\"tickcolor\":\"rgb(36,36,36)\",\"ticks\":\"outside\"}},\"type\":\"scattergl\"}],\"scattermapbox\":[{\"marker\":{\"colorbar\":{\"outlinewidth\":1,\"tickcolor\":\"rgb(36,36,36)\",\"ticks\":\"outside\"}},\"type\":\"scattermapbox\"}],\"scatterpolargl\":[{\"marker\":{\"colorbar\":{\"outlinewidth\":1,\"tickcolor\":\"rgb(36,36,36)\",\"ticks\":\"outside\"}},\"type\":\"scatterpolargl\"}],\"scatterpolar\":[{\"marker\":{\"colorbar\":{\"outlinewidth\":1,\"tickcolor\":\"rgb(36,36,36)\",\"ticks\":\"outside\"}},\"type\":\"scatterpolar\"}],\"scatter\":[{\"marker\":{\"colorbar\":{\"outlinewidth\":1,\"tickcolor\":\"rgb(36,36,36)\",\"ticks\":\"outside\"}},\"type\":\"scatter\"}],\"scatterternary\":[{\"marker\":{\"colorbar\":{\"outlinewidth\":1,\"tickcolor\":\"rgb(36,36,36)\",\"ticks\":\"outside\"}},\"type\":\"scatterternary\"}],\"surface\":[{\"colorbar\":{\"outlinewidth\":1,\"tickcolor\":\"rgb(36,36,36)\",\"ticks\":\"outside\"},\"colorscale\":[[0.0,\"#440154\"],[0.1111111111111111,\"#482878\"],[0.2222222222222222,\"#3e4989\"],[0.3333333333333333,\"#31688e\"],[0.4444444444444444,\"#26828e\"],[0.5555555555555556,\"#1f9e89\"],[0.6666666666666666,\"#35b779\"],[0.7777777777777778,\"#6ece58\"],[0.8888888888888888,\"#b5de2b\"],[1.0,\"#fde725\"]],\"type\":\"surface\"}],\"table\":[{\"cells\":{\"fill\":{\"color\":\"rgb(237,237,237)\"},\"line\":{\"color\":\"white\"}},\"header\":{\"fill\":{\"color\":\"rgb(217,217,217)\"},\"line\":{\"color\":\"white\"}},\"type\":\"table\"}]},\"layout\":{\"annotationdefaults\":{\"arrowhead\":0,\"arrowwidth\":1},\"autotypenumbers\":\"strict\",\"coloraxis\":{\"colorbar\":{\"outlinewidth\":1,\"tickcolor\":\"rgb(36,36,36)\",\"ticks\":\"outside\"}},\"colorscale\":{\"diverging\":[[0.0,\"rgb(103,0,31)\"],[0.1,\"rgb(178,24,43)\"],[0.2,\"rgb(214,96,77)\"],[0.3,\"rgb(244,165,130)\"],[0.4,\"rgb(253,219,199)\"],[0.5,\"rgb(247,247,247)\"],[0.6,\"rgb(209,229,240)\"],[0.7,\"rgb(146,197,222)\"],[0.8,\"rgb(67,147,195)\"],[0.9,\"rgb(33,102,172)\"],[1.0,\"rgb(5,48,97)\"]],\"sequential\":[[0.0,\"#440154\"],[0.1111111111111111,\"#482878\"],[0.2222222222222222,\"#3e4989\"],[0.3333333333333333,\"#31688e\"],[0.4444444444444444,\"#26828e\"],[0.5555555555555556,\"#1f9e89\"],[0.6666666666666666,\"#35b779\"],[0.7777777777777778,\"#6ece58\"],[0.8888888888888888,\"#b5de2b\"],[1.0,\"#fde725\"]],\"sequentialminus\":[[0.0,\"#440154\"],[0.1111111111111111,\"#482878\"],[0.2222222222222222,\"#3e4989\"],[0.3333333333333333,\"#31688e\"],[0.4444444444444444,\"#26828e\"],[0.5555555555555556,\"#1f9e89\"],[0.6666666666666666,\"#35b779\"],[0.7777777777777778,\"#6ece58\"],[0.8888888888888888,\"#b5de2b\"],[1.0,\"#fde725\"]]},\"colorway\":[\"#1F77B4\",\"#FF7F0E\",\"#2CA02C\",\"#D62728\",\"#9467BD\",\"#8C564B\",\"#E377C2\",\"#7F7F7F\",\"#BCBD22\",\"#17BECF\"],\"font\":{\"color\":\"rgb(36,36,36)\"},\"geo\":{\"bgcolor\":\"white\",\"lakecolor\":\"white\",\"landcolor\":\"white\",\"showlakes\":true,\"showland\":true,\"subunitcolor\":\"white\"},\"hoverlabel\":{\"align\":\"left\"},\"hovermode\":\"closest\",\"mapbox\":{\"style\":\"light\"},\"paper_bgcolor\":\"white\",\"plot_bgcolor\":\"white\",\"polar\":{\"angularaxis\":{\"gridcolor\":\"rgb(232,232,232)\",\"linecolor\":\"rgb(36,36,36)\",\"showgrid\":false,\"showline\":true,\"ticks\":\"outside\"},\"bgcolor\":\"white\",\"radialaxis\":{\"gridcolor\":\"rgb(232,232,232)\",\"linecolor\":\"rgb(36,36,36)\",\"showgrid\":false,\"showline\":true,\"ticks\":\"outside\"}},\"scene\":{\"xaxis\":{\"backgroundcolor\":\"white\",\"gridcolor\":\"rgb(232,232,232)\",\"gridwidth\":2,\"linecolor\":\"rgb(36,36,36)\",\"showbackground\":true,\"showgrid\":false,\"showline\":true,\"ticks\":\"outside\",\"zeroline\":false,\"zerolinecolor\":\"rgb(36,36,36)\"},\"yaxis\":{\"backgroundcolor\":\"white\",\"gridcolor\":\"rgb(232,232,232)\",\"gridwidth\":2,\"linecolor\":\"rgb(36,36,36)\",\"showbackground\":true,\"showgrid\":false,\"showline\":true,\"ticks\":\"outside\",\"zeroline\":false,\"zerolinecolor\":\"rgb(36,36,36)\"},\"zaxis\":{\"backgroundcolor\":\"white\",\"gridcolor\":\"rgb(232,232,232)\",\"gridwidth\":2,\"linecolor\":\"rgb(36,36,36)\",\"showbackground\":true,\"showgrid\":false,\"showline\":true,\"ticks\":\"outside\",\"zeroline\":false,\"zerolinecolor\":\"rgb(36,36,36)\"}},\"shapedefaults\":{\"fillcolor\":\"black\",\"line\":{\"width\":0},\"opacity\":0.3},\"ternary\":{\"aaxis\":{\"gridcolor\":\"rgb(232,232,232)\",\"linecolor\":\"rgb(36,36,36)\",\"showgrid\":false,\"showline\":true,\"ticks\":\"outside\"},\"baxis\":{\"gridcolor\":\"rgb(232,232,232)\",\"linecolor\":\"rgb(36,36,36)\",\"showgrid\":false,\"showline\":true,\"ticks\":\"outside\"},\"bgcolor\":\"white\",\"caxis\":{\"gridcolor\":\"rgb(232,232,232)\",\"linecolor\":\"rgb(36,36,36)\",\"showgrid\":false,\"showline\":true,\"ticks\":\"outside\"}},\"title\":{\"x\":0.05},\"xaxis\":{\"automargin\":true,\"gridcolor\":\"rgb(232,232,232)\",\"linecolor\":\"rgb(36,36,36)\",\"showgrid\":false,\"showline\":true,\"ticks\":\"outside\",\"title\":{\"standoff\":15},\"zeroline\":false,\"zerolinecolor\":\"rgb(36,36,36)\"},\"yaxis\":{\"automargin\":true,\"gridcolor\":\"rgb(232,232,232)\",\"linecolor\":\"rgb(36,36,36)\",\"showgrid\":false,\"showline\":true,\"ticks\":\"outside\",\"title\":{\"standoff\":15},\"zeroline\":false,\"zerolinecolor\":\"rgb(36,36,36)\"},\"margin\":{\"b\":0,\"l\":20,\"r\":20,\"t\":40}}}},                        {\"responsive\": true}                    ).then(function(){\n                            \nvar gd = document.getElementById('2091269f-ca29-4dba-a5c1-d939d9999dec');\nvar x = new MutationObserver(function (mutations, observer) {{\n        var display = window.getComputedStyle(gd).display;\n        if (!display || display === 'none') {{\n            console.log([gd, 'removed!']);\n            Plotly.purge(gd);\n            observer.disconnect();\n        }}\n}});\n\n// Listen for the removal of the full notebook cells\nvar notebookContainer = gd.closest('#notebook-container');\nif (notebookContainer) {{\n    x.observe(notebookContainer, {childList: true});\n}}\n\n// Listen for the clearing of the current output cell\nvar outputEl = gd.closest('.output');\nif (outputEl) {{\n    x.observe(outputEl, {childList: true});\n}}\n\n                        })                };                });            </script>        </div>"
     },
     "metadata": {},
     "output_type": "display_data"
    }
   ],
   "source": [
    "if \"y_\" not in locals(): y_ = y\n",
    "epsilon = np.random.normal(loc=0, scale=40, size=len(x))\n",
    "y = y_ + epsilon\n",
    "\n",
    "fig.add_trace(go.Scatter(x=x, y=y, name=\"Observed Points\", mode=\"markers\", line=dict(width=1)))\n",
    "fig.update_layout(title=r\"$\\text{(2) Simulated Data - With Noise}$\")\n",
    "fig.show()\n"
   ]
  },
  {
   "cell_type": "markdown",
   "metadata": {
    "pycharm": {
     "name": "#%% md\n"
    }
   },
   "source": [
    "Try and execute the block above several times. See how each time the \"Observed Points\" look different. These datasets,\n",
    "though all come from the same model, look very different. Try to think:\n",
    "\n",
    "* What would happen if we attempt fitting a model to these observations (i.e. the ones with the noise)? \n",
    "* How would it influence our estimation of the coefficients $w_0, w_1$? \n",
    "* Where will the regression line be?\n"
   ]
  },
  {
   "cell_type": "code",
   "execution_count": 13,
   "metadata": {
    "pycharm": {
     "name": "#%%\n"
    }
   },
   "outputs": [
    {
     "data": {
      "text/plain": "        Model  Intercept     Slope\n0  Noise-less    1.00000  2.000000\n1       Noisy  -31.15903  0.625456",
      "text/html": "<div>\n<style scoped>\n    .dataframe tbody tr th:only-of-type {\n        vertical-align: middle;\n    }\n\n    .dataframe tbody tr th {\n        vertical-align: top;\n    }\n\n    .dataframe thead th {\n        text-align: right;\n    }\n</style>\n<table border=\"1\" class=\"dataframe\">\n  <thead>\n    <tr style=\"text-align: right;\">\n      <th></th>\n      <th>Model</th>\n      <th>Intercept</th>\n      <th>Slope</th>\n    </tr>\n  </thead>\n  <tbody>\n    <tr>\n      <th>0</th>\n      <td>Noise-less</td>\n      <td>1.00000</td>\n      <td>2.000000</td>\n    </tr>\n    <tr>\n      <th>1</th>\n      <td>Noisy</td>\n      <td>-31.15903</td>\n      <td>0.625456</td>\n    </tr>\n  </tbody>\n</table>\n</div>"
     },
     "execution_count": 13,
     "metadata": {},
     "output_type": "execute_result"
    }
   ],
   "source": [
    "from pandas import DataFrame \n",
    "model = LinearRegression().fit(x.reshape((-1,1)), y)\n",
    "\n",
    "DataFrame({\"Model\":[\"Noise-less\",\"Noisy\"], \n",
    "           \"Intercept\": [noiseless_model.intercept_, model.intercept_],\n",
    "           \"Slope\": [noiseless_model.coef_[0], model.coef_[0]]})\n"
   ]
  },
  {
   "cell_type": "code",
   "execution_count": 14,
   "metadata": {
    "pycharm": {
     "name": "#%%\n"
    }
   },
   "outputs": [
    {
     "data": {
      "application/vnd.plotly.v1+json": {
       "data": [
        {
         "line": {
          "color": "black",
          "dash": "dash",
          "width": 1
         },
         "marker": {
          "color": "black",
          "opacity": 0.7
         },
         "name": "Real Model",
         "showlegend": true,
         "x": [
          0.0,
          11.11111111111111,
          22.22222222222222,
          33.33333333333333,
          44.44444444444444,
          55.55555555555556,
          66.66666666666666,
          77.77777777777777,
          88.88888888888889,
          100.0
         ],
         "y": [
          1.0,
          23.22222222222222,
          45.44444444444444,
          67.66666666666666,
          89.88888888888889,
          112.11111111111111,
          134.33333333333331,
          156.55555555555554,
          178.77777777777777,
          201.0
         ],
         "type": "scatter"
        },
        {
         "line": {
          "width": 1
         },
         "mode": "markers",
         "name": "Observed Points",
         "x": [
          0.0,
          11.11111111111111,
          22.22222222222222,
          33.33333333333333,
          44.44444444444444,
          55.55555555555556,
          66.66666666666666,
          77.77777777777777,
          88.88888888888889,
          100.0
         ],
         "y": [
          -21.33966042988545,
          -28.322708240428845,
          5.638134334930588,
          -123.67910525606285,
          -0.732273746742166,
          46.945939561380264,
          77.57618593706974,
          62.39109261055907,
          11.397675355948031,
          -28.73775551099364
         ],
         "type": "scatter"
        },
        {
         "marker": {
          "color": "blue"
         },
         "mode": "markers",
         "name": "Predicted Responses",
         "x": [
          0.0,
          11.11111111111111,
          22.22222222222222,
          33.33333333333333,
          44.44444444444444,
          55.55555555555556,
          66.66666666666666,
          77.77777777777777,
          88.88888888888889,
          100.0
         ],
         "y": [
          -31.15903047597692,
          -24.209523156520387,
          -17.260015837063854,
          -10.310508517607328,
          -3.3610011981507917,
          3.588506121305741,
          10.538013440762263,
          17.4875207602188,
          24.437028079675336,
          31.386535399131866
         ],
         "type": "scatter"
        },
        {
         "line": {
          "color": "blue",
          "width": 1
         },
         "mode": "lines",
         "name": "Fitted Model",
         "x": [
          0.0,
          11.11111111111111,
          22.22222222222222,
          33.33333333333333,
          44.44444444444444,
          55.55555555555556,
          66.66666666666666,
          77.77777777777777,
          88.88888888888889,
          100.0
         ],
         "y": [
          -31.15903047597692,
          -24.209523156520387,
          -17.260015837063854,
          -10.310508517607328,
          -3.3610011981507917,
          3.588506121305741,
          10.538013440762263,
          17.4875207602188,
          24.437028079675336,
          31.386535399131866
         ],
         "type": "scatter"
        }
       ],
       "layout": {
        "height": 400,
        "title": {
         "text": "$\\text{(3) Fitted Model Over Noisy Data}$"
        },
        "xaxis": {
         "title": {
          "text": "x - Explanatory Variable"
         }
        },
        "yaxis": {
         "title": {
          "text": "y - Response"
         }
        },
        "template": {
         "data": {
          "barpolar": [
           {
            "marker": {
             "line": {
              "color": "white",
              "width": 0.5
             },
             "pattern": {
              "fillmode": "overlay",
              "size": 10,
              "solidity": 0.2
             }
            },
            "type": "barpolar"
           }
          ],
          "bar": [
           {
            "error_x": {
             "color": "rgb(36,36,36)"
            },
            "error_y": {
             "color": "rgb(36,36,36)"
            },
            "marker": {
             "line": {
              "color": "white",
              "width": 0.5
             },
             "pattern": {
              "fillmode": "overlay",
              "size": 10,
              "solidity": 0.2
             }
            },
            "type": "bar"
           }
          ],
          "carpet": [
           {
            "aaxis": {
             "endlinecolor": "rgb(36,36,36)",
             "gridcolor": "white",
             "linecolor": "white",
             "minorgridcolor": "white",
             "startlinecolor": "rgb(36,36,36)"
            },
            "baxis": {
             "endlinecolor": "rgb(36,36,36)",
             "gridcolor": "white",
             "linecolor": "white",
             "minorgridcolor": "white",
             "startlinecolor": "rgb(36,36,36)"
            },
            "type": "carpet"
           }
          ],
          "choropleth": [
           {
            "colorbar": {
             "outlinewidth": 1,
             "tickcolor": "rgb(36,36,36)",
             "ticks": "outside"
            },
            "type": "choropleth"
           }
          ],
          "contourcarpet": [
           {
            "colorbar": {
             "outlinewidth": 1,
             "tickcolor": "rgb(36,36,36)",
             "ticks": "outside"
            },
            "type": "contourcarpet"
           }
          ],
          "contour": [
           {
            "colorbar": {
             "outlinewidth": 1,
             "tickcolor": "rgb(36,36,36)",
             "ticks": "outside"
            },
            "colorscale": [
             [
              0.0,
              "#440154"
             ],
             [
              0.1111111111111111,
              "#482878"
             ],
             [
              0.2222222222222222,
              "#3e4989"
             ],
             [
              0.3333333333333333,
              "#31688e"
             ],
             [
              0.4444444444444444,
              "#26828e"
             ],
             [
              0.5555555555555556,
              "#1f9e89"
             ],
             [
              0.6666666666666666,
              "#35b779"
             ],
             [
              0.7777777777777778,
              "#6ece58"
             ],
             [
              0.8888888888888888,
              "#b5de2b"
             ],
             [
              1.0,
              "#fde725"
             ]
            ],
            "type": "contour"
           }
          ],
          "heatmapgl": [
           {
            "colorbar": {
             "outlinewidth": 1,
             "tickcolor": "rgb(36,36,36)",
             "ticks": "outside"
            },
            "colorscale": [
             [
              0.0,
              "#440154"
             ],
             [
              0.1111111111111111,
              "#482878"
             ],
             [
              0.2222222222222222,
              "#3e4989"
             ],
             [
              0.3333333333333333,
              "#31688e"
             ],
             [
              0.4444444444444444,
              "#26828e"
             ],
             [
              0.5555555555555556,
              "#1f9e89"
             ],
             [
              0.6666666666666666,
              "#35b779"
             ],
             [
              0.7777777777777778,
              "#6ece58"
             ],
             [
              0.8888888888888888,
              "#b5de2b"
             ],
             [
              1.0,
              "#fde725"
             ]
            ],
            "type": "heatmapgl"
           }
          ],
          "heatmap": [
           {
            "colorbar": {
             "outlinewidth": 1,
             "tickcolor": "rgb(36,36,36)",
             "ticks": "outside"
            },
            "colorscale": [
             [
              0.0,
              "#440154"
             ],
             [
              0.1111111111111111,
              "#482878"
             ],
             [
              0.2222222222222222,
              "#3e4989"
             ],
             [
              0.3333333333333333,
              "#31688e"
             ],
             [
              0.4444444444444444,
              "#26828e"
             ],
             [
              0.5555555555555556,
              "#1f9e89"
             ],
             [
              0.6666666666666666,
              "#35b779"
             ],
             [
              0.7777777777777778,
              "#6ece58"
             ],
             [
              0.8888888888888888,
              "#b5de2b"
             ],
             [
              1.0,
              "#fde725"
             ]
            ],
            "type": "heatmap"
           }
          ],
          "histogram2dcontour": [
           {
            "colorbar": {
             "outlinewidth": 1,
             "tickcolor": "rgb(36,36,36)",
             "ticks": "outside"
            },
            "colorscale": [
             [
              0.0,
              "#440154"
             ],
             [
              0.1111111111111111,
              "#482878"
             ],
             [
              0.2222222222222222,
              "#3e4989"
             ],
             [
              0.3333333333333333,
              "#31688e"
             ],
             [
              0.4444444444444444,
              "#26828e"
             ],
             [
              0.5555555555555556,
              "#1f9e89"
             ],
             [
              0.6666666666666666,
              "#35b779"
             ],
             [
              0.7777777777777778,
              "#6ece58"
             ],
             [
              0.8888888888888888,
              "#b5de2b"
             ],
             [
              1.0,
              "#fde725"
             ]
            ],
            "type": "histogram2dcontour"
           }
          ],
          "histogram2d": [
           {
            "colorbar": {
             "outlinewidth": 1,
             "tickcolor": "rgb(36,36,36)",
             "ticks": "outside"
            },
            "colorscale": [
             [
              0.0,
              "#440154"
             ],
             [
              0.1111111111111111,
              "#482878"
             ],
             [
              0.2222222222222222,
              "#3e4989"
             ],
             [
              0.3333333333333333,
              "#31688e"
             ],
             [
              0.4444444444444444,
              "#26828e"
             ],
             [
              0.5555555555555556,
              "#1f9e89"
             ],
             [
              0.6666666666666666,
              "#35b779"
             ],
             [
              0.7777777777777778,
              "#6ece58"
             ],
             [
              0.8888888888888888,
              "#b5de2b"
             ],
             [
              1.0,
              "#fde725"
             ]
            ],
            "type": "histogram2d"
           }
          ],
          "histogram": [
           {
            "marker": {
             "line": {
              "color": "white",
              "width": 0.6
             }
            },
            "type": "histogram"
           }
          ],
          "mesh3d": [
           {
            "colorbar": {
             "outlinewidth": 1,
             "tickcolor": "rgb(36,36,36)",
             "ticks": "outside"
            },
            "type": "mesh3d"
           }
          ],
          "parcoords": [
           {
            "line": {
             "colorbar": {
              "outlinewidth": 1,
              "tickcolor": "rgb(36,36,36)",
              "ticks": "outside"
             }
            },
            "type": "parcoords"
           }
          ],
          "pie": [
           {
            "automargin": true,
            "type": "pie"
           }
          ],
          "scatter3d": [
           {
            "line": {
             "colorbar": {
              "outlinewidth": 1,
              "tickcolor": "rgb(36,36,36)",
              "ticks": "outside"
             }
            },
            "marker": {
             "colorbar": {
              "outlinewidth": 1,
              "tickcolor": "rgb(36,36,36)",
              "ticks": "outside"
             }
            },
            "type": "scatter3d"
           }
          ],
          "scattercarpet": [
           {
            "marker": {
             "colorbar": {
              "outlinewidth": 1,
              "tickcolor": "rgb(36,36,36)",
              "ticks": "outside"
             }
            },
            "type": "scattercarpet"
           }
          ],
          "scattergeo": [
           {
            "marker": {
             "colorbar": {
              "outlinewidth": 1,
              "tickcolor": "rgb(36,36,36)",
              "ticks": "outside"
             }
            },
            "type": "scattergeo"
           }
          ],
          "scattergl": [
           {
            "marker": {
             "colorbar": {
              "outlinewidth": 1,
              "tickcolor": "rgb(36,36,36)",
              "ticks": "outside"
             }
            },
            "type": "scattergl"
           }
          ],
          "scattermapbox": [
           {
            "marker": {
             "colorbar": {
              "outlinewidth": 1,
              "tickcolor": "rgb(36,36,36)",
              "ticks": "outside"
             }
            },
            "type": "scattermapbox"
           }
          ],
          "scatterpolargl": [
           {
            "marker": {
             "colorbar": {
              "outlinewidth": 1,
              "tickcolor": "rgb(36,36,36)",
              "ticks": "outside"
             }
            },
            "type": "scatterpolargl"
           }
          ],
          "scatterpolar": [
           {
            "marker": {
             "colorbar": {
              "outlinewidth": 1,
              "tickcolor": "rgb(36,36,36)",
              "ticks": "outside"
             }
            },
            "type": "scatterpolar"
           }
          ],
          "scatter": [
           {
            "marker": {
             "colorbar": {
              "outlinewidth": 1,
              "tickcolor": "rgb(36,36,36)",
              "ticks": "outside"
             }
            },
            "type": "scatter"
           }
          ],
          "scatterternary": [
           {
            "marker": {
             "colorbar": {
              "outlinewidth": 1,
              "tickcolor": "rgb(36,36,36)",
              "ticks": "outside"
             }
            },
            "type": "scatterternary"
           }
          ],
          "surface": [
           {
            "colorbar": {
             "outlinewidth": 1,
             "tickcolor": "rgb(36,36,36)",
             "ticks": "outside"
            },
            "colorscale": [
             [
              0.0,
              "#440154"
             ],
             [
              0.1111111111111111,
              "#482878"
             ],
             [
              0.2222222222222222,
              "#3e4989"
             ],
             [
              0.3333333333333333,
              "#31688e"
             ],
             [
              0.4444444444444444,
              "#26828e"
             ],
             [
              0.5555555555555556,
              "#1f9e89"
             ],
             [
              0.6666666666666666,
              "#35b779"
             ],
             [
              0.7777777777777778,
              "#6ece58"
             ],
             [
              0.8888888888888888,
              "#b5de2b"
             ],
             [
              1.0,
              "#fde725"
             ]
            ],
            "type": "surface"
           }
          ],
          "table": [
           {
            "cells": {
             "fill": {
              "color": "rgb(237,237,237)"
             },
             "line": {
              "color": "white"
             }
            },
            "header": {
             "fill": {
              "color": "rgb(217,217,217)"
             },
             "line": {
              "color": "white"
             }
            },
            "type": "table"
           }
          ]
         },
         "layout": {
          "annotationdefaults": {
           "arrowhead": 0,
           "arrowwidth": 1
          },
          "autotypenumbers": "strict",
          "coloraxis": {
           "colorbar": {
            "outlinewidth": 1,
            "tickcolor": "rgb(36,36,36)",
            "ticks": "outside"
           }
          },
          "colorscale": {
           "diverging": [
            [
             0.0,
             "rgb(103,0,31)"
            ],
            [
             0.1,
             "rgb(178,24,43)"
            ],
            [
             0.2,
             "rgb(214,96,77)"
            ],
            [
             0.3,
             "rgb(244,165,130)"
            ],
            [
             0.4,
             "rgb(253,219,199)"
            ],
            [
             0.5,
             "rgb(247,247,247)"
            ],
            [
             0.6,
             "rgb(209,229,240)"
            ],
            [
             0.7,
             "rgb(146,197,222)"
            ],
            [
             0.8,
             "rgb(67,147,195)"
            ],
            [
             0.9,
             "rgb(33,102,172)"
            ],
            [
             1.0,
             "rgb(5,48,97)"
            ]
           ],
           "sequential": [
            [
             0.0,
             "#440154"
            ],
            [
             0.1111111111111111,
             "#482878"
            ],
            [
             0.2222222222222222,
             "#3e4989"
            ],
            [
             0.3333333333333333,
             "#31688e"
            ],
            [
             0.4444444444444444,
             "#26828e"
            ],
            [
             0.5555555555555556,
             "#1f9e89"
            ],
            [
             0.6666666666666666,
             "#35b779"
            ],
            [
             0.7777777777777778,
             "#6ece58"
            ],
            [
             0.8888888888888888,
             "#b5de2b"
            ],
            [
             1.0,
             "#fde725"
            ]
           ],
           "sequentialminus": [
            [
             0.0,
             "#440154"
            ],
            [
             0.1111111111111111,
             "#482878"
            ],
            [
             0.2222222222222222,
             "#3e4989"
            ],
            [
             0.3333333333333333,
             "#31688e"
            ],
            [
             0.4444444444444444,
             "#26828e"
            ],
            [
             0.5555555555555556,
             "#1f9e89"
            ],
            [
             0.6666666666666666,
             "#35b779"
            ],
            [
             0.7777777777777778,
             "#6ece58"
            ],
            [
             0.8888888888888888,
             "#b5de2b"
            ],
            [
             1.0,
             "#fde725"
            ]
           ]
          },
          "colorway": [
           "#1F77B4",
           "#FF7F0E",
           "#2CA02C",
           "#D62728",
           "#9467BD",
           "#8C564B",
           "#E377C2",
           "#7F7F7F",
           "#BCBD22",
           "#17BECF"
          ],
          "font": {
           "color": "rgb(36,36,36)"
          },
          "geo": {
           "bgcolor": "white",
           "lakecolor": "white",
           "landcolor": "white",
           "showlakes": true,
           "showland": true,
           "subunitcolor": "white"
          },
          "hoverlabel": {
           "align": "left"
          },
          "hovermode": "closest",
          "mapbox": {
           "style": "light"
          },
          "paper_bgcolor": "white",
          "plot_bgcolor": "white",
          "polar": {
           "angularaxis": {
            "gridcolor": "rgb(232,232,232)",
            "linecolor": "rgb(36,36,36)",
            "showgrid": false,
            "showline": true,
            "ticks": "outside"
           },
           "bgcolor": "white",
           "radialaxis": {
            "gridcolor": "rgb(232,232,232)",
            "linecolor": "rgb(36,36,36)",
            "showgrid": false,
            "showline": true,
            "ticks": "outside"
           }
          },
          "scene": {
           "xaxis": {
            "backgroundcolor": "white",
            "gridcolor": "rgb(232,232,232)",
            "gridwidth": 2,
            "linecolor": "rgb(36,36,36)",
            "showbackground": true,
            "showgrid": false,
            "showline": true,
            "ticks": "outside",
            "zeroline": false,
            "zerolinecolor": "rgb(36,36,36)"
           },
           "yaxis": {
            "backgroundcolor": "white",
            "gridcolor": "rgb(232,232,232)",
            "gridwidth": 2,
            "linecolor": "rgb(36,36,36)",
            "showbackground": true,
            "showgrid": false,
            "showline": true,
            "ticks": "outside",
            "zeroline": false,
            "zerolinecolor": "rgb(36,36,36)"
           },
           "zaxis": {
            "backgroundcolor": "white",
            "gridcolor": "rgb(232,232,232)",
            "gridwidth": 2,
            "linecolor": "rgb(36,36,36)",
            "showbackground": true,
            "showgrid": false,
            "showline": true,
            "ticks": "outside",
            "zeroline": false,
            "zerolinecolor": "rgb(36,36,36)"
           }
          },
          "shapedefaults": {
           "fillcolor": "black",
           "line": {
            "width": 0
           },
           "opacity": 0.3
          },
          "ternary": {
           "aaxis": {
            "gridcolor": "rgb(232,232,232)",
            "linecolor": "rgb(36,36,36)",
            "showgrid": false,
            "showline": true,
            "ticks": "outside"
           },
           "baxis": {
            "gridcolor": "rgb(232,232,232)",
            "linecolor": "rgb(36,36,36)",
            "showgrid": false,
            "showline": true,
            "ticks": "outside"
           },
           "bgcolor": "white",
           "caxis": {
            "gridcolor": "rgb(232,232,232)",
            "linecolor": "rgb(36,36,36)",
            "showgrid": false,
            "showline": true,
            "ticks": "outside"
           }
          },
          "title": {
           "x": 0.05
          },
          "xaxis": {
           "automargin": true,
           "gridcolor": "rgb(232,232,232)",
           "linecolor": "rgb(36,36,36)",
           "showgrid": false,
           "showline": true,
           "ticks": "outside",
           "title": {
            "standoff": 15
           },
           "zeroline": false,
           "zerolinecolor": "rgb(36,36,36)"
          },
          "yaxis": {
           "automargin": true,
           "gridcolor": "rgb(232,232,232)",
           "linecolor": "rgb(36,36,36)",
           "showgrid": false,
           "showline": true,
           "ticks": "outside",
           "title": {
            "standoff": 15
           },
           "zeroline": false,
           "zerolinecolor": "rgb(36,36,36)"
          },
          "margin": {
           "b": 0,
           "l": 20,
           "r": 20,
           "t": 40
          }
         }
        }
       },
       "config": {
        "plotlyServerURL": "https://plot.ly"
       }
      },
      "text/html": "<div>                            <div id=\"8a20fb1b-aae1-42d4-9b98-c336c7955fe3\" class=\"plotly-graph-div\" style=\"height:400px; width:100%;\"></div>            <script type=\"text/javascript\">                require([\"plotly\"], function(Plotly) {                    window.PLOTLYENV=window.PLOTLYENV || {};                                    if (document.getElementById(\"8a20fb1b-aae1-42d4-9b98-c336c7955fe3\")) {                    Plotly.newPlot(                        \"8a20fb1b-aae1-42d4-9b98-c336c7955fe3\",                        [{\"line\":{\"color\":\"black\",\"dash\":\"dash\",\"width\":1},\"marker\":{\"color\":\"black\",\"opacity\":0.7},\"name\":\"Real Model\",\"showlegend\":true,\"x\":[0.0,11.11111111111111,22.22222222222222,33.33333333333333,44.44444444444444,55.55555555555556,66.66666666666666,77.77777777777777,88.88888888888889,100.0],\"y\":[1.0,23.22222222222222,45.44444444444444,67.66666666666666,89.88888888888889,112.11111111111111,134.33333333333331,156.55555555555554,178.77777777777777,201.0],\"type\":\"scatter\"},{\"line\":{\"width\":1},\"mode\":\"markers\",\"name\":\"Observed Points\",\"x\":[0.0,11.11111111111111,22.22222222222222,33.33333333333333,44.44444444444444,55.55555555555556,66.66666666666666,77.77777777777777,88.88888888888889,100.0],\"y\":[-21.33966042988545,-28.322708240428845,5.638134334930588,-123.67910525606285,-0.732273746742166,46.945939561380264,77.57618593706974,62.39109261055907,11.397675355948031,-28.73775551099364],\"type\":\"scatter\"},{\"marker\":{\"color\":\"blue\"},\"mode\":\"markers\",\"name\":\"Predicted Responses\",\"x\":[0.0,11.11111111111111,22.22222222222222,33.33333333333333,44.44444444444444,55.55555555555556,66.66666666666666,77.77777777777777,88.88888888888889,100.0],\"y\":[-31.15903047597692,-24.209523156520387,-17.260015837063854,-10.310508517607328,-3.3610011981507917,3.588506121305741,10.538013440762263,17.4875207602188,24.437028079675336,31.386535399131866],\"type\":\"scatter\"},{\"line\":{\"color\":\"blue\",\"width\":1},\"mode\":\"lines\",\"name\":\"Fitted Model\",\"x\":[0.0,11.11111111111111,22.22222222222222,33.33333333333333,44.44444444444444,55.55555555555556,66.66666666666666,77.77777777777777,88.88888888888889,100.0],\"y\":[-31.15903047597692,-24.209523156520387,-17.260015837063854,-10.310508517607328,-3.3610011981507917,3.588506121305741,10.538013440762263,17.4875207602188,24.437028079675336,31.386535399131866],\"type\":\"scatter\"}],                        {\"height\":400,\"title\":{\"text\":\"$\\\\text{(3) Fitted Model Over Noisy Data}$\"},\"xaxis\":{\"title\":{\"text\":\"x - Explanatory Variable\"}},\"yaxis\":{\"title\":{\"text\":\"y - Response\"}},\"template\":{\"data\":{\"barpolar\":[{\"marker\":{\"line\":{\"color\":\"white\",\"width\":0.5},\"pattern\":{\"fillmode\":\"overlay\",\"size\":10,\"solidity\":0.2}},\"type\":\"barpolar\"}],\"bar\":[{\"error_x\":{\"color\":\"rgb(36,36,36)\"},\"error_y\":{\"color\":\"rgb(36,36,36)\"},\"marker\":{\"line\":{\"color\":\"white\",\"width\":0.5},\"pattern\":{\"fillmode\":\"overlay\",\"size\":10,\"solidity\":0.2}},\"type\":\"bar\"}],\"carpet\":[{\"aaxis\":{\"endlinecolor\":\"rgb(36,36,36)\",\"gridcolor\":\"white\",\"linecolor\":\"white\",\"minorgridcolor\":\"white\",\"startlinecolor\":\"rgb(36,36,36)\"},\"baxis\":{\"endlinecolor\":\"rgb(36,36,36)\",\"gridcolor\":\"white\",\"linecolor\":\"white\",\"minorgridcolor\":\"white\",\"startlinecolor\":\"rgb(36,36,36)\"},\"type\":\"carpet\"}],\"choropleth\":[{\"colorbar\":{\"outlinewidth\":1,\"tickcolor\":\"rgb(36,36,36)\",\"ticks\":\"outside\"},\"type\":\"choropleth\"}],\"contourcarpet\":[{\"colorbar\":{\"outlinewidth\":1,\"tickcolor\":\"rgb(36,36,36)\",\"ticks\":\"outside\"},\"type\":\"contourcarpet\"}],\"contour\":[{\"colorbar\":{\"outlinewidth\":1,\"tickcolor\":\"rgb(36,36,36)\",\"ticks\":\"outside\"},\"colorscale\":[[0.0,\"#440154\"],[0.1111111111111111,\"#482878\"],[0.2222222222222222,\"#3e4989\"],[0.3333333333333333,\"#31688e\"],[0.4444444444444444,\"#26828e\"],[0.5555555555555556,\"#1f9e89\"],[0.6666666666666666,\"#35b779\"],[0.7777777777777778,\"#6ece58\"],[0.8888888888888888,\"#b5de2b\"],[1.0,\"#fde725\"]],\"type\":\"contour\"}],\"heatmapgl\":[{\"colorbar\":{\"outlinewidth\":1,\"tickcolor\":\"rgb(36,36,36)\",\"ticks\":\"outside\"},\"colorscale\":[[0.0,\"#440154\"],[0.1111111111111111,\"#482878\"],[0.2222222222222222,\"#3e4989\"],[0.3333333333333333,\"#31688e\"],[0.4444444444444444,\"#26828e\"],[0.5555555555555556,\"#1f9e89\"],[0.6666666666666666,\"#35b779\"],[0.7777777777777778,\"#6ece58\"],[0.8888888888888888,\"#b5de2b\"],[1.0,\"#fde725\"]],\"type\":\"heatmapgl\"}],\"heatmap\":[{\"colorbar\":{\"outlinewidth\":1,\"tickcolor\":\"rgb(36,36,36)\",\"ticks\":\"outside\"},\"colorscale\":[[0.0,\"#440154\"],[0.1111111111111111,\"#482878\"],[0.2222222222222222,\"#3e4989\"],[0.3333333333333333,\"#31688e\"],[0.4444444444444444,\"#26828e\"],[0.5555555555555556,\"#1f9e89\"],[0.6666666666666666,\"#35b779\"],[0.7777777777777778,\"#6ece58\"],[0.8888888888888888,\"#b5de2b\"],[1.0,\"#fde725\"]],\"type\":\"heatmap\"}],\"histogram2dcontour\":[{\"colorbar\":{\"outlinewidth\":1,\"tickcolor\":\"rgb(36,36,36)\",\"ticks\":\"outside\"},\"colorscale\":[[0.0,\"#440154\"],[0.1111111111111111,\"#482878\"],[0.2222222222222222,\"#3e4989\"],[0.3333333333333333,\"#31688e\"],[0.4444444444444444,\"#26828e\"],[0.5555555555555556,\"#1f9e89\"],[0.6666666666666666,\"#35b779\"],[0.7777777777777778,\"#6ece58\"],[0.8888888888888888,\"#b5de2b\"],[1.0,\"#fde725\"]],\"type\":\"histogram2dcontour\"}],\"histogram2d\":[{\"colorbar\":{\"outlinewidth\":1,\"tickcolor\":\"rgb(36,36,36)\",\"ticks\":\"outside\"},\"colorscale\":[[0.0,\"#440154\"],[0.1111111111111111,\"#482878\"],[0.2222222222222222,\"#3e4989\"],[0.3333333333333333,\"#31688e\"],[0.4444444444444444,\"#26828e\"],[0.5555555555555556,\"#1f9e89\"],[0.6666666666666666,\"#35b779\"],[0.7777777777777778,\"#6ece58\"],[0.8888888888888888,\"#b5de2b\"],[1.0,\"#fde725\"]],\"type\":\"histogram2d\"}],\"histogram\":[{\"marker\":{\"line\":{\"color\":\"white\",\"width\":0.6}},\"type\":\"histogram\"}],\"mesh3d\":[{\"colorbar\":{\"outlinewidth\":1,\"tickcolor\":\"rgb(36,36,36)\",\"ticks\":\"outside\"},\"type\":\"mesh3d\"}],\"parcoords\":[{\"line\":{\"colorbar\":{\"outlinewidth\":1,\"tickcolor\":\"rgb(36,36,36)\",\"ticks\":\"outside\"}},\"type\":\"parcoords\"}],\"pie\":[{\"automargin\":true,\"type\":\"pie\"}],\"scatter3d\":[{\"line\":{\"colorbar\":{\"outlinewidth\":1,\"tickcolor\":\"rgb(36,36,36)\",\"ticks\":\"outside\"}},\"marker\":{\"colorbar\":{\"outlinewidth\":1,\"tickcolor\":\"rgb(36,36,36)\",\"ticks\":\"outside\"}},\"type\":\"scatter3d\"}],\"scattercarpet\":[{\"marker\":{\"colorbar\":{\"outlinewidth\":1,\"tickcolor\":\"rgb(36,36,36)\",\"ticks\":\"outside\"}},\"type\":\"scattercarpet\"}],\"scattergeo\":[{\"marker\":{\"colorbar\":{\"outlinewidth\":1,\"tickcolor\":\"rgb(36,36,36)\",\"ticks\":\"outside\"}},\"type\":\"scattergeo\"}],\"scattergl\":[{\"marker\":{\"colorbar\":{\"outlinewidth\":1,\"tickcolor\":\"rgb(36,36,36)\",\"ticks\":\"outside\"}},\"type\":\"scattergl\"}],\"scattermapbox\":[{\"marker\":{\"colorbar\":{\"outlinewidth\":1,\"tickcolor\":\"rgb(36,36,36)\",\"ticks\":\"outside\"}},\"type\":\"scattermapbox\"}],\"scatterpolargl\":[{\"marker\":{\"colorbar\":{\"outlinewidth\":1,\"tickcolor\":\"rgb(36,36,36)\",\"ticks\":\"outside\"}},\"type\":\"scatterpolargl\"}],\"scatterpolar\":[{\"marker\":{\"colorbar\":{\"outlinewidth\":1,\"tickcolor\":\"rgb(36,36,36)\",\"ticks\":\"outside\"}},\"type\":\"scatterpolar\"}],\"scatter\":[{\"marker\":{\"colorbar\":{\"outlinewidth\":1,\"tickcolor\":\"rgb(36,36,36)\",\"ticks\":\"outside\"}},\"type\":\"scatter\"}],\"scatterternary\":[{\"marker\":{\"colorbar\":{\"outlinewidth\":1,\"tickcolor\":\"rgb(36,36,36)\",\"ticks\":\"outside\"}},\"type\":\"scatterternary\"}],\"surface\":[{\"colorbar\":{\"outlinewidth\":1,\"tickcolor\":\"rgb(36,36,36)\",\"ticks\":\"outside\"},\"colorscale\":[[0.0,\"#440154\"],[0.1111111111111111,\"#482878\"],[0.2222222222222222,\"#3e4989\"],[0.3333333333333333,\"#31688e\"],[0.4444444444444444,\"#26828e\"],[0.5555555555555556,\"#1f9e89\"],[0.6666666666666666,\"#35b779\"],[0.7777777777777778,\"#6ece58\"],[0.8888888888888888,\"#b5de2b\"],[1.0,\"#fde725\"]],\"type\":\"surface\"}],\"table\":[{\"cells\":{\"fill\":{\"color\":\"rgb(237,237,237)\"},\"line\":{\"color\":\"white\"}},\"header\":{\"fill\":{\"color\":\"rgb(217,217,217)\"},\"line\":{\"color\":\"white\"}},\"type\":\"table\"}]},\"layout\":{\"annotationdefaults\":{\"arrowhead\":0,\"arrowwidth\":1},\"autotypenumbers\":\"strict\",\"coloraxis\":{\"colorbar\":{\"outlinewidth\":1,\"tickcolor\":\"rgb(36,36,36)\",\"ticks\":\"outside\"}},\"colorscale\":{\"diverging\":[[0.0,\"rgb(103,0,31)\"],[0.1,\"rgb(178,24,43)\"],[0.2,\"rgb(214,96,77)\"],[0.3,\"rgb(244,165,130)\"],[0.4,\"rgb(253,219,199)\"],[0.5,\"rgb(247,247,247)\"],[0.6,\"rgb(209,229,240)\"],[0.7,\"rgb(146,197,222)\"],[0.8,\"rgb(67,147,195)\"],[0.9,\"rgb(33,102,172)\"],[1.0,\"rgb(5,48,97)\"]],\"sequential\":[[0.0,\"#440154\"],[0.1111111111111111,\"#482878\"],[0.2222222222222222,\"#3e4989\"],[0.3333333333333333,\"#31688e\"],[0.4444444444444444,\"#26828e\"],[0.5555555555555556,\"#1f9e89\"],[0.6666666666666666,\"#35b779\"],[0.7777777777777778,\"#6ece58\"],[0.8888888888888888,\"#b5de2b\"],[1.0,\"#fde725\"]],\"sequentialminus\":[[0.0,\"#440154\"],[0.1111111111111111,\"#482878\"],[0.2222222222222222,\"#3e4989\"],[0.3333333333333333,\"#31688e\"],[0.4444444444444444,\"#26828e\"],[0.5555555555555556,\"#1f9e89\"],[0.6666666666666666,\"#35b779\"],[0.7777777777777778,\"#6ece58\"],[0.8888888888888888,\"#b5de2b\"],[1.0,\"#fde725\"]]},\"colorway\":[\"#1F77B4\",\"#FF7F0E\",\"#2CA02C\",\"#D62728\",\"#9467BD\",\"#8C564B\",\"#E377C2\",\"#7F7F7F\",\"#BCBD22\",\"#17BECF\"],\"font\":{\"color\":\"rgb(36,36,36)\"},\"geo\":{\"bgcolor\":\"white\",\"lakecolor\":\"white\",\"landcolor\":\"white\",\"showlakes\":true,\"showland\":true,\"subunitcolor\":\"white\"},\"hoverlabel\":{\"align\":\"left\"},\"hovermode\":\"closest\",\"mapbox\":{\"style\":\"light\"},\"paper_bgcolor\":\"white\",\"plot_bgcolor\":\"white\",\"polar\":{\"angularaxis\":{\"gridcolor\":\"rgb(232,232,232)\",\"linecolor\":\"rgb(36,36,36)\",\"showgrid\":false,\"showline\":true,\"ticks\":\"outside\"},\"bgcolor\":\"white\",\"radialaxis\":{\"gridcolor\":\"rgb(232,232,232)\",\"linecolor\":\"rgb(36,36,36)\",\"showgrid\":false,\"showline\":true,\"ticks\":\"outside\"}},\"scene\":{\"xaxis\":{\"backgroundcolor\":\"white\",\"gridcolor\":\"rgb(232,232,232)\",\"gridwidth\":2,\"linecolor\":\"rgb(36,36,36)\",\"showbackground\":true,\"showgrid\":false,\"showline\":true,\"ticks\":\"outside\",\"zeroline\":false,\"zerolinecolor\":\"rgb(36,36,36)\"},\"yaxis\":{\"backgroundcolor\":\"white\",\"gridcolor\":\"rgb(232,232,232)\",\"gridwidth\":2,\"linecolor\":\"rgb(36,36,36)\",\"showbackground\":true,\"showgrid\":false,\"showline\":true,\"ticks\":\"outside\",\"zeroline\":false,\"zerolinecolor\":\"rgb(36,36,36)\"},\"zaxis\":{\"backgroundcolor\":\"white\",\"gridcolor\":\"rgb(232,232,232)\",\"gridwidth\":2,\"linecolor\":\"rgb(36,36,36)\",\"showbackground\":true,\"showgrid\":false,\"showline\":true,\"ticks\":\"outside\",\"zeroline\":false,\"zerolinecolor\":\"rgb(36,36,36)\"}},\"shapedefaults\":{\"fillcolor\":\"black\",\"line\":{\"width\":0},\"opacity\":0.3},\"ternary\":{\"aaxis\":{\"gridcolor\":\"rgb(232,232,232)\",\"linecolor\":\"rgb(36,36,36)\",\"showgrid\":false,\"showline\":true,\"ticks\":\"outside\"},\"baxis\":{\"gridcolor\":\"rgb(232,232,232)\",\"linecolor\":\"rgb(36,36,36)\",\"showgrid\":false,\"showline\":true,\"ticks\":\"outside\"},\"bgcolor\":\"white\",\"caxis\":{\"gridcolor\":\"rgb(232,232,232)\",\"linecolor\":\"rgb(36,36,36)\",\"showgrid\":false,\"showline\":true,\"ticks\":\"outside\"}},\"title\":{\"x\":0.05},\"xaxis\":{\"automargin\":true,\"gridcolor\":\"rgb(232,232,232)\",\"linecolor\":\"rgb(36,36,36)\",\"showgrid\":false,\"showline\":true,\"ticks\":\"outside\",\"title\":{\"standoff\":15},\"zeroline\":false,\"zerolinecolor\":\"rgb(36,36,36)\"},\"yaxis\":{\"automargin\":true,\"gridcolor\":\"rgb(232,232,232)\",\"linecolor\":\"rgb(36,36,36)\",\"showgrid\":false,\"showline\":true,\"ticks\":\"outside\",\"title\":{\"standoff\":15},\"zeroline\":false,\"zerolinecolor\":\"rgb(36,36,36)\"},\"margin\":{\"b\":0,\"l\":20,\"r\":20,\"t\":40}}}},                        {\"responsive\": true}                    ).then(function(){\n                            \nvar gd = document.getElementById('8a20fb1b-aae1-42d4-9b98-c336c7955fe3');\nvar x = new MutationObserver(function (mutations, observer) {{\n        var display = window.getComputedStyle(gd).display;\n        if (!display || display === 'none') {{\n            console.log([gd, 'removed!']);\n            Plotly.purge(gd);\n            observer.disconnect();\n        }}\n}});\n\n// Listen for the removal of the full notebook cells\nvar notebookContainer = gd.closest('#notebook-container');\nif (notebookContainer) {{\n    x.observe(notebookContainer, {childList: true});\n}}\n\n// Listen for the clearing of the current output cell\nvar outputEl = gd.closest('.output');\nif (outputEl) {{\n    x.observe(outputEl, {childList: true});\n}}\n\n                        })                };                });            </script>        </div>"
     },
     "metadata": {},
     "output_type": "display_data"
    }
   ],
   "source": [
    "y_hat = model.predict(x.reshape(-1,1))\n",
    "\n",
    "fig.data = [fig.data[0], fig.data[1]]\n",
    "fig.update_layout(title=r\"$\\text{(3) Fitted Model Over Noisy Data}$\")\n",
    "fig.add_traces([go.Scatter(x=x, y=y_hat, mode=\"markers\", name=\"Predicted Responses\", marker=dict(color=\"blue\")),\n",
    "                go.Scatter(x=x, y=y_hat, mode=\"lines\", name=\"Fitted Model\", line=dict(color=\"blue\", width=1))])\n",
    "fig.show()\n"
   ]
  },
  {
   "cell_type": "markdown",
   "metadata": {
    "pycharm": {
     "name": "#%% md\n"
    }
   },
   "source": [
    "Let us better understand what took place. Schematically, we started with some model\n",
    "$$ Y=w_1X+w_0 \\quad s.t. w_1=2,w_0=1 $$\n",
    "\n",
    "and obtained a dataset from this model \n",
    "$$ Y=w_1X + w_0 + \\mathcal{N}\\left(0,\\sigma^2\\right) $$ \n",
    "\n",
    "Then, using the dataset we estimated the model parameters to obtain $\\widehat{w_1},\\widehat{w_0}$. However, we should look\n",
    "at these steps from two different points of view: the \"observer\" and the \"all-knowing\".\n",
    "- The \"observer\" is us whenever we work with data. We somehow obtained samples/observations that we assume to be generated\n",
    "from some \"true\" function/model $f$. As in reality data is noisy, when we assume something about the \"true\" function we \n",
    "also make assumptions about the noise. Then, as we do not know $f$ we try to learn it based on the observations.\n",
    "- The \"all-knowing\", unlike the \"observer\", knows exactly how $f$ looks and for each sample what is the noise.  \n",
    "\n",
    "In the graph above the <span style=\"color:Black\">**Real Model**</span> is only known to the \"all-knowing\". We, as the \n",
    "\"observer\" only witness the <span style=\"color:red\">**Observed Points**</span>. We **assumed** the data came from a linear\n",
    "model with Gaussian Noise and therefore fitted the OLS estimators $\\widehat{w}_1, \\widehat{w}_0$. These estimators give\n",
    "us the <span style=\"color:blue\">**Fitted Model**</span> and a <span style=\"color:blue\">**Predicted Response**</span> to \n",
    "each observation."
   ]
  },
  {
   "cell_type": "markdown",
   "metadata": {
    "pycharm": {
     "name": "#%% md\n"
    }
   },
   "source": [
    "Using these estimators of the model coefficients we can do two things:\n",
    "- **Inference**: We can study the estimated model. What are the statistical properties of our estimators? How confident are\n",
    "we in the estimation? Are the features associated with the helpful/relevant for predicting/explaining the response? Etc.\n",
    "- **Prediction**: We can use this estimated model to predict the responses of new data-points. How accurate are our predictions? How does the training set (and its size) influence this accuracy? \n",
    "\n",
    "In the scope of this course we are mainly interested in using the fitted model for prediction, with only slightly \n",
    "investigating the properties of our fitted model."
   ]
  },
  {
   "cell_type": "markdown",
   "metadata": {
    "pycharm": {
     "name": "#%% md\n"
    }
   },
   "source": [
    "## Multivatiate Linaer Regression\n",
    "Lastly, using a more complicated model, we fit a model and answer some inference and prediction questions. \n",
    "To gain a better understanding, please look at the graph below and answer the question before reading the code.\n"
   ]
  },
  {
   "cell_type": "code",
   "execution_count": 32,
   "metadata": {
    "pycharm": {
     "name": "#%%\n"
    },
    "scrolled": true
   },
   "outputs": [
    {
     "data": {
      "text/plain": "  Coefficient  Estimated Value\n0       $w_0$         0.780172\n1       $w_1$         5.497082\n2       $w_2$         0.276898",
      "text/html": "<div>\n<style scoped>\n    .dataframe tbody tr th:only-of-type {\n        vertical-align: middle;\n    }\n\n    .dataframe tbody tr th {\n        vertical-align: top;\n    }\n\n    .dataframe thead th {\n        text-align: right;\n    }\n</style>\n<table border=\"1\" class=\"dataframe\">\n  <thead>\n    <tr style=\"text-align: right;\">\n      <th></th>\n      <th>Coefficient</th>\n      <th>Estimated Value</th>\n    </tr>\n  </thead>\n  <tbody>\n    <tr>\n      <th>0</th>\n      <td>$w_0$</td>\n      <td>0.780172</td>\n    </tr>\n    <tr>\n      <th>1</th>\n      <td>$w_1$</td>\n      <td>5.497082</td>\n    </tr>\n    <tr>\n      <th>2</th>\n      <td>$w_2$</td>\n      <td>0.276898</td>\n    </tr>\n  </tbody>\n</table>\n</div>"
     },
     "execution_count": 32,
     "metadata": {},
     "output_type": "execute_result"
    }
   ],
   "source": [
    "response = lambda x1, x2: 5*x1 + .1*x2 + 3\n",
    "\n",
    "min_x1, min_x2, max_x1, max_x2 = -10, -10, 10, 10\n",
    "xv1, xv2 = np.meshgrid(np.linspace(min_x1, max_x1, 10), np.linspace(min_x2, max_x2, 10))\n",
    "surface = response(xv1, xv2)\n",
    "\n",
    "x = np.random.uniform((min_x1, min_x2), (max_x1, max_x2), (100, 2))\n",
    "y_ = response(x[:,0], x[:,1])\n",
    "y = y_ + np.random.normal(0, 30, len(x))\n",
    "\n",
    "model = LinearRegression().fit(x, y)\n",
    "y_hat = model.predict(x)\n",
    "\n",
    "DataFrame({\"Coefficient\": [rf\"$w_{{0}}$\".format(i) for i in range(len(model.coef_)+1)],\n",
    "           \"Estimated Value\": np.concatenate([[model.intercept_], model.coef_])})\n"
   ]
  },
  {
   "cell_type": "code",
   "execution_count": 27,
   "metadata": {
    "pycharm": {
     "name": "#%%\n"
    }
   },
   "outputs": [
    {
     "data": {
      "application/vnd.plotly.v1+json": {
       "data": [
        {
         "opacity": 0.5,
         "showscale": false,
         "x": [
          [
           -10.0,
           -7.777777777777778,
           -5.555555555555555,
           -3.333333333333333,
           -1.1111111111111107,
           1.1111111111111107,
           3.333333333333334,
           5.555555555555557,
           7.777777777777779,
           10.0
          ],
          [
           -10.0,
           -7.777777777777778,
           -5.555555555555555,
           -3.333333333333333,
           -1.1111111111111107,
           1.1111111111111107,
           3.333333333333334,
           5.555555555555557,
           7.777777777777779,
           10.0
          ],
          [
           -10.0,
           -7.777777777777778,
           -5.555555555555555,
           -3.333333333333333,
           -1.1111111111111107,
           1.1111111111111107,
           3.333333333333334,
           5.555555555555557,
           7.777777777777779,
           10.0
          ],
          [
           -10.0,
           -7.777777777777778,
           -5.555555555555555,
           -3.333333333333333,
           -1.1111111111111107,
           1.1111111111111107,
           3.333333333333334,
           5.555555555555557,
           7.777777777777779,
           10.0
          ],
          [
           -10.0,
           -7.777777777777778,
           -5.555555555555555,
           -3.333333333333333,
           -1.1111111111111107,
           1.1111111111111107,
           3.333333333333334,
           5.555555555555557,
           7.777777777777779,
           10.0
          ],
          [
           -10.0,
           -7.777777777777778,
           -5.555555555555555,
           -3.333333333333333,
           -1.1111111111111107,
           1.1111111111111107,
           3.333333333333334,
           5.555555555555557,
           7.777777777777779,
           10.0
          ],
          [
           -10.0,
           -7.777777777777778,
           -5.555555555555555,
           -3.333333333333333,
           -1.1111111111111107,
           1.1111111111111107,
           3.333333333333334,
           5.555555555555557,
           7.777777777777779,
           10.0
          ],
          [
           -10.0,
           -7.777777777777778,
           -5.555555555555555,
           -3.333333333333333,
           -1.1111111111111107,
           1.1111111111111107,
           3.333333333333334,
           5.555555555555557,
           7.777777777777779,
           10.0
          ],
          [
           -10.0,
           -7.777777777777778,
           -5.555555555555555,
           -3.333333333333333,
           -1.1111111111111107,
           1.1111111111111107,
           3.333333333333334,
           5.555555555555557,
           7.777777777777779,
           10.0
          ],
          [
           -10.0,
           -7.777777777777778,
           -5.555555555555555,
           -3.333333333333333,
           -1.1111111111111107,
           1.1111111111111107,
           3.333333333333334,
           5.555555555555557,
           7.777777777777779,
           10.0
          ]
         ],
         "y": [
          [
           -10.0,
           -10.0,
           -10.0,
           -10.0,
           -10.0,
           -10.0,
           -10.0,
           -10.0,
           -10.0,
           -10.0
          ],
          [
           -7.777777777777778,
           -7.777777777777778,
           -7.777777777777778,
           -7.777777777777778,
           -7.777777777777778,
           -7.777777777777778,
           -7.777777777777778,
           -7.777777777777778,
           -7.777777777777778,
           -7.777777777777778
          ],
          [
           -5.555555555555555,
           -5.555555555555555,
           -5.555555555555555,
           -5.555555555555555,
           -5.555555555555555,
           -5.555555555555555,
           -5.555555555555555,
           -5.555555555555555,
           -5.555555555555555,
           -5.555555555555555
          ],
          [
           -3.333333333333333,
           -3.333333333333333,
           -3.333333333333333,
           -3.333333333333333,
           -3.333333333333333,
           -3.333333333333333,
           -3.333333333333333,
           -3.333333333333333,
           -3.333333333333333,
           -3.333333333333333
          ],
          [
           -1.1111111111111107,
           -1.1111111111111107,
           -1.1111111111111107,
           -1.1111111111111107,
           -1.1111111111111107,
           -1.1111111111111107,
           -1.1111111111111107,
           -1.1111111111111107,
           -1.1111111111111107,
           -1.1111111111111107
          ],
          [
           1.1111111111111107,
           1.1111111111111107,
           1.1111111111111107,
           1.1111111111111107,
           1.1111111111111107,
           1.1111111111111107,
           1.1111111111111107,
           1.1111111111111107,
           1.1111111111111107,
           1.1111111111111107
          ],
          [
           3.333333333333334,
           3.333333333333334,
           3.333333333333334,
           3.333333333333334,
           3.333333333333334,
           3.333333333333334,
           3.333333333333334,
           3.333333333333334,
           3.333333333333334,
           3.333333333333334
          ],
          [
           5.555555555555557,
           5.555555555555557,
           5.555555555555557,
           5.555555555555557,
           5.555555555555557,
           5.555555555555557,
           5.555555555555557,
           5.555555555555557,
           5.555555555555557,
           5.555555555555557
          ],
          [
           7.777777777777779,
           7.777777777777779,
           7.777777777777779,
           7.777777777777779,
           7.777777777777779,
           7.777777777777779,
           7.777777777777779,
           7.777777777777779,
           7.777777777777779,
           7.777777777777779
          ],
          [
           10.0,
           10.0,
           10.0,
           10.0,
           10.0,
           10.0,
           10.0,
           10.0,
           10.0,
           10.0
          ]
         ],
         "z": [
          [
           -48.0,
           -36.888888888888886,
           -25.77777777777778,
           -14.666666666666664,
           -3.5555555555555536,
           7.555555555555554,
           18.66666666666667,
           29.777777777777786,
           40.88888888888889,
           52.0
          ],
          [
           -47.77777777777778,
           -36.666666666666664,
           -25.555555555555557,
           -14.444444444444443,
           -3.3333333333333313,
           7.777777777777776,
           18.888888888888893,
           30.000000000000007,
           41.111111111111114,
           52.22222222222222
          ],
          [
           -47.55555555555556,
           -36.44444444444444,
           -25.333333333333336,
           -14.222222222222221,
           -3.111111111111109,
           7.999999999999998,
           19.111111111111114,
           30.22222222222223,
           41.333333333333336,
           52.44444444444444
          ],
          [
           -47.333333333333336,
           -36.22222222222222,
           -25.11111111111111,
           -13.999999999999996,
           -2.8888888888888866,
           8.222222222222221,
           19.33333333333334,
           30.444444444444454,
           41.55555555555556,
           52.666666666666664
          ],
          [
           -47.111111111111114,
           -36.0,
           -24.88888888888889,
           -13.777777777777775,
           -2.6666666666666643,
           8.444444444444443,
           19.55555555555556,
           30.666666666666675,
           41.77777777777778,
           52.888888888888886
          ],
          [
           -46.888888888888886,
           -35.77777777777777,
           -24.666666666666668,
           -13.555555555555554,
           -2.444444444444443,
           8.666666666666664,
           19.777777777777782,
           30.888888888888896,
           42.00000000000001,
           53.111111111111114
          ],
          [
           -46.666666666666664,
           -35.55555555555555,
           -24.444444444444446,
           -13.333333333333332,
           -2.2222222222222205,
           8.888888888888886,
           20.000000000000004,
           31.111111111111118,
           42.22222222222223,
           53.333333333333336
          ],
          [
           -46.44444444444444,
           -35.33333333333333,
           -24.22222222222222,
           -13.111111111111107,
           -1.9999999999999982,
           9.111111111111109,
           20.22222222222223,
           31.333333333333343,
           42.44444444444445,
           53.55555555555556
          ],
          [
           -46.22222222222222,
           -35.11111111111111,
           -24.0,
           -12.888888888888886,
           -1.777777777777776,
           9.333333333333332,
           20.44444444444445,
           31.555555555555564,
           42.66666666666667,
           53.77777777777778
          ],
          [
           -46.0,
           -34.888888888888886,
           -23.77777777777778,
           -12.666666666666664,
           -1.5555555555555536,
           9.555555555555554,
           20.66666666666667,
           31.777777777777786,
           42.88888888888889,
           54.0
          ]
         ],
         "type": "surface"
        },
        {
         "marker": {
          "color": "black",
          "size": 2
         },
         "mode": "markers",
         "name": "Real (noise-less) Points",
         "x": [
          -1.6573930481063996,
          1.045226921246897,
          0.7172057903525122,
          -4.377328592199719,
          5.092987321391458,
          0.8400040165217213,
          -7.2260007653408165,
          5.786155132873054,
          -1.6992150595377797,
          -9.724503120067991,
          -1.1135454040642117,
          0.2641562082535458,
          6.9426228127583585,
          -6.404042621968733,
          -7.070298788735685,
          -1.5842467908611582,
          -5.494693030075222,
          1.3372597482651276,
          2.8019236645032137,
          -3.000212541581602,
          -5.015532934070219,
          3.054444283267731,
          -1.5215814329238224,
          -0.7211880408705973,
          -6.251277057813782,
          -4.936021287329472,
          -3.8020246881238107,
          -1.8191016709895784,
          -0.36873294563463155,
          1.8106628038899526,
          -5.848343547176327,
          -5.2744356982539315,
          -6.431495796553593,
          -8.761755697991767,
          2.673375218666152,
          -6.586755277312291,
          0.45782576966133526,
          8.931625655839422,
          -5.847251927720634,
          1.1834294501575453,
          1.0834871446241863,
          -9.27758805922781,
          1.6649432524451413,
          -5.674496850521454,
          -7.343451444921629,
          6.111215424233979,
          -4.413210720035741,
          -8.636877647187728,
          -0.7269701903866039,
          2.2869218754714105,
          -0.9855906686722467,
          9.274804838430796,
          -0.7577114608623639,
          0.36984459303893935,
          -6.1180313598692475,
          6.894135859373009,
          -8.053437276102706,
          8.578161386137836,
          6.553971032920181,
          -3.628651951311195,
          -2.9384742464098235,
          -3.756208690290112,
          -5.424728454282257,
          -6.549940280809247,
          -1.7783537293426992,
          -6.105573615657511,
          6.15352297742497,
          -9.514974391413078,
          4.618169954846376,
          2.559279029445456,
          4.424033506205129,
          5.060791249958285,
          -5.586545808335721,
          -5.104569817097198,
          9.62377691346444,
          6.411078042737593,
          -8.541605571650512,
          -9.72992436488233,
          -8.36582526997117,
          -8.745631772246387,
          -1.2047378023725415,
          -3.6598960478136133,
          9.746899351546908,
          2.163377894677609,
          -6.151039831843792,
          4.488145296945916,
          3.593333877665783,
          -0.16932230437784668,
          -0.5125045932143575,
          1.6307612594577527,
          6.5901614055801225,
          -8.555175392349666,
          -8.350196143728976,
          -5.3665904214959115,
          -5.924115169565334,
          5.568081398212891,
          3.216862822591205,
          -0.6338448305121975,
          -2.8330367251453588,
          1.7478353132097801
         ],
         "y": [
          0.4716289179360551,
          -4.295982385110357,
          8.994530215838537,
          -3.214073447650474,
          6.470542346711664,
          -5.3189182015629495,
          6.248313643925027,
          7.427524508726428,
          2.8479605509641797,
          -2.162734634719965,
          5.025309744502648,
          -0.6922404183210134,
          -5.938535579338213,
          9.497186478798113,
          4.943572851897722,
          2.152501944616274,
          7.412860512605835,
          9.37032307108256,
          0.6743012785509546,
          -2.987684883197719,
          -9.024158079794313,
          -7.927405116703541,
          1.0508381377245826,
          -5.456880713825331,
          7.306292778997477,
          -1.2415109587945583,
          -1.8904555504386504,
          3.5859116848244916,
          -2.7440031661694864,
          -2.3618327454397896,
          3.5919398693299733,
          -7.740361152620993,
          -0.859366935465605,
          -7.692566322732022,
          -8.883157548276166,
          -9.484508650539624,
          3.2335436222288454,
          -6.985088253108886,
          3.2520229817843216,
          -1.7379945289771932,
          -8.16155421585172,
          2.89757728779432,
          3.439373480689582,
          3.3057451045296027,
          -2.4484900513459547,
          -4.069488409567885,
          1.4686130438236749,
          8.423238624427395,
          3.9778291648103536,
          -2.1623922664555373,
          3.0669691911172077,
          -7.215209445911331,
          -6.435302258182496,
          7.903268827834054,
          8.87247784893097,
          -9.503588654816934,
          1.5886477138776733,
          4.087205525468123,
          -4.35688774367337,
          -4.383138304618257,
          -9.126544190186024,
          7.518760074709551,
          0.12801052552860526,
          5.653444624010685,
          8.458457824037144,
          -2.4832947493049424,
          -9.571314741747226,
          0.7777706420293367,
          -5.123725758317836,
          -5.05595554159137,
          3.3553781501817532,
          -5.450889751092339,
          -5.324788122347548,
          8.364397392326293,
          -0.37265478518497375,
          3.327249854690839,
          -4.7568740245264385,
          -4.269243717260684,
          6.104271765525262,
          -1.27496476831503,
          -4.774783180646298,
          3.455867142034405,
          5.8945447408054505,
          0.31985413820405917,
          1.0096524228354617,
          -8.523970963904828,
          5.751362575004835,
          -5.2512011423122456,
          2.484022811801154,
          -8.210859791194434,
          -4.322843264273313,
          9.789278425474503,
          -6.342894461996749,
          -5.8907276247075036,
          -6.590697234291049,
          4.966214456311045,
          1.4043179963256627,
          -1.7943713761897069,
          -3.2401468486703866,
          7.424528831784489
         ],
         "z": [
          -5.239802348738392,
          7.79653636772345,
          7.485481973346415,
          -19.208050305763642,
          29.111990841628458,
          6.668128262452312,
          -32.50517246231158,
          32.673528115237914,
          -5.2112792425924805,
          -45.83878906381196,
          -2.0651960458707936,
          4.2515569994356275,
          37.11926050585797,
          -28.070494461963854,
          -31.857136658488656,
          -4.705983759844163,
          -23.732179099115527,
          10.623331048433894,
          17.077048450371166,
          -12.299831196227782,
          -22.980080478330525,
          17.4794809046683,
          -4.502823350846654,
          -1.1516282757355194,
          -27.52575601116916,
          -21.80425753252682,
          -16.19916899566292,
          -5.736917186465442,
          0.8819349552098936,
          11.817130744905784,
          -25.88252374894864,
          -24.146214606531757,
          -29.24341567631452,
          -41.57803512223204,
          15.478560338503144,
          -30.88222725161542,
          5.612483210529561,
          46.959619453886226,
          -25.911057340424737,
          8.743347797890006,
          7.601280301535759,
          -43.098182567359615,
          11.668653610294665,
          -25.04190974215431,
          -33.962106229742744,
          33.149128280213105,
          -18.91919229579634,
          -39.3420643734959,
          -0.2370680354519843,
          14.218370150711499,
          -1.6212564242495127,
          48.65250324756285,
          -1.4320875301300688,
          5.6395498479781025,
          -26.70290901445314,
          36.52032043138335,
          -37.10832160912576,
          46.29952748323599,
          35.33416639023357,
          -15.5815735870178,
          -12.60502565106772,
          -15.029167443979606,
          -24.110841218858425,
          -29.184356941645163,
          -5.045922864309782,
          -27.77619755321805,
          32.81048341295013,
          -44.49709489286246,
          25.578477198400098,
          15.290799593068142,
          25.455705346043818,
          27.758867274682192,
          -25.46520785391336,
          -21.686409346253356,
          51.0816190888037,
          35.38811519915705,
          -40.183715260705206,
          -46.07654619613771,
          -38.21869917330332,
          -40.855655338063436,
          -3.5011673299273376,
          -14.953893524864625,
          52.32395123181509,
          13.848874887208451,
          -27.654233916935414,
          24.588329388339098,
          21.5418056458294,
          1.6282683638795419,
          0.6858793151083278,
          10.33272031816932,
          35.51852270147328,
          -38.79694911920088,
          -39.385270164844556,
          -24.422024869950306,
          -27.279645571255774,
          31.337028436695558,
          19.22474591258859,
          -0.34866129017995817,
          -11.489198310593832,
          12.48162944922735
         ],
         "type": "scatter3d"
        },
        {
         "marker": {
          "color": "red",
          "size": 2
         },
         "mode": "markers",
         "name": "Observed Points",
         "x": [
          -1.6573930481063996,
          1.045226921246897,
          0.7172057903525122,
          -4.377328592199719,
          5.092987321391458,
          0.8400040165217213,
          -7.2260007653408165,
          5.786155132873054,
          -1.6992150595377797,
          -9.724503120067991,
          -1.1135454040642117,
          0.2641562082535458,
          6.9426228127583585,
          -6.404042621968733,
          -7.070298788735685,
          -1.5842467908611582,
          -5.494693030075222,
          1.3372597482651276,
          2.8019236645032137,
          -3.000212541581602,
          -5.015532934070219,
          3.054444283267731,
          -1.5215814329238224,
          -0.7211880408705973,
          -6.251277057813782,
          -4.936021287329472,
          -3.8020246881238107,
          -1.8191016709895784,
          -0.36873294563463155,
          1.8106628038899526,
          -5.848343547176327,
          -5.2744356982539315,
          -6.431495796553593,
          -8.761755697991767,
          2.673375218666152,
          -6.586755277312291,
          0.45782576966133526,
          8.931625655839422,
          -5.847251927720634,
          1.1834294501575453,
          1.0834871446241863,
          -9.27758805922781,
          1.6649432524451413,
          -5.674496850521454,
          -7.343451444921629,
          6.111215424233979,
          -4.413210720035741,
          -8.636877647187728,
          -0.7269701903866039,
          2.2869218754714105,
          -0.9855906686722467,
          9.274804838430796,
          -0.7577114608623639,
          0.36984459303893935,
          -6.1180313598692475,
          6.894135859373009,
          -8.053437276102706,
          8.578161386137836,
          6.553971032920181,
          -3.628651951311195,
          -2.9384742464098235,
          -3.756208690290112,
          -5.424728454282257,
          -6.549940280809247,
          -1.7783537293426992,
          -6.105573615657511,
          6.15352297742497,
          -9.514974391413078,
          4.618169954846376,
          2.559279029445456,
          4.424033506205129,
          5.060791249958285,
          -5.586545808335721,
          -5.104569817097198,
          9.62377691346444,
          6.411078042737593,
          -8.541605571650512,
          -9.72992436488233,
          -8.36582526997117,
          -8.745631772246387,
          -1.2047378023725415,
          -3.6598960478136133,
          9.746899351546908,
          2.163377894677609,
          -6.151039831843792,
          4.488145296945916,
          3.593333877665783,
          -0.16932230437784668,
          -0.5125045932143575,
          1.6307612594577527,
          6.5901614055801225,
          -8.555175392349666,
          -8.350196143728976,
          -5.3665904214959115,
          -5.924115169565334,
          5.568081398212891,
          3.216862822591205,
          -0.6338448305121975,
          -2.8330367251453588,
          1.7478353132097801
         ],
         "y": [
          0.4716289179360551,
          -4.295982385110357,
          8.994530215838537,
          -3.214073447650474,
          6.470542346711664,
          -5.3189182015629495,
          6.248313643925027,
          7.427524508726428,
          2.8479605509641797,
          -2.162734634719965,
          5.025309744502648,
          -0.6922404183210134,
          -5.938535579338213,
          9.497186478798113,
          4.943572851897722,
          2.152501944616274,
          7.412860512605835,
          9.37032307108256,
          0.6743012785509546,
          -2.987684883197719,
          -9.024158079794313,
          -7.927405116703541,
          1.0508381377245826,
          -5.456880713825331,
          7.306292778997477,
          -1.2415109587945583,
          -1.8904555504386504,
          3.5859116848244916,
          -2.7440031661694864,
          -2.3618327454397896,
          3.5919398693299733,
          -7.740361152620993,
          -0.859366935465605,
          -7.692566322732022,
          -8.883157548276166,
          -9.484508650539624,
          3.2335436222288454,
          -6.985088253108886,
          3.2520229817843216,
          -1.7379945289771932,
          -8.16155421585172,
          2.89757728779432,
          3.439373480689582,
          3.3057451045296027,
          -2.4484900513459547,
          -4.069488409567885,
          1.4686130438236749,
          8.423238624427395,
          3.9778291648103536,
          -2.1623922664555373,
          3.0669691911172077,
          -7.215209445911331,
          -6.435302258182496,
          7.903268827834054,
          8.87247784893097,
          -9.503588654816934,
          1.5886477138776733,
          4.087205525468123,
          -4.35688774367337,
          -4.383138304618257,
          -9.126544190186024,
          7.518760074709551,
          0.12801052552860526,
          5.653444624010685,
          8.458457824037144,
          -2.4832947493049424,
          -9.571314741747226,
          0.7777706420293367,
          -5.123725758317836,
          -5.05595554159137,
          3.3553781501817532,
          -5.450889751092339,
          -5.324788122347548,
          8.364397392326293,
          -0.37265478518497375,
          3.327249854690839,
          -4.7568740245264385,
          -4.269243717260684,
          6.104271765525262,
          -1.27496476831503,
          -4.774783180646298,
          3.455867142034405,
          5.8945447408054505,
          0.31985413820405917,
          1.0096524228354617,
          -8.523970963904828,
          5.751362575004835,
          -5.2512011423122456,
          2.484022811801154,
          -8.210859791194434,
          -4.322843264273313,
          9.789278425474503,
          -6.342894461996749,
          -5.8907276247075036,
          -6.590697234291049,
          4.966214456311045,
          1.4043179963256627,
          -1.7943713761897069,
          -3.2401468486703866,
          7.424528831784489
         ],
         "z": [
          -24.358002020960612,
          -2.6918483540347484,
          -17.260885359428812,
          -69.24263665451411,
          14.123502360057008,
          23.212693454301146,
          -16.03862704241827,
          61.86791368286169,
          -56.1491523722827,
          -117.74075839742687,
          57.32958835439618,
          1.3423926250450258,
          52.39099069512754,
          -32.27279692444157,
          -61.91942173525826,
          37.866465427170695,
          -69.56581111743012,
          21.225407827172706,
          9.425656903922162,
          -10.6134835177355,
          -4.171623791427027,
          34.54495976746865,
          -24.51690152222845,
          -26.494443966727346,
          -41.95484336843384,
          -46.43073172378516,
          -15.246130629451782,
          -31.814895973178608,
          2.175556024056485,
          48.29976067704786,
          -60.35577041025853,
          -2.453391275875944,
          -10.2377359447649,
          -91.9419507260236,
          -13.635286862566545,
          -81.3409981941173,
          -26.248003000063715,
          58.293540294695774,
          10.760558284796144,
          26.012742692602274,
          37.548542756092345,
          -89.42290374382983,
          7.773431826224556,
          -34.42543104553321,
          -62.75558875860564,
          32.2290814597252,
          -58.656263074866956,
          -55.34096040585308,
          31.437588107640146,
          11.296562987244332,
          23.796087954967664,
          6.44851684756582,
          38.206534907719984,
          -3.204526317114432,
          -42.10795729839547,
          68.9937847837098,
          -42.37622247522596,
          82.90422003757904,
          23.04489160526788,
          -59.07104384250859,
          41.449660374344724,
          -8.64218755572423,
          -40.19682173096702,
          -31.26850198221388,
          17.186895365650336,
          -33.39072107409326,
          14.175633490284909,
          -28.851722141410924,
          32.71868257748848,
          25.35589100239484,
          0.6747883066551417,
          26.471259488312448,
          -15.068622700644603,
          35.883576905939776,
          71.53384297993158,
          50.46179977466011,
          -92.89776732521403,
          -44.71801636710863,
          -7.2883717879429675,
          -22.59727824251169,
          -32.574817934949415,
          25.84455814455609,
          104.84132640196384,
          37.8000876529464,
          -47.106690174975185,
          51.05952057523768,
          20.117735551999182,
          59.47136594146957,
          28.031540497143848,
          18.684682824814107,
          47.81785668244015,
          -46.79686831407403,
          -25.789215687061404,
          11.097108791407052,
          -0.59415572750164,
          54.0397525504864,
          7.295821120320166,
          -58.693237752296,
          -3.959727199211443,
          94.98193020639658
         ],
         "type": "scatter3d"
        },
        {
         "marker": {
          "color": "blue",
          "size": 2
         },
         "mode": "markers",
         "name": "Predicted Points",
         "x": [
          -1.6573930481063996,
          1.045226921246897,
          0.7172057903525122,
          -4.377328592199719,
          5.092987321391458,
          0.8400040165217213,
          -7.2260007653408165,
          5.786155132873054,
          -1.6992150595377797,
          -9.724503120067991,
          -1.1135454040642117,
          0.2641562082535458,
          6.9426228127583585,
          -6.404042621968733,
          -7.070298788735685,
          -1.5842467908611582,
          -5.494693030075222,
          1.3372597482651276,
          2.8019236645032137,
          -3.000212541581602,
          -5.015532934070219,
          3.054444283267731,
          -1.5215814329238224,
          -0.7211880408705973,
          -6.251277057813782,
          -4.936021287329472,
          -3.8020246881238107,
          -1.8191016709895784,
          -0.36873294563463155,
          1.8106628038899526,
          -5.848343547176327,
          -5.2744356982539315,
          -6.431495796553593,
          -8.761755697991767,
          2.673375218666152,
          -6.586755277312291,
          0.45782576966133526,
          8.931625655839422,
          -5.847251927720634,
          1.1834294501575453,
          1.0834871446241863,
          -9.27758805922781,
          1.6649432524451413,
          -5.674496850521454,
          -7.343451444921629,
          6.111215424233979,
          -4.413210720035741,
          -8.636877647187728,
          -0.7269701903866039,
          2.2869218754714105,
          -0.9855906686722467,
          9.274804838430796,
          -0.7577114608623639,
          0.36984459303893935,
          -6.1180313598692475,
          6.894135859373009,
          -8.053437276102706,
          8.578161386137836,
          6.553971032920181,
          -3.628651951311195,
          -2.9384742464098235,
          -3.756208690290112,
          -5.424728454282257,
          -6.549940280809247,
          -1.7783537293426992,
          -6.105573615657511,
          6.15352297742497,
          -9.514974391413078,
          4.618169954846376,
          2.559279029445456,
          4.424033506205129,
          5.060791249958285,
          -5.586545808335721,
          -5.104569817097198,
          9.62377691346444,
          6.411078042737593,
          -8.541605571650512,
          -9.72992436488233,
          -8.36582526997117,
          -8.745631772246387,
          -1.2047378023725415,
          -3.6598960478136133,
          9.746899351546908,
          2.163377894677609,
          -6.151039831843792,
          4.488145296945916,
          3.593333877665783,
          -0.16932230437784668,
          -0.5125045932143575,
          1.6307612594577527,
          6.5901614055801225,
          -8.555175392349666,
          -8.350196143728976,
          -5.3665904214959115,
          -5.924115169565334,
          5.568081398212891,
          3.216862822591205,
          -0.6338448305121975,
          -2.8330367251453588,
          1.7478353132097801
         ],
         "y": [
          0.4716289179360551,
          -4.295982385110357,
          8.994530215838537,
          -3.214073447650474,
          6.470542346711664,
          -5.3189182015629495,
          6.248313643925027,
          7.427524508726428,
          2.8479605509641797,
          -2.162734634719965,
          5.025309744502648,
          -0.6922404183210134,
          -5.938535579338213,
          9.497186478798113,
          4.943572851897722,
          2.152501944616274,
          7.412860512605835,
          9.37032307108256,
          0.6743012785509546,
          -2.987684883197719,
          -9.024158079794313,
          -7.927405116703541,
          1.0508381377245826,
          -5.456880713825331,
          7.306292778997477,
          -1.2415109587945583,
          -1.8904555504386504,
          3.5859116848244916,
          -2.7440031661694864,
          -2.3618327454397896,
          3.5919398693299733,
          -7.740361152620993,
          -0.859366935465605,
          -7.692566322732022,
          -8.883157548276166,
          -9.484508650539624,
          3.2335436222288454,
          -6.985088253108886,
          3.2520229817843216,
          -1.7379945289771932,
          -8.16155421585172,
          2.89757728779432,
          3.439373480689582,
          3.3057451045296027,
          -2.4484900513459547,
          -4.069488409567885,
          1.4686130438236749,
          8.423238624427395,
          3.9778291648103536,
          -2.1623922664555373,
          3.0669691911172077,
          -7.215209445911331,
          -6.435302258182496,
          7.903268827834054,
          8.87247784893097,
          -9.503588654816934,
          1.5886477138776733,
          4.087205525468123,
          -4.35688774367337,
          -4.383138304618257,
          -9.126544190186024,
          7.518760074709551,
          0.12801052552860526,
          5.653444624010685,
          8.458457824037144,
          -2.4832947493049424,
          -9.571314741747226,
          0.7777706420293367,
          -5.123725758317836,
          -5.05595554159137,
          3.3553781501817532,
          -5.450889751092339,
          -5.324788122347548,
          8.364397392326293,
          -0.37265478518497375,
          3.327249854690839,
          -4.7568740245264385,
          -4.269243717260684,
          6.104271765525262,
          -1.27496476831503,
          -4.774783180646298,
          3.455867142034405,
          5.8945447408054505,
          0.31985413820405917,
          1.0096524228354617,
          -8.523970963904828,
          5.751362575004835,
          -5.2512011423122456,
          2.484022811801154,
          -8.210859791194434,
          -4.322843264273313,
          9.789278425474503,
          -6.342894461996749,
          -5.8907276247075036,
          -6.590697234291049,
          4.966214456311045,
          1.4043179963256627,
          -1.7943713761897069,
          -3.2401468486703866,
          7.424528831784489
         ],
         "z": [
          -4.322238625245367,
          10.587544226698151,
          15.956834372948602,
          -24.118734281192836,
          43.03103887603767,
          8.673226723173187,
          -37.32842570664192,
          48.08611038386938,
          -3.2526139476671467,
          -58.35131823646445,
          1.7915103819266172,
          7.5355878907083875,
          48.06985427825053,
          -30.140213183551882,
          -37.05117485816969,
          -2.896576185721649,
          -25.39469534396691,
          20.207491374139188,
          24.835891007420518,
          -15.02168247520201,
          -31.5565746768409,
          21.622826438280093,
          -3.1105898318596026,
          -1.5727801442395393,
          -30.382534487215782,
          -26.64353001211442,
          -19.624259800418862,
          -3.6166877451312978,
          2.254845320840777,
          16.665146886670513,
          -29.85586440179927,
          -32.51780341760174,
          -36.16779071384342,
          -55.203838233167616,
          18.60115851605079,
          -42.049974989023426,
          11.014016573058456,
          60.4332617310758,
          -30.04071977699162,
          12.932263268652443,
          8.65368596546081,
          -52.5827787019917,
          18.992251925771118,
          -28.885221336890016,
          -43.0048305368705,
          43.71039965678433,
          -21.707928957652857,
          -45.289241791864995,
          3.717731480730129,
          19.879669718842305,
          1.518927739835374,
          62.53843975054946,
          -2.363213465074807,
          13.078179353668029,
          -28.630211504431674,
          45.74072425681382,
          -45.34905223192838,
          64.38411997274352,
          46.43177478380356,
          -19.90279869339649,
          -18.086446780813617,
          -14.012085453418948,
          -29.05306996384397,
          -33.26116932268776,
          -0.5995667348006837,
          -34.96214835335657,
          40.87884118079262,
          -55.32602596679479,
          33.39077539019783,
          20.019425682900504,
          36.91485922806422,
          36.08881898094279,
          -33.186412518442324,
          -22.316438160712327,
          68.67557968987155,
          49.84065854286686,
          -52.11208654923011,
          -59.57625979490673,
          -44.833485515206775,
          -51.474537518315245,
          -4.33694649109222,
          -15.679281843784626,
          73.01682688573676,
          20.476851052866177,
          -33.285659512314055,
          30.623661516831366,
          32.857597535464855,
          2.1376947847960643,
          4.270938523426606,
          12.190254855713516,
          46.68671016257089,
          -43.985653212830655,
          -51.76112218127973,
          -32.07344550714345,
          -36.09992379085959,
          45.27578558299767,
          27.950673634759635,
          1.0644595024829098,
          -14.075436759016785,
          21.782712643570846
         ],
         "type": "scatter3d"
        }
       ],
       "layout": {
        "scene": {
         "camera": {
          "eye": {
           "x": -1,
           "y": -2,
           "z": 0.5
          }
         },
         "xaxis": {
          "title": {
           "text": "Feature 1"
          }
         },
         "yaxis": {
          "title": {
           "text": "Feature 2"
          }
         },
         "zaxis": {
          "title": {
           "text": "Response"
          }
         }
        },
        "title": {
         "text": "$\\text{(4) Bivariate Linear Regression}$"
        },
        "template": {
         "data": {
          "barpolar": [
           {
            "marker": {
             "line": {
              "color": "white",
              "width": 0.5
             },
             "pattern": {
              "fillmode": "overlay",
              "size": 10,
              "solidity": 0.2
             }
            },
            "type": "barpolar"
           }
          ],
          "bar": [
           {
            "error_x": {
             "color": "rgb(36,36,36)"
            },
            "error_y": {
             "color": "rgb(36,36,36)"
            },
            "marker": {
             "line": {
              "color": "white",
              "width": 0.5
             },
             "pattern": {
              "fillmode": "overlay",
              "size": 10,
              "solidity": 0.2
             }
            },
            "type": "bar"
           }
          ],
          "carpet": [
           {
            "aaxis": {
             "endlinecolor": "rgb(36,36,36)",
             "gridcolor": "white",
             "linecolor": "white",
             "minorgridcolor": "white",
             "startlinecolor": "rgb(36,36,36)"
            },
            "baxis": {
             "endlinecolor": "rgb(36,36,36)",
             "gridcolor": "white",
             "linecolor": "white",
             "minorgridcolor": "white",
             "startlinecolor": "rgb(36,36,36)"
            },
            "type": "carpet"
           }
          ],
          "choropleth": [
           {
            "colorbar": {
             "outlinewidth": 1,
             "tickcolor": "rgb(36,36,36)",
             "ticks": "outside"
            },
            "type": "choropleth"
           }
          ],
          "contourcarpet": [
           {
            "colorbar": {
             "outlinewidth": 1,
             "tickcolor": "rgb(36,36,36)",
             "ticks": "outside"
            },
            "type": "contourcarpet"
           }
          ],
          "contour": [
           {
            "colorbar": {
             "outlinewidth": 1,
             "tickcolor": "rgb(36,36,36)",
             "ticks": "outside"
            },
            "colorscale": [
             [
              0.0,
              "#440154"
             ],
             [
              0.1111111111111111,
              "#482878"
             ],
             [
              0.2222222222222222,
              "#3e4989"
             ],
             [
              0.3333333333333333,
              "#31688e"
             ],
             [
              0.4444444444444444,
              "#26828e"
             ],
             [
              0.5555555555555556,
              "#1f9e89"
             ],
             [
              0.6666666666666666,
              "#35b779"
             ],
             [
              0.7777777777777778,
              "#6ece58"
             ],
             [
              0.8888888888888888,
              "#b5de2b"
             ],
             [
              1.0,
              "#fde725"
             ]
            ],
            "type": "contour"
           }
          ],
          "heatmapgl": [
           {
            "colorbar": {
             "outlinewidth": 1,
             "tickcolor": "rgb(36,36,36)",
             "ticks": "outside"
            },
            "colorscale": [
             [
              0.0,
              "#440154"
             ],
             [
              0.1111111111111111,
              "#482878"
             ],
             [
              0.2222222222222222,
              "#3e4989"
             ],
             [
              0.3333333333333333,
              "#31688e"
             ],
             [
              0.4444444444444444,
              "#26828e"
             ],
             [
              0.5555555555555556,
              "#1f9e89"
             ],
             [
              0.6666666666666666,
              "#35b779"
             ],
             [
              0.7777777777777778,
              "#6ece58"
             ],
             [
              0.8888888888888888,
              "#b5de2b"
             ],
             [
              1.0,
              "#fde725"
             ]
            ],
            "type": "heatmapgl"
           }
          ],
          "heatmap": [
           {
            "colorbar": {
             "outlinewidth": 1,
             "tickcolor": "rgb(36,36,36)",
             "ticks": "outside"
            },
            "colorscale": [
             [
              0.0,
              "#440154"
             ],
             [
              0.1111111111111111,
              "#482878"
             ],
             [
              0.2222222222222222,
              "#3e4989"
             ],
             [
              0.3333333333333333,
              "#31688e"
             ],
             [
              0.4444444444444444,
              "#26828e"
             ],
             [
              0.5555555555555556,
              "#1f9e89"
             ],
             [
              0.6666666666666666,
              "#35b779"
             ],
             [
              0.7777777777777778,
              "#6ece58"
             ],
             [
              0.8888888888888888,
              "#b5de2b"
             ],
             [
              1.0,
              "#fde725"
             ]
            ],
            "type": "heatmap"
           }
          ],
          "histogram2dcontour": [
           {
            "colorbar": {
             "outlinewidth": 1,
             "tickcolor": "rgb(36,36,36)",
             "ticks": "outside"
            },
            "colorscale": [
             [
              0.0,
              "#440154"
             ],
             [
              0.1111111111111111,
              "#482878"
             ],
             [
              0.2222222222222222,
              "#3e4989"
             ],
             [
              0.3333333333333333,
              "#31688e"
             ],
             [
              0.4444444444444444,
              "#26828e"
             ],
             [
              0.5555555555555556,
              "#1f9e89"
             ],
             [
              0.6666666666666666,
              "#35b779"
             ],
             [
              0.7777777777777778,
              "#6ece58"
             ],
             [
              0.8888888888888888,
              "#b5de2b"
             ],
             [
              1.0,
              "#fde725"
             ]
            ],
            "type": "histogram2dcontour"
           }
          ],
          "histogram2d": [
           {
            "colorbar": {
             "outlinewidth": 1,
             "tickcolor": "rgb(36,36,36)",
             "ticks": "outside"
            },
            "colorscale": [
             [
              0.0,
              "#440154"
             ],
             [
              0.1111111111111111,
              "#482878"
             ],
             [
              0.2222222222222222,
              "#3e4989"
             ],
             [
              0.3333333333333333,
              "#31688e"
             ],
             [
              0.4444444444444444,
              "#26828e"
             ],
             [
              0.5555555555555556,
              "#1f9e89"
             ],
             [
              0.6666666666666666,
              "#35b779"
             ],
             [
              0.7777777777777778,
              "#6ece58"
             ],
             [
              0.8888888888888888,
              "#b5de2b"
             ],
             [
              1.0,
              "#fde725"
             ]
            ],
            "type": "histogram2d"
           }
          ],
          "histogram": [
           {
            "marker": {
             "line": {
              "color": "white",
              "width": 0.6
             }
            },
            "type": "histogram"
           }
          ],
          "mesh3d": [
           {
            "colorbar": {
             "outlinewidth": 1,
             "tickcolor": "rgb(36,36,36)",
             "ticks": "outside"
            },
            "type": "mesh3d"
           }
          ],
          "parcoords": [
           {
            "line": {
             "colorbar": {
              "outlinewidth": 1,
              "tickcolor": "rgb(36,36,36)",
              "ticks": "outside"
             }
            },
            "type": "parcoords"
           }
          ],
          "pie": [
           {
            "automargin": true,
            "type": "pie"
           }
          ],
          "scatter3d": [
           {
            "line": {
             "colorbar": {
              "outlinewidth": 1,
              "tickcolor": "rgb(36,36,36)",
              "ticks": "outside"
             }
            },
            "marker": {
             "colorbar": {
              "outlinewidth": 1,
              "tickcolor": "rgb(36,36,36)",
              "ticks": "outside"
             }
            },
            "type": "scatter3d"
           }
          ],
          "scattercarpet": [
           {
            "marker": {
             "colorbar": {
              "outlinewidth": 1,
              "tickcolor": "rgb(36,36,36)",
              "ticks": "outside"
             }
            },
            "type": "scattercarpet"
           }
          ],
          "scattergeo": [
           {
            "marker": {
             "colorbar": {
              "outlinewidth": 1,
              "tickcolor": "rgb(36,36,36)",
              "ticks": "outside"
             }
            },
            "type": "scattergeo"
           }
          ],
          "scattergl": [
           {
            "marker": {
             "colorbar": {
              "outlinewidth": 1,
              "tickcolor": "rgb(36,36,36)",
              "ticks": "outside"
             }
            },
            "type": "scattergl"
           }
          ],
          "scattermapbox": [
           {
            "marker": {
             "colorbar": {
              "outlinewidth": 1,
              "tickcolor": "rgb(36,36,36)",
              "ticks": "outside"
             }
            },
            "type": "scattermapbox"
           }
          ],
          "scatterpolargl": [
           {
            "marker": {
             "colorbar": {
              "outlinewidth": 1,
              "tickcolor": "rgb(36,36,36)",
              "ticks": "outside"
             }
            },
            "type": "scatterpolargl"
           }
          ],
          "scatterpolar": [
           {
            "marker": {
             "colorbar": {
              "outlinewidth": 1,
              "tickcolor": "rgb(36,36,36)",
              "ticks": "outside"
             }
            },
            "type": "scatterpolar"
           }
          ],
          "scatter": [
           {
            "marker": {
             "colorbar": {
              "outlinewidth": 1,
              "tickcolor": "rgb(36,36,36)",
              "ticks": "outside"
             }
            },
            "type": "scatter"
           }
          ],
          "scatterternary": [
           {
            "marker": {
             "colorbar": {
              "outlinewidth": 1,
              "tickcolor": "rgb(36,36,36)",
              "ticks": "outside"
             }
            },
            "type": "scatterternary"
           }
          ],
          "surface": [
           {
            "colorbar": {
             "outlinewidth": 1,
             "tickcolor": "rgb(36,36,36)",
             "ticks": "outside"
            },
            "colorscale": [
             [
              0.0,
              "#440154"
             ],
             [
              0.1111111111111111,
              "#482878"
             ],
             [
              0.2222222222222222,
              "#3e4989"
             ],
             [
              0.3333333333333333,
              "#31688e"
             ],
             [
              0.4444444444444444,
              "#26828e"
             ],
             [
              0.5555555555555556,
              "#1f9e89"
             ],
             [
              0.6666666666666666,
              "#35b779"
             ],
             [
              0.7777777777777778,
              "#6ece58"
             ],
             [
              0.8888888888888888,
              "#b5de2b"
             ],
             [
              1.0,
              "#fde725"
             ]
            ],
            "type": "surface"
           }
          ],
          "table": [
           {
            "cells": {
             "fill": {
              "color": "rgb(237,237,237)"
             },
             "line": {
              "color": "white"
             }
            },
            "header": {
             "fill": {
              "color": "rgb(217,217,217)"
             },
             "line": {
              "color": "white"
             }
            },
            "type": "table"
           }
          ]
         },
         "layout": {
          "annotationdefaults": {
           "arrowhead": 0,
           "arrowwidth": 1
          },
          "autotypenumbers": "strict",
          "coloraxis": {
           "colorbar": {
            "outlinewidth": 1,
            "tickcolor": "rgb(36,36,36)",
            "ticks": "outside"
           }
          },
          "colorscale": {
           "diverging": [
            [
             0.0,
             "rgb(103,0,31)"
            ],
            [
             0.1,
             "rgb(178,24,43)"
            ],
            [
             0.2,
             "rgb(214,96,77)"
            ],
            [
             0.3,
             "rgb(244,165,130)"
            ],
            [
             0.4,
             "rgb(253,219,199)"
            ],
            [
             0.5,
             "rgb(247,247,247)"
            ],
            [
             0.6,
             "rgb(209,229,240)"
            ],
            [
             0.7,
             "rgb(146,197,222)"
            ],
            [
             0.8,
             "rgb(67,147,195)"
            ],
            [
             0.9,
             "rgb(33,102,172)"
            ],
            [
             1.0,
             "rgb(5,48,97)"
            ]
           ],
           "sequential": [
            [
             0.0,
             "#440154"
            ],
            [
             0.1111111111111111,
             "#482878"
            ],
            [
             0.2222222222222222,
             "#3e4989"
            ],
            [
             0.3333333333333333,
             "#31688e"
            ],
            [
             0.4444444444444444,
             "#26828e"
            ],
            [
             0.5555555555555556,
             "#1f9e89"
            ],
            [
             0.6666666666666666,
             "#35b779"
            ],
            [
             0.7777777777777778,
             "#6ece58"
            ],
            [
             0.8888888888888888,
             "#b5de2b"
            ],
            [
             1.0,
             "#fde725"
            ]
           ],
           "sequentialminus": [
            [
             0.0,
             "#440154"
            ],
            [
             0.1111111111111111,
             "#482878"
            ],
            [
             0.2222222222222222,
             "#3e4989"
            ],
            [
             0.3333333333333333,
             "#31688e"
            ],
            [
             0.4444444444444444,
             "#26828e"
            ],
            [
             0.5555555555555556,
             "#1f9e89"
            ],
            [
             0.6666666666666666,
             "#35b779"
            ],
            [
             0.7777777777777778,
             "#6ece58"
            ],
            [
             0.8888888888888888,
             "#b5de2b"
            ],
            [
             1.0,
             "#fde725"
            ]
           ]
          },
          "colorway": [
           "#1F77B4",
           "#FF7F0E",
           "#2CA02C",
           "#D62728",
           "#9467BD",
           "#8C564B",
           "#E377C2",
           "#7F7F7F",
           "#BCBD22",
           "#17BECF"
          ],
          "font": {
           "color": "rgb(36,36,36)"
          },
          "geo": {
           "bgcolor": "white",
           "lakecolor": "white",
           "landcolor": "white",
           "showlakes": true,
           "showland": true,
           "subunitcolor": "white"
          },
          "hoverlabel": {
           "align": "left"
          },
          "hovermode": "closest",
          "mapbox": {
           "style": "light"
          },
          "paper_bgcolor": "white",
          "plot_bgcolor": "white",
          "polar": {
           "angularaxis": {
            "gridcolor": "rgb(232,232,232)",
            "linecolor": "rgb(36,36,36)",
            "showgrid": false,
            "showline": true,
            "ticks": "outside"
           },
           "bgcolor": "white",
           "radialaxis": {
            "gridcolor": "rgb(232,232,232)",
            "linecolor": "rgb(36,36,36)",
            "showgrid": false,
            "showline": true,
            "ticks": "outside"
           }
          },
          "scene": {
           "xaxis": {
            "backgroundcolor": "white",
            "gridcolor": "rgb(232,232,232)",
            "gridwidth": 2,
            "linecolor": "rgb(36,36,36)",
            "showbackground": true,
            "showgrid": false,
            "showline": true,
            "ticks": "outside",
            "zeroline": false,
            "zerolinecolor": "rgb(36,36,36)"
           },
           "yaxis": {
            "backgroundcolor": "white",
            "gridcolor": "rgb(232,232,232)",
            "gridwidth": 2,
            "linecolor": "rgb(36,36,36)",
            "showbackground": true,
            "showgrid": false,
            "showline": true,
            "ticks": "outside",
            "zeroline": false,
            "zerolinecolor": "rgb(36,36,36)"
           },
           "zaxis": {
            "backgroundcolor": "white",
            "gridcolor": "rgb(232,232,232)",
            "gridwidth": 2,
            "linecolor": "rgb(36,36,36)",
            "showbackground": true,
            "showgrid": false,
            "showline": true,
            "ticks": "outside",
            "zeroline": false,
            "zerolinecolor": "rgb(36,36,36)"
           }
          },
          "shapedefaults": {
           "fillcolor": "black",
           "line": {
            "width": 0
           },
           "opacity": 0.3
          },
          "ternary": {
           "aaxis": {
            "gridcolor": "rgb(232,232,232)",
            "linecolor": "rgb(36,36,36)",
            "showgrid": false,
            "showline": true,
            "ticks": "outside"
           },
           "baxis": {
            "gridcolor": "rgb(232,232,232)",
            "linecolor": "rgb(36,36,36)",
            "showgrid": false,
            "showline": true,
            "ticks": "outside"
           },
           "bgcolor": "white",
           "caxis": {
            "gridcolor": "rgb(232,232,232)",
            "linecolor": "rgb(36,36,36)",
            "showgrid": false,
            "showline": true,
            "ticks": "outside"
           }
          },
          "title": {
           "x": 0.05
          },
          "xaxis": {
           "automargin": true,
           "gridcolor": "rgb(232,232,232)",
           "linecolor": "rgb(36,36,36)",
           "showgrid": false,
           "showline": true,
           "ticks": "outside",
           "title": {
            "standoff": 15
           },
           "zeroline": false,
           "zerolinecolor": "rgb(36,36,36)"
          },
          "yaxis": {
           "automargin": true,
           "gridcolor": "rgb(232,232,232)",
           "linecolor": "rgb(36,36,36)",
           "showgrid": false,
           "showline": true,
           "ticks": "outside",
           "title": {
            "standoff": 15
           },
           "zeroline": false,
           "zerolinecolor": "rgb(36,36,36)"
          },
          "margin": {
           "b": 0,
           "l": 20,
           "r": 20,
           "t": 40
          }
         }
        }
       },
       "config": {
        "plotlyServerURL": "https://plot.ly"
       }
      },
      "text/html": "<div>                            <div id=\"a51b803b-adc8-4286-b0dd-afedb5937632\" class=\"plotly-graph-div\" style=\"height:525px; width:100%;\"></div>            <script type=\"text/javascript\">                require([\"plotly\"], function(Plotly) {                    window.PLOTLYENV=window.PLOTLYENV || {};                                    if (document.getElementById(\"a51b803b-adc8-4286-b0dd-afedb5937632\")) {                    Plotly.newPlot(                        \"a51b803b-adc8-4286-b0dd-afedb5937632\",                        [{\"opacity\":0.5,\"showscale\":false,\"x\":[[-10.0,-7.777777777777778,-5.555555555555555,-3.333333333333333,-1.1111111111111107,1.1111111111111107,3.333333333333334,5.555555555555557,7.777777777777779,10.0],[-10.0,-7.777777777777778,-5.555555555555555,-3.333333333333333,-1.1111111111111107,1.1111111111111107,3.333333333333334,5.555555555555557,7.777777777777779,10.0],[-10.0,-7.777777777777778,-5.555555555555555,-3.333333333333333,-1.1111111111111107,1.1111111111111107,3.333333333333334,5.555555555555557,7.777777777777779,10.0],[-10.0,-7.777777777777778,-5.555555555555555,-3.333333333333333,-1.1111111111111107,1.1111111111111107,3.333333333333334,5.555555555555557,7.777777777777779,10.0],[-10.0,-7.777777777777778,-5.555555555555555,-3.333333333333333,-1.1111111111111107,1.1111111111111107,3.333333333333334,5.555555555555557,7.777777777777779,10.0],[-10.0,-7.777777777777778,-5.555555555555555,-3.333333333333333,-1.1111111111111107,1.1111111111111107,3.333333333333334,5.555555555555557,7.777777777777779,10.0],[-10.0,-7.777777777777778,-5.555555555555555,-3.333333333333333,-1.1111111111111107,1.1111111111111107,3.333333333333334,5.555555555555557,7.777777777777779,10.0],[-10.0,-7.777777777777778,-5.555555555555555,-3.333333333333333,-1.1111111111111107,1.1111111111111107,3.333333333333334,5.555555555555557,7.777777777777779,10.0],[-10.0,-7.777777777777778,-5.555555555555555,-3.333333333333333,-1.1111111111111107,1.1111111111111107,3.333333333333334,5.555555555555557,7.777777777777779,10.0],[-10.0,-7.777777777777778,-5.555555555555555,-3.333333333333333,-1.1111111111111107,1.1111111111111107,3.333333333333334,5.555555555555557,7.777777777777779,10.0]],\"y\":[[-10.0,-10.0,-10.0,-10.0,-10.0,-10.0,-10.0,-10.0,-10.0,-10.0],[-7.777777777777778,-7.777777777777778,-7.777777777777778,-7.777777777777778,-7.777777777777778,-7.777777777777778,-7.777777777777778,-7.777777777777778,-7.777777777777778,-7.777777777777778],[-5.555555555555555,-5.555555555555555,-5.555555555555555,-5.555555555555555,-5.555555555555555,-5.555555555555555,-5.555555555555555,-5.555555555555555,-5.555555555555555,-5.555555555555555],[-3.333333333333333,-3.333333333333333,-3.333333333333333,-3.333333333333333,-3.333333333333333,-3.333333333333333,-3.333333333333333,-3.333333333333333,-3.333333333333333,-3.333333333333333],[-1.1111111111111107,-1.1111111111111107,-1.1111111111111107,-1.1111111111111107,-1.1111111111111107,-1.1111111111111107,-1.1111111111111107,-1.1111111111111107,-1.1111111111111107,-1.1111111111111107],[1.1111111111111107,1.1111111111111107,1.1111111111111107,1.1111111111111107,1.1111111111111107,1.1111111111111107,1.1111111111111107,1.1111111111111107,1.1111111111111107,1.1111111111111107],[3.333333333333334,3.333333333333334,3.333333333333334,3.333333333333334,3.333333333333334,3.333333333333334,3.333333333333334,3.333333333333334,3.333333333333334,3.333333333333334],[5.555555555555557,5.555555555555557,5.555555555555557,5.555555555555557,5.555555555555557,5.555555555555557,5.555555555555557,5.555555555555557,5.555555555555557,5.555555555555557],[7.777777777777779,7.777777777777779,7.777777777777779,7.777777777777779,7.777777777777779,7.777777777777779,7.777777777777779,7.777777777777779,7.777777777777779,7.777777777777779],[10.0,10.0,10.0,10.0,10.0,10.0,10.0,10.0,10.0,10.0]],\"z\":[[-48.0,-36.888888888888886,-25.77777777777778,-14.666666666666664,-3.5555555555555536,7.555555555555554,18.66666666666667,29.777777777777786,40.88888888888889,52.0],[-47.77777777777778,-36.666666666666664,-25.555555555555557,-14.444444444444443,-3.3333333333333313,7.777777777777776,18.888888888888893,30.000000000000007,41.111111111111114,52.22222222222222],[-47.55555555555556,-36.44444444444444,-25.333333333333336,-14.222222222222221,-3.111111111111109,7.999999999999998,19.111111111111114,30.22222222222223,41.333333333333336,52.44444444444444],[-47.333333333333336,-36.22222222222222,-25.11111111111111,-13.999999999999996,-2.8888888888888866,8.222222222222221,19.33333333333334,30.444444444444454,41.55555555555556,52.666666666666664],[-47.111111111111114,-36.0,-24.88888888888889,-13.777777777777775,-2.6666666666666643,8.444444444444443,19.55555555555556,30.666666666666675,41.77777777777778,52.888888888888886],[-46.888888888888886,-35.77777777777777,-24.666666666666668,-13.555555555555554,-2.444444444444443,8.666666666666664,19.777777777777782,30.888888888888896,42.00000000000001,53.111111111111114],[-46.666666666666664,-35.55555555555555,-24.444444444444446,-13.333333333333332,-2.2222222222222205,8.888888888888886,20.000000000000004,31.111111111111118,42.22222222222223,53.333333333333336],[-46.44444444444444,-35.33333333333333,-24.22222222222222,-13.111111111111107,-1.9999999999999982,9.111111111111109,20.22222222222223,31.333333333333343,42.44444444444445,53.55555555555556],[-46.22222222222222,-35.11111111111111,-24.0,-12.888888888888886,-1.777777777777776,9.333333333333332,20.44444444444445,31.555555555555564,42.66666666666667,53.77777777777778],[-46.0,-34.888888888888886,-23.77777777777778,-12.666666666666664,-1.5555555555555536,9.555555555555554,20.66666666666667,31.777777777777786,42.88888888888889,54.0]],\"type\":\"surface\"},{\"marker\":{\"color\":\"black\",\"size\":2},\"mode\":\"markers\",\"name\":\"Real (noise-less) Points\",\"x\":[-1.6573930481063996,1.045226921246897,0.7172057903525122,-4.377328592199719,5.092987321391458,0.8400040165217213,-7.2260007653408165,5.786155132873054,-1.6992150595377797,-9.724503120067991,-1.1135454040642117,0.2641562082535458,6.9426228127583585,-6.404042621968733,-7.070298788735685,-1.5842467908611582,-5.494693030075222,1.3372597482651276,2.8019236645032137,-3.000212541581602,-5.015532934070219,3.054444283267731,-1.5215814329238224,-0.7211880408705973,-6.251277057813782,-4.936021287329472,-3.8020246881238107,-1.8191016709895784,-0.36873294563463155,1.8106628038899526,-5.848343547176327,-5.2744356982539315,-6.431495796553593,-8.761755697991767,2.673375218666152,-6.586755277312291,0.45782576966133526,8.931625655839422,-5.847251927720634,1.1834294501575453,1.0834871446241863,-9.27758805922781,1.6649432524451413,-5.674496850521454,-7.343451444921629,6.111215424233979,-4.413210720035741,-8.636877647187728,-0.7269701903866039,2.2869218754714105,-0.9855906686722467,9.274804838430796,-0.7577114608623639,0.36984459303893935,-6.1180313598692475,6.894135859373009,-8.053437276102706,8.578161386137836,6.553971032920181,-3.628651951311195,-2.9384742464098235,-3.756208690290112,-5.424728454282257,-6.549940280809247,-1.7783537293426992,-6.105573615657511,6.15352297742497,-9.514974391413078,4.618169954846376,2.559279029445456,4.424033506205129,5.060791249958285,-5.586545808335721,-5.104569817097198,9.62377691346444,6.411078042737593,-8.541605571650512,-9.72992436488233,-8.36582526997117,-8.745631772246387,-1.2047378023725415,-3.6598960478136133,9.746899351546908,2.163377894677609,-6.151039831843792,4.488145296945916,3.593333877665783,-0.16932230437784668,-0.5125045932143575,1.6307612594577527,6.5901614055801225,-8.555175392349666,-8.350196143728976,-5.3665904214959115,-5.924115169565334,5.568081398212891,3.216862822591205,-0.6338448305121975,-2.8330367251453588,1.7478353132097801],\"y\":[0.4716289179360551,-4.295982385110357,8.994530215838537,-3.214073447650474,6.470542346711664,-5.3189182015629495,6.248313643925027,7.427524508726428,2.8479605509641797,-2.162734634719965,5.025309744502648,-0.6922404183210134,-5.938535579338213,9.497186478798113,4.943572851897722,2.152501944616274,7.412860512605835,9.37032307108256,0.6743012785509546,-2.987684883197719,-9.024158079794313,-7.927405116703541,1.0508381377245826,-5.456880713825331,7.306292778997477,-1.2415109587945583,-1.8904555504386504,3.5859116848244916,-2.7440031661694864,-2.3618327454397896,3.5919398693299733,-7.740361152620993,-0.859366935465605,-7.692566322732022,-8.883157548276166,-9.484508650539624,3.2335436222288454,-6.985088253108886,3.2520229817843216,-1.7379945289771932,-8.16155421585172,2.89757728779432,3.439373480689582,3.3057451045296027,-2.4484900513459547,-4.069488409567885,1.4686130438236749,8.423238624427395,3.9778291648103536,-2.1623922664555373,3.0669691911172077,-7.215209445911331,-6.435302258182496,7.903268827834054,8.87247784893097,-9.503588654816934,1.5886477138776733,4.087205525468123,-4.35688774367337,-4.383138304618257,-9.126544190186024,7.518760074709551,0.12801052552860526,5.653444624010685,8.458457824037144,-2.4832947493049424,-9.571314741747226,0.7777706420293367,-5.123725758317836,-5.05595554159137,3.3553781501817532,-5.450889751092339,-5.324788122347548,8.364397392326293,-0.37265478518497375,3.327249854690839,-4.7568740245264385,-4.269243717260684,6.104271765525262,-1.27496476831503,-4.774783180646298,3.455867142034405,5.8945447408054505,0.31985413820405917,1.0096524228354617,-8.523970963904828,5.751362575004835,-5.2512011423122456,2.484022811801154,-8.210859791194434,-4.322843264273313,9.789278425474503,-6.342894461996749,-5.8907276247075036,-6.590697234291049,4.966214456311045,1.4043179963256627,-1.7943713761897069,-3.2401468486703866,7.424528831784489],\"z\":[-5.239802348738392,7.79653636772345,7.485481973346415,-19.208050305763642,29.111990841628458,6.668128262452312,-32.50517246231158,32.673528115237914,-5.2112792425924805,-45.83878906381196,-2.0651960458707936,4.2515569994356275,37.11926050585797,-28.070494461963854,-31.857136658488656,-4.705983759844163,-23.732179099115527,10.623331048433894,17.077048450371166,-12.299831196227782,-22.980080478330525,17.4794809046683,-4.502823350846654,-1.1516282757355194,-27.52575601116916,-21.80425753252682,-16.19916899566292,-5.736917186465442,0.8819349552098936,11.817130744905784,-25.88252374894864,-24.146214606531757,-29.24341567631452,-41.57803512223204,15.478560338503144,-30.88222725161542,5.612483210529561,46.959619453886226,-25.911057340424737,8.743347797890006,7.601280301535759,-43.098182567359615,11.668653610294665,-25.04190974215431,-33.962106229742744,33.149128280213105,-18.91919229579634,-39.3420643734959,-0.2370680354519843,14.218370150711499,-1.6212564242495127,48.65250324756285,-1.4320875301300688,5.6395498479781025,-26.70290901445314,36.52032043138335,-37.10832160912576,46.29952748323599,35.33416639023357,-15.5815735870178,-12.60502565106772,-15.029167443979606,-24.110841218858425,-29.184356941645163,-5.045922864309782,-27.77619755321805,32.81048341295013,-44.49709489286246,25.578477198400098,15.290799593068142,25.455705346043818,27.758867274682192,-25.46520785391336,-21.686409346253356,51.0816190888037,35.38811519915705,-40.183715260705206,-46.07654619613771,-38.21869917330332,-40.855655338063436,-3.5011673299273376,-14.953893524864625,52.32395123181509,13.848874887208451,-27.654233916935414,24.588329388339098,21.5418056458294,1.6282683638795419,0.6858793151083278,10.33272031816932,35.51852270147328,-38.79694911920088,-39.385270164844556,-24.422024869950306,-27.279645571255774,31.337028436695558,19.22474591258859,-0.34866129017995817,-11.489198310593832,12.48162944922735],\"type\":\"scatter3d\"},{\"marker\":{\"color\":\"red\",\"size\":2},\"mode\":\"markers\",\"name\":\"Observed Points\",\"x\":[-1.6573930481063996,1.045226921246897,0.7172057903525122,-4.377328592199719,5.092987321391458,0.8400040165217213,-7.2260007653408165,5.786155132873054,-1.6992150595377797,-9.724503120067991,-1.1135454040642117,0.2641562082535458,6.9426228127583585,-6.404042621968733,-7.070298788735685,-1.5842467908611582,-5.494693030075222,1.3372597482651276,2.8019236645032137,-3.000212541581602,-5.015532934070219,3.054444283267731,-1.5215814329238224,-0.7211880408705973,-6.251277057813782,-4.936021287329472,-3.8020246881238107,-1.8191016709895784,-0.36873294563463155,1.8106628038899526,-5.848343547176327,-5.2744356982539315,-6.431495796553593,-8.761755697991767,2.673375218666152,-6.586755277312291,0.45782576966133526,8.931625655839422,-5.847251927720634,1.1834294501575453,1.0834871446241863,-9.27758805922781,1.6649432524451413,-5.674496850521454,-7.343451444921629,6.111215424233979,-4.413210720035741,-8.636877647187728,-0.7269701903866039,2.2869218754714105,-0.9855906686722467,9.274804838430796,-0.7577114608623639,0.36984459303893935,-6.1180313598692475,6.894135859373009,-8.053437276102706,8.578161386137836,6.553971032920181,-3.628651951311195,-2.9384742464098235,-3.756208690290112,-5.424728454282257,-6.549940280809247,-1.7783537293426992,-6.105573615657511,6.15352297742497,-9.514974391413078,4.618169954846376,2.559279029445456,4.424033506205129,5.060791249958285,-5.586545808335721,-5.104569817097198,9.62377691346444,6.411078042737593,-8.541605571650512,-9.72992436488233,-8.36582526997117,-8.745631772246387,-1.2047378023725415,-3.6598960478136133,9.746899351546908,2.163377894677609,-6.151039831843792,4.488145296945916,3.593333877665783,-0.16932230437784668,-0.5125045932143575,1.6307612594577527,6.5901614055801225,-8.555175392349666,-8.350196143728976,-5.3665904214959115,-5.924115169565334,5.568081398212891,3.216862822591205,-0.6338448305121975,-2.8330367251453588,1.7478353132097801],\"y\":[0.4716289179360551,-4.295982385110357,8.994530215838537,-3.214073447650474,6.470542346711664,-5.3189182015629495,6.248313643925027,7.427524508726428,2.8479605509641797,-2.162734634719965,5.025309744502648,-0.6922404183210134,-5.938535579338213,9.497186478798113,4.943572851897722,2.152501944616274,7.412860512605835,9.37032307108256,0.6743012785509546,-2.987684883197719,-9.024158079794313,-7.927405116703541,1.0508381377245826,-5.456880713825331,7.306292778997477,-1.2415109587945583,-1.8904555504386504,3.5859116848244916,-2.7440031661694864,-2.3618327454397896,3.5919398693299733,-7.740361152620993,-0.859366935465605,-7.692566322732022,-8.883157548276166,-9.484508650539624,3.2335436222288454,-6.985088253108886,3.2520229817843216,-1.7379945289771932,-8.16155421585172,2.89757728779432,3.439373480689582,3.3057451045296027,-2.4484900513459547,-4.069488409567885,1.4686130438236749,8.423238624427395,3.9778291648103536,-2.1623922664555373,3.0669691911172077,-7.215209445911331,-6.435302258182496,7.903268827834054,8.87247784893097,-9.503588654816934,1.5886477138776733,4.087205525468123,-4.35688774367337,-4.383138304618257,-9.126544190186024,7.518760074709551,0.12801052552860526,5.653444624010685,8.458457824037144,-2.4832947493049424,-9.571314741747226,0.7777706420293367,-5.123725758317836,-5.05595554159137,3.3553781501817532,-5.450889751092339,-5.324788122347548,8.364397392326293,-0.37265478518497375,3.327249854690839,-4.7568740245264385,-4.269243717260684,6.104271765525262,-1.27496476831503,-4.774783180646298,3.455867142034405,5.8945447408054505,0.31985413820405917,1.0096524228354617,-8.523970963904828,5.751362575004835,-5.2512011423122456,2.484022811801154,-8.210859791194434,-4.322843264273313,9.789278425474503,-6.342894461996749,-5.8907276247075036,-6.590697234291049,4.966214456311045,1.4043179963256627,-1.7943713761897069,-3.2401468486703866,7.424528831784489],\"z\":[-24.358002020960612,-2.6918483540347484,-17.260885359428812,-69.24263665451411,14.123502360057008,23.212693454301146,-16.03862704241827,61.86791368286169,-56.1491523722827,-117.74075839742687,57.32958835439618,1.3423926250450258,52.39099069512754,-32.27279692444157,-61.91942173525826,37.866465427170695,-69.56581111743012,21.225407827172706,9.425656903922162,-10.6134835177355,-4.171623791427027,34.54495976746865,-24.51690152222845,-26.494443966727346,-41.95484336843384,-46.43073172378516,-15.246130629451782,-31.814895973178608,2.175556024056485,48.29976067704786,-60.35577041025853,-2.453391275875944,-10.2377359447649,-91.9419507260236,-13.635286862566545,-81.3409981941173,-26.248003000063715,58.293540294695774,10.760558284796144,26.012742692602274,37.548542756092345,-89.42290374382983,7.773431826224556,-34.42543104553321,-62.75558875860564,32.2290814597252,-58.656263074866956,-55.34096040585308,31.437588107640146,11.296562987244332,23.796087954967664,6.44851684756582,38.206534907719984,-3.204526317114432,-42.10795729839547,68.9937847837098,-42.37622247522596,82.90422003757904,23.04489160526788,-59.07104384250859,41.449660374344724,-8.64218755572423,-40.19682173096702,-31.26850198221388,17.186895365650336,-33.39072107409326,14.175633490284909,-28.851722141410924,32.71868257748848,25.35589100239484,0.6747883066551417,26.471259488312448,-15.068622700644603,35.883576905939776,71.53384297993158,50.46179977466011,-92.89776732521403,-44.71801636710863,-7.2883717879429675,-22.59727824251169,-32.574817934949415,25.84455814455609,104.84132640196384,37.8000876529464,-47.106690174975185,51.05952057523768,20.117735551999182,59.47136594146957,28.031540497143848,18.684682824814107,47.81785668244015,-46.79686831407403,-25.789215687061404,11.097108791407052,-0.59415572750164,54.0397525504864,7.295821120320166,-58.693237752296,-3.959727199211443,94.98193020639658],\"type\":\"scatter3d\"},{\"marker\":{\"color\":\"blue\",\"size\":2},\"mode\":\"markers\",\"name\":\"Predicted Points\",\"x\":[-1.6573930481063996,1.045226921246897,0.7172057903525122,-4.377328592199719,5.092987321391458,0.8400040165217213,-7.2260007653408165,5.786155132873054,-1.6992150595377797,-9.724503120067991,-1.1135454040642117,0.2641562082535458,6.9426228127583585,-6.404042621968733,-7.070298788735685,-1.5842467908611582,-5.494693030075222,1.3372597482651276,2.8019236645032137,-3.000212541581602,-5.015532934070219,3.054444283267731,-1.5215814329238224,-0.7211880408705973,-6.251277057813782,-4.936021287329472,-3.8020246881238107,-1.8191016709895784,-0.36873294563463155,1.8106628038899526,-5.848343547176327,-5.2744356982539315,-6.431495796553593,-8.761755697991767,2.673375218666152,-6.586755277312291,0.45782576966133526,8.931625655839422,-5.847251927720634,1.1834294501575453,1.0834871446241863,-9.27758805922781,1.6649432524451413,-5.674496850521454,-7.343451444921629,6.111215424233979,-4.413210720035741,-8.636877647187728,-0.7269701903866039,2.2869218754714105,-0.9855906686722467,9.274804838430796,-0.7577114608623639,0.36984459303893935,-6.1180313598692475,6.894135859373009,-8.053437276102706,8.578161386137836,6.553971032920181,-3.628651951311195,-2.9384742464098235,-3.756208690290112,-5.424728454282257,-6.549940280809247,-1.7783537293426992,-6.105573615657511,6.15352297742497,-9.514974391413078,4.618169954846376,2.559279029445456,4.424033506205129,5.060791249958285,-5.586545808335721,-5.104569817097198,9.62377691346444,6.411078042737593,-8.541605571650512,-9.72992436488233,-8.36582526997117,-8.745631772246387,-1.2047378023725415,-3.6598960478136133,9.746899351546908,2.163377894677609,-6.151039831843792,4.488145296945916,3.593333877665783,-0.16932230437784668,-0.5125045932143575,1.6307612594577527,6.5901614055801225,-8.555175392349666,-8.350196143728976,-5.3665904214959115,-5.924115169565334,5.568081398212891,3.216862822591205,-0.6338448305121975,-2.8330367251453588,1.7478353132097801],\"y\":[0.4716289179360551,-4.295982385110357,8.994530215838537,-3.214073447650474,6.470542346711664,-5.3189182015629495,6.248313643925027,7.427524508726428,2.8479605509641797,-2.162734634719965,5.025309744502648,-0.6922404183210134,-5.938535579338213,9.497186478798113,4.943572851897722,2.152501944616274,7.412860512605835,9.37032307108256,0.6743012785509546,-2.987684883197719,-9.024158079794313,-7.927405116703541,1.0508381377245826,-5.456880713825331,7.306292778997477,-1.2415109587945583,-1.8904555504386504,3.5859116848244916,-2.7440031661694864,-2.3618327454397896,3.5919398693299733,-7.740361152620993,-0.859366935465605,-7.692566322732022,-8.883157548276166,-9.484508650539624,3.2335436222288454,-6.985088253108886,3.2520229817843216,-1.7379945289771932,-8.16155421585172,2.89757728779432,3.439373480689582,3.3057451045296027,-2.4484900513459547,-4.069488409567885,1.4686130438236749,8.423238624427395,3.9778291648103536,-2.1623922664555373,3.0669691911172077,-7.215209445911331,-6.435302258182496,7.903268827834054,8.87247784893097,-9.503588654816934,1.5886477138776733,4.087205525468123,-4.35688774367337,-4.383138304618257,-9.126544190186024,7.518760074709551,0.12801052552860526,5.653444624010685,8.458457824037144,-2.4832947493049424,-9.571314741747226,0.7777706420293367,-5.123725758317836,-5.05595554159137,3.3553781501817532,-5.450889751092339,-5.324788122347548,8.364397392326293,-0.37265478518497375,3.327249854690839,-4.7568740245264385,-4.269243717260684,6.104271765525262,-1.27496476831503,-4.774783180646298,3.455867142034405,5.8945447408054505,0.31985413820405917,1.0096524228354617,-8.523970963904828,5.751362575004835,-5.2512011423122456,2.484022811801154,-8.210859791194434,-4.322843264273313,9.789278425474503,-6.342894461996749,-5.8907276247075036,-6.590697234291049,4.966214456311045,1.4043179963256627,-1.7943713761897069,-3.2401468486703866,7.424528831784489],\"z\":[-4.322238625245367,10.587544226698151,15.956834372948602,-24.118734281192836,43.03103887603767,8.673226723173187,-37.32842570664192,48.08611038386938,-3.2526139476671467,-58.35131823646445,1.7915103819266172,7.5355878907083875,48.06985427825053,-30.140213183551882,-37.05117485816969,-2.896576185721649,-25.39469534396691,20.207491374139188,24.835891007420518,-15.02168247520201,-31.5565746768409,21.622826438280093,-3.1105898318596026,-1.5727801442395393,-30.382534487215782,-26.64353001211442,-19.624259800418862,-3.6166877451312978,2.254845320840777,16.665146886670513,-29.85586440179927,-32.51780341760174,-36.16779071384342,-55.203838233167616,18.60115851605079,-42.049974989023426,11.014016573058456,60.4332617310758,-30.04071977699162,12.932263268652443,8.65368596546081,-52.5827787019917,18.992251925771118,-28.885221336890016,-43.0048305368705,43.71039965678433,-21.707928957652857,-45.289241791864995,3.717731480730129,19.879669718842305,1.518927739835374,62.53843975054946,-2.363213465074807,13.078179353668029,-28.630211504431674,45.74072425681382,-45.34905223192838,64.38411997274352,46.43177478380356,-19.90279869339649,-18.086446780813617,-14.012085453418948,-29.05306996384397,-33.26116932268776,-0.5995667348006837,-34.96214835335657,40.87884118079262,-55.32602596679479,33.39077539019783,20.019425682900504,36.91485922806422,36.08881898094279,-33.186412518442324,-22.316438160712327,68.67557968987155,49.84065854286686,-52.11208654923011,-59.57625979490673,-44.833485515206775,-51.474537518315245,-4.33694649109222,-15.679281843784626,73.01682688573676,20.476851052866177,-33.285659512314055,30.623661516831366,32.857597535464855,2.1376947847960643,4.270938523426606,12.190254855713516,46.68671016257089,-43.985653212830655,-51.76112218127973,-32.07344550714345,-36.09992379085959,45.27578558299767,27.950673634759635,1.0644595024829098,-14.075436759016785,21.782712643570846],\"type\":\"scatter3d\"}],                        {\"scene\":{\"camera\":{\"eye\":{\"x\":-1,\"y\":-2,\"z\":0.5}},\"xaxis\":{\"title\":{\"text\":\"Feature 1\"}},\"yaxis\":{\"title\":{\"text\":\"Feature 2\"}},\"zaxis\":{\"title\":{\"text\":\"Response\"}}},\"title\":{\"text\":\"$\\\\text{(4) Bivariate Linear Regression}$\"},\"template\":{\"data\":{\"barpolar\":[{\"marker\":{\"line\":{\"color\":\"white\",\"width\":0.5},\"pattern\":{\"fillmode\":\"overlay\",\"size\":10,\"solidity\":0.2}},\"type\":\"barpolar\"}],\"bar\":[{\"error_x\":{\"color\":\"rgb(36,36,36)\"},\"error_y\":{\"color\":\"rgb(36,36,36)\"},\"marker\":{\"line\":{\"color\":\"white\",\"width\":0.5},\"pattern\":{\"fillmode\":\"overlay\",\"size\":10,\"solidity\":0.2}},\"type\":\"bar\"}],\"carpet\":[{\"aaxis\":{\"endlinecolor\":\"rgb(36,36,36)\",\"gridcolor\":\"white\",\"linecolor\":\"white\",\"minorgridcolor\":\"white\",\"startlinecolor\":\"rgb(36,36,36)\"},\"baxis\":{\"endlinecolor\":\"rgb(36,36,36)\",\"gridcolor\":\"white\",\"linecolor\":\"white\",\"minorgridcolor\":\"white\",\"startlinecolor\":\"rgb(36,36,36)\"},\"type\":\"carpet\"}],\"choropleth\":[{\"colorbar\":{\"outlinewidth\":1,\"tickcolor\":\"rgb(36,36,36)\",\"ticks\":\"outside\"},\"type\":\"choropleth\"}],\"contourcarpet\":[{\"colorbar\":{\"outlinewidth\":1,\"tickcolor\":\"rgb(36,36,36)\",\"ticks\":\"outside\"},\"type\":\"contourcarpet\"}],\"contour\":[{\"colorbar\":{\"outlinewidth\":1,\"tickcolor\":\"rgb(36,36,36)\",\"ticks\":\"outside\"},\"colorscale\":[[0.0,\"#440154\"],[0.1111111111111111,\"#482878\"],[0.2222222222222222,\"#3e4989\"],[0.3333333333333333,\"#31688e\"],[0.4444444444444444,\"#26828e\"],[0.5555555555555556,\"#1f9e89\"],[0.6666666666666666,\"#35b779\"],[0.7777777777777778,\"#6ece58\"],[0.8888888888888888,\"#b5de2b\"],[1.0,\"#fde725\"]],\"type\":\"contour\"}],\"heatmapgl\":[{\"colorbar\":{\"outlinewidth\":1,\"tickcolor\":\"rgb(36,36,36)\",\"ticks\":\"outside\"},\"colorscale\":[[0.0,\"#440154\"],[0.1111111111111111,\"#482878\"],[0.2222222222222222,\"#3e4989\"],[0.3333333333333333,\"#31688e\"],[0.4444444444444444,\"#26828e\"],[0.5555555555555556,\"#1f9e89\"],[0.6666666666666666,\"#35b779\"],[0.7777777777777778,\"#6ece58\"],[0.8888888888888888,\"#b5de2b\"],[1.0,\"#fde725\"]],\"type\":\"heatmapgl\"}],\"heatmap\":[{\"colorbar\":{\"outlinewidth\":1,\"tickcolor\":\"rgb(36,36,36)\",\"ticks\":\"outside\"},\"colorscale\":[[0.0,\"#440154\"],[0.1111111111111111,\"#482878\"],[0.2222222222222222,\"#3e4989\"],[0.3333333333333333,\"#31688e\"],[0.4444444444444444,\"#26828e\"],[0.5555555555555556,\"#1f9e89\"],[0.6666666666666666,\"#35b779\"],[0.7777777777777778,\"#6ece58\"],[0.8888888888888888,\"#b5de2b\"],[1.0,\"#fde725\"]],\"type\":\"heatmap\"}],\"histogram2dcontour\":[{\"colorbar\":{\"outlinewidth\":1,\"tickcolor\":\"rgb(36,36,36)\",\"ticks\":\"outside\"},\"colorscale\":[[0.0,\"#440154\"],[0.1111111111111111,\"#482878\"],[0.2222222222222222,\"#3e4989\"],[0.3333333333333333,\"#31688e\"],[0.4444444444444444,\"#26828e\"],[0.5555555555555556,\"#1f9e89\"],[0.6666666666666666,\"#35b779\"],[0.7777777777777778,\"#6ece58\"],[0.8888888888888888,\"#b5de2b\"],[1.0,\"#fde725\"]],\"type\":\"histogram2dcontour\"}],\"histogram2d\":[{\"colorbar\":{\"outlinewidth\":1,\"tickcolor\":\"rgb(36,36,36)\",\"ticks\":\"outside\"},\"colorscale\":[[0.0,\"#440154\"],[0.1111111111111111,\"#482878\"],[0.2222222222222222,\"#3e4989\"],[0.3333333333333333,\"#31688e\"],[0.4444444444444444,\"#26828e\"],[0.5555555555555556,\"#1f9e89\"],[0.6666666666666666,\"#35b779\"],[0.7777777777777778,\"#6ece58\"],[0.8888888888888888,\"#b5de2b\"],[1.0,\"#fde725\"]],\"type\":\"histogram2d\"}],\"histogram\":[{\"marker\":{\"line\":{\"color\":\"white\",\"width\":0.6}},\"type\":\"histogram\"}],\"mesh3d\":[{\"colorbar\":{\"outlinewidth\":1,\"tickcolor\":\"rgb(36,36,36)\",\"ticks\":\"outside\"},\"type\":\"mesh3d\"}],\"parcoords\":[{\"line\":{\"colorbar\":{\"outlinewidth\":1,\"tickcolor\":\"rgb(36,36,36)\",\"ticks\":\"outside\"}},\"type\":\"parcoords\"}],\"pie\":[{\"automargin\":true,\"type\":\"pie\"}],\"scatter3d\":[{\"line\":{\"colorbar\":{\"outlinewidth\":1,\"tickcolor\":\"rgb(36,36,36)\",\"ticks\":\"outside\"}},\"marker\":{\"colorbar\":{\"outlinewidth\":1,\"tickcolor\":\"rgb(36,36,36)\",\"ticks\":\"outside\"}},\"type\":\"scatter3d\"}],\"scattercarpet\":[{\"marker\":{\"colorbar\":{\"outlinewidth\":1,\"tickcolor\":\"rgb(36,36,36)\",\"ticks\":\"outside\"}},\"type\":\"scattercarpet\"}],\"scattergeo\":[{\"marker\":{\"colorbar\":{\"outlinewidth\":1,\"tickcolor\":\"rgb(36,36,36)\",\"ticks\":\"outside\"}},\"type\":\"scattergeo\"}],\"scattergl\":[{\"marker\":{\"colorbar\":{\"outlinewidth\":1,\"tickcolor\":\"rgb(36,36,36)\",\"ticks\":\"outside\"}},\"type\":\"scattergl\"}],\"scattermapbox\":[{\"marker\":{\"colorbar\":{\"outlinewidth\":1,\"tickcolor\":\"rgb(36,36,36)\",\"ticks\":\"outside\"}},\"type\":\"scattermapbox\"}],\"scatterpolargl\":[{\"marker\":{\"colorbar\":{\"outlinewidth\":1,\"tickcolor\":\"rgb(36,36,36)\",\"ticks\":\"outside\"}},\"type\":\"scatterpolargl\"}],\"scatterpolar\":[{\"marker\":{\"colorbar\":{\"outlinewidth\":1,\"tickcolor\":\"rgb(36,36,36)\",\"ticks\":\"outside\"}},\"type\":\"scatterpolar\"}],\"scatter\":[{\"marker\":{\"colorbar\":{\"outlinewidth\":1,\"tickcolor\":\"rgb(36,36,36)\",\"ticks\":\"outside\"}},\"type\":\"scatter\"}],\"scatterternary\":[{\"marker\":{\"colorbar\":{\"outlinewidth\":1,\"tickcolor\":\"rgb(36,36,36)\",\"ticks\":\"outside\"}},\"type\":\"scatterternary\"}],\"surface\":[{\"colorbar\":{\"outlinewidth\":1,\"tickcolor\":\"rgb(36,36,36)\",\"ticks\":\"outside\"},\"colorscale\":[[0.0,\"#440154\"],[0.1111111111111111,\"#482878\"],[0.2222222222222222,\"#3e4989\"],[0.3333333333333333,\"#31688e\"],[0.4444444444444444,\"#26828e\"],[0.5555555555555556,\"#1f9e89\"],[0.6666666666666666,\"#35b779\"],[0.7777777777777778,\"#6ece58\"],[0.8888888888888888,\"#b5de2b\"],[1.0,\"#fde725\"]],\"type\":\"surface\"}],\"table\":[{\"cells\":{\"fill\":{\"color\":\"rgb(237,237,237)\"},\"line\":{\"color\":\"white\"}},\"header\":{\"fill\":{\"color\":\"rgb(217,217,217)\"},\"line\":{\"color\":\"white\"}},\"type\":\"table\"}]},\"layout\":{\"annotationdefaults\":{\"arrowhead\":0,\"arrowwidth\":1},\"autotypenumbers\":\"strict\",\"coloraxis\":{\"colorbar\":{\"outlinewidth\":1,\"tickcolor\":\"rgb(36,36,36)\",\"ticks\":\"outside\"}},\"colorscale\":{\"diverging\":[[0.0,\"rgb(103,0,31)\"],[0.1,\"rgb(178,24,43)\"],[0.2,\"rgb(214,96,77)\"],[0.3,\"rgb(244,165,130)\"],[0.4,\"rgb(253,219,199)\"],[0.5,\"rgb(247,247,247)\"],[0.6,\"rgb(209,229,240)\"],[0.7,\"rgb(146,197,222)\"],[0.8,\"rgb(67,147,195)\"],[0.9,\"rgb(33,102,172)\"],[1.0,\"rgb(5,48,97)\"]],\"sequential\":[[0.0,\"#440154\"],[0.1111111111111111,\"#482878\"],[0.2222222222222222,\"#3e4989\"],[0.3333333333333333,\"#31688e\"],[0.4444444444444444,\"#26828e\"],[0.5555555555555556,\"#1f9e89\"],[0.6666666666666666,\"#35b779\"],[0.7777777777777778,\"#6ece58\"],[0.8888888888888888,\"#b5de2b\"],[1.0,\"#fde725\"]],\"sequentialminus\":[[0.0,\"#440154\"],[0.1111111111111111,\"#482878\"],[0.2222222222222222,\"#3e4989\"],[0.3333333333333333,\"#31688e\"],[0.4444444444444444,\"#26828e\"],[0.5555555555555556,\"#1f9e89\"],[0.6666666666666666,\"#35b779\"],[0.7777777777777778,\"#6ece58\"],[0.8888888888888888,\"#b5de2b\"],[1.0,\"#fde725\"]]},\"colorway\":[\"#1F77B4\",\"#FF7F0E\",\"#2CA02C\",\"#D62728\",\"#9467BD\",\"#8C564B\",\"#E377C2\",\"#7F7F7F\",\"#BCBD22\",\"#17BECF\"],\"font\":{\"color\":\"rgb(36,36,36)\"},\"geo\":{\"bgcolor\":\"white\",\"lakecolor\":\"white\",\"landcolor\":\"white\",\"showlakes\":true,\"showland\":true,\"subunitcolor\":\"white\"},\"hoverlabel\":{\"align\":\"left\"},\"hovermode\":\"closest\",\"mapbox\":{\"style\":\"light\"},\"paper_bgcolor\":\"white\",\"plot_bgcolor\":\"white\",\"polar\":{\"angularaxis\":{\"gridcolor\":\"rgb(232,232,232)\",\"linecolor\":\"rgb(36,36,36)\",\"showgrid\":false,\"showline\":true,\"ticks\":\"outside\"},\"bgcolor\":\"white\",\"radialaxis\":{\"gridcolor\":\"rgb(232,232,232)\",\"linecolor\":\"rgb(36,36,36)\",\"showgrid\":false,\"showline\":true,\"ticks\":\"outside\"}},\"scene\":{\"xaxis\":{\"backgroundcolor\":\"white\",\"gridcolor\":\"rgb(232,232,232)\",\"gridwidth\":2,\"linecolor\":\"rgb(36,36,36)\",\"showbackground\":true,\"showgrid\":false,\"showline\":true,\"ticks\":\"outside\",\"zeroline\":false,\"zerolinecolor\":\"rgb(36,36,36)\"},\"yaxis\":{\"backgroundcolor\":\"white\",\"gridcolor\":\"rgb(232,232,232)\",\"gridwidth\":2,\"linecolor\":\"rgb(36,36,36)\",\"showbackground\":true,\"showgrid\":false,\"showline\":true,\"ticks\":\"outside\",\"zeroline\":false,\"zerolinecolor\":\"rgb(36,36,36)\"},\"zaxis\":{\"backgroundcolor\":\"white\",\"gridcolor\":\"rgb(232,232,232)\",\"gridwidth\":2,\"linecolor\":\"rgb(36,36,36)\",\"showbackground\":true,\"showgrid\":false,\"showline\":true,\"ticks\":\"outside\",\"zeroline\":false,\"zerolinecolor\":\"rgb(36,36,36)\"}},\"shapedefaults\":{\"fillcolor\":\"black\",\"line\":{\"width\":0},\"opacity\":0.3},\"ternary\":{\"aaxis\":{\"gridcolor\":\"rgb(232,232,232)\",\"linecolor\":\"rgb(36,36,36)\",\"showgrid\":false,\"showline\":true,\"ticks\":\"outside\"},\"baxis\":{\"gridcolor\":\"rgb(232,232,232)\",\"linecolor\":\"rgb(36,36,36)\",\"showgrid\":false,\"showline\":true,\"ticks\":\"outside\"},\"bgcolor\":\"white\",\"caxis\":{\"gridcolor\":\"rgb(232,232,232)\",\"linecolor\":\"rgb(36,36,36)\",\"showgrid\":false,\"showline\":true,\"ticks\":\"outside\"}},\"title\":{\"x\":0.05},\"xaxis\":{\"automargin\":true,\"gridcolor\":\"rgb(232,232,232)\",\"linecolor\":\"rgb(36,36,36)\",\"showgrid\":false,\"showline\":true,\"ticks\":\"outside\",\"title\":{\"standoff\":15},\"zeroline\":false,\"zerolinecolor\":\"rgb(36,36,36)\"},\"yaxis\":{\"automargin\":true,\"gridcolor\":\"rgb(232,232,232)\",\"linecolor\":\"rgb(36,36,36)\",\"showgrid\":false,\"showline\":true,\"ticks\":\"outside\",\"title\":{\"standoff\":15},\"zeroline\":false,\"zerolinecolor\":\"rgb(36,36,36)\"},\"margin\":{\"b\":0,\"l\":20,\"r\":20,\"t\":40}}}},                        {\"responsive\": true}                    ).then(function(){\n                            \nvar gd = document.getElementById('a51b803b-adc8-4286-b0dd-afedb5937632');\nvar x = new MutationObserver(function (mutations, observer) {{\n        var display = window.getComputedStyle(gd).display;\n        if (!display || display === 'none') {{\n            console.log([gd, 'removed!']);\n            Plotly.purge(gd);\n            observer.disconnect();\n        }}\n}});\n\n// Listen for the removal of the full notebook cells\nvar notebookContainer = gd.closest('#notebook-container');\nif (notebookContainer) {{\n    x.observe(notebookContainer, {childList: true});\n}}\n\n// Listen for the clearing of the current output cell\nvar outputEl = gd.closest('.output');\nif (outputEl) {{\n    x.observe(outputEl, {childList: true});\n}}\n\n                        })                };                });            </script>        </div>"
     },
     "metadata": {},
     "output_type": "display_data"
    }
   ],
   "source": [
    "go.Figure([go.Surface(x=xv1, y=xv2, z=surface, opacity=.5, showscale=False),\n",
    "           go.Scatter3d(name=\"Real (noise-less) Points\", x=x[:,0], y=x[:,1], z=y_,    mode=\"markers\", marker=dict(color=\"black\", size=2)),\n",
    "           go.Scatter3d(name=\"Observed Points\",          x=x[:,0], y=x[:,1], z=y,     mode=\"markers\", marker=dict(color=\"red\", size=2)),\n",
    "           go.Scatter3d(name=\"Predicted Points\",         x=x[:,0], y=x[:,1], z=y_hat, mode=\"markers\", marker=dict(color=\"blue\", size=2))],\n",
    "          layout=go.Layout(\n",
    "              title=r\"$\\text{(4) Bivariate Linear Regression}$\",\n",
    "              scene=dict(xaxis=dict(title=\"Feature 1\"),\n",
    "                         yaxis=dict(title=\"Feature 2\"),\n",
    "                         zaxis=dict(title=\"Response\"),\n",
    "                         camera=dict(eye=dict(x=-1, y=-2, z=.5)))\n",
    "          )).show()"
   ]
  },
  {
   "cell_type": "markdown",
   "metadata": {
    "pycharm": {
     "name": "#%% md\n"
    }
   },
   "source": [
    "# Time To Think...\n",
    "In the scenario above we performed a linear regression over observations with more than two features (i.e multi-variate\n",
    "linear regression). In gradient color we see the subspace from which our data-points are drawn. As we have 2 features, the subspace is a 2D plane.\n",
    "\n",
    "Try rotating the figure above and look at the plane from its different axes (such that it looks like a line rather than a plane). This view allows you to see the fit between the one specific feature and the response, similar to the case of fitting a simple linear regression using that feature. \n",
    "\n",
    "Run the code generating the data and graph with more/less samples and high/lower noise levels. How do these changes influence the quality of the fit? "
   ]
  }
 ],
 "metadata": {
  "kernelspec": {
   "display_name": "Python 3",
   "language": "python",
   "name": "python3"
  },
  "language_info": {
   "codemirror_mode": {
    "name": "ipython",
    "version": 3
   },
   "file_extension": ".py",
   "mimetype": "text/x-python",
   "name": "python",
   "nbconvert_exporter": "python",
   "pygments_lexer": "ipython3",
   "version": "3.7.10"
  }
 },
 "nbformat": 4,
 "nbformat_minor": 1
}